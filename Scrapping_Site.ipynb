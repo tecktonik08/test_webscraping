{
 "cells": [
  {
   "cell_type": "markdown",
   "id": "67438a20",
   "metadata": {},
   "source": [
    "## 채용공고 scrapping"
   ]
  },
  {
   "cell_type": "code",
   "execution_count": null,
   "id": "d46b690a",
   "metadata": {},
   "outputs": [],
   "source": [
    "# pip install selenium"
   ]
  },
  {
   "cell_type": "code",
   "execution_count": 1,
   "id": "660330d0",
   "metadata": {},
   "outputs": [],
   "source": [
    "from selenium import webdriver"
   ]
  },
  {
   "cell_type": "code",
   "execution_count": 2,
   "id": "78460607",
   "metadata": {
    "scrolled": true
   },
   "outputs": [],
   "source": [
    "browser = webdriver.Chrome('./chromedriver.exe')"
   ]
  },
  {
   "cell_type": "code",
   "execution_count": 3,
   "id": "43f66267",
   "metadata": {},
   "outputs": [],
   "source": [
    "browser.get('https://www.jobindexworld.com/jobpost/list')"
   ]
  },
  {
   "cell_type": "code",
   "execution_count": 4,
   "id": "ad586753",
   "metadata": {},
   "outputs": [],
   "source": [
    "html = browser.page_source"
   ]
  },
  {
   "cell_type": "code",
   "execution_count": 5,
   "id": "ac9f8ae3",
   "metadata": {},
   "outputs": [],
   "source": [
    "from bs4 import BeautifulSoup"
   ]
  },
  {
   "cell_type": "code",
   "execution_count": 6,
   "id": "6d6af9a9",
   "metadata": {},
   "outputs": [],
   "source": [
    "soup = BeautifulSoup(html, 'html.parser')"
   ]
  },
  {
   "cell_type": "markdown",
   "id": "06602431",
   "metadata": {},
   "source": [
    "### 채용공고 list를 클릭해서 들어가기"
   ]
  },
  {
   "cell_type": "markdown",
   "id": "e252632a",
   "metadata": {},
   "source": [
    "추가해야될 것\n",
    "\n",
    "대상 사이트명 : target_name\t# 프로그래머스\n",
    "대상 URL : target_url\n",
    "상세대상 URL : detail_target_url\n",
    "대분류명 : category_big\t# 공통 IT\n",
    "중분류명 : category_middle\n",
    "소분류명 : category_small\n",
    "주요 검색어 : search_word  # 사용했을 시"
   ]
  },
  {
   "cell_type": "code",
   "execution_count": 23,
   "id": "46e40819",
   "metadata": {},
   "outputs": [
    {
     "name": "stdout",
     "output_type": "stream",
     "text": [
      "0 번째 페이지\n",
      "0 2번 스크래핑 양식\n",
      "['Compliance Manager'] ['https://www.jobindexworld.com/jobpost/view/53403'] ['최수현'] [['#Compliance', '#법무', '#금융', '#은행', '#브레인202_최수현헤드헌터']] ['21.09.08'] ['채용시까지'] [' '] ['Senior,Lead,Manager'] ['협의'] [' '] ['학사'] 20210909\n",
      "1 번째 페이지\n",
      "1 2번 스크래핑 양식\n",
      "['카피라이터'] ['https://www.jobindexworld.com/jobpost/view/53393'] ['김명준'] [['#광고기획AE']] ['21.09.08'] ['채용시까지'] [' '] ['Junior'] ['3천만이상~5천만미만'] [' '] ['학사'] 20210909\n",
      "2 번째 페이지\n",
      "2 2번 스크래핑 양식\n",
      "['외국계 홍보담당자 채용'] ['https://www.jobindexworld.com/jobpost/view/53394'] ['하철호'] [['#홍보', '#언론홍보', '##피플케어코리아_하철호헤드헌터', '#외국계']] ['21.09.08'] ['채용시까지'] [' '] ['Junior,mid-level'] ['5천만이상~6천만미만'] [' '] ['학사,석사/MBA'] 20210909\n",
      "3 번째 페이지\n",
      "3 2번 스크래핑 양식\n",
      "['<재무회계> 3~7년 경력자'] ['https://www.jobindexworld.com/jobpost/view/53392'] ['김명준'] [['#재무회계', '#월결산', '#자금집행']] ['21.09.08'] ['채용시까지'] [' '] ['Junior'] ['4천5백만이상~4천만미만'] [' '] ['전문학사'] 20210909\n",
      "4 번째 페이지\n",
      "4 2번 스크래핑 양식\n",
      "['IMC \\xa0캠페인 AE (외국 자동차 / 글로벌브랜드)'] ['https://www.jobindexworld.com/jobpost/view/53386'] ['이광희'] [['#IMC마케팅', '#HR컨설팅_이광희헤드헌터']] ['21.09.07'] ['채용시까지'] [' '] ['mid-level'] ['협의'] [' '] ['상관없음'] 20210909\n",
      "5 번째 페이지\n",
      "5 1번 스크래핑 양식\n",
      "['Channel Partner Marketing Manager'] ['https://www.jobindexworld.com/jobpost/view/53395'] ['노경주'] [['#채널마케팅', '#채널전략', '#채널관리', '#마케팅기획및실행', '#제휴마케팅기획']] ['21.09.08'] ['채용시까지'] [\"-\\xa0Develop and lead partner marketing plan in alignment with partner\\xa0sales growth and revenue objectives.-\\xa0Align fully with the Field Marketing strategy\\xa0-\\xa0Engage with key partners to develop joint marketing plans that\\xa0support the objectives outlined in the partner's business plan and in line\\xa0with\\xa0 company’s strategy.\"] ['-\\xa0Degree level in marketing, business, computer science or related\\xa0field; or equivalent experience.-\\xa0Minimum of 5 years’ experience working in marketing with channel\\xa0partners and channel programs.- As a key member of the field marketing team, have the ability to\\xa0work in cross-functional teams and collaborate closely with colleagues,\\xa0\\xa0\\xa0customers, partners and suppliers.-\\xa0Ability to prioritize in a results-driven environment.-\\xa0Aptitude for technology and ability to connect technical concepts\\xa0with customer value.-\\xa0Outstanding written and verbal communication skills with a high\\xa0level of attention to detail.-\\xa0Must have a hands-on attitude, be a self-starter and able to\\xa0creatively use limited resources.'] ['- Negotiable'] ['- 영문 이력서'] [' '] 20210909\n",
      "6 번째 페이지\n",
      "6 1번 스크래핑 양식\n",
      "['개발기획 (주임급)'] ['https://www.jobindexworld.com/jobpost/view/42183'] ['윤선아'] [['#인허가', '#개발기획', '#부동산개발기획']] ['21.06.28'] ['채용시까지'] ['-\\xa0사업장 개발기획 관련 업무 (대관 및 인허가 관리, 개발계획 수립)'] ['- 해당 경력 관련 1년 ~ 3년차 (주니어1명 )'] ['- 협의 후 결정'] ['- 국/영문 이력서 및 자기소개서'] [' '] 20210909\n",
      "7 번째 페이지\n",
      "7 1번 스크래핑 양식\n",
      "['ios 개발자'] ['https://www.jobindexworld.com/jobpost/view/41214'] ['노을 '] [['#iOS', '#IOS앱개발', '#iOS개발', '#Swift', '#네이티브', '#안드로이드앱개발']] ['21.02.05'] ['채용시까지'] ['- ios 앱 개발 및 운영'] ['- Swift 능숙- RxSwift, Texture, Alamofire 등과 비동기 처리에 능숙- iOS GUI 구현에 능숙- 외부 라이브러리, 오픈소스 연동 경험- iOS 네이티브 앱 개발, 마켓 서비스, 6개월 이상 운영 경험- MVP, MVVM 등 아키텍처에 대한 이해- 개발자로서 계속해서 성장하고자 하는 자세- 버전 관리 툴(Git) 익숙'] ['- 협의'] ['- 국문 이력서 (포트폴리오 보유시 함께 제출 요망)'] [' '] 20210909\n",
      "8 번째 페이지\n",
      "8 2번 스크래핑 양식\n",
      "['SW기술품질(과장-차장)'] ['https://www.jobindexworld.com/jobpost/view/53404'] ['최수현'] [['#IT', '#SW', '#품질', '#JIRA', '#브레인202_최수현헤드헌터']] ['21.09.08'] ['채용시까지'] [' '] ['Senior,Lead,Manager'] ['협의'] [' '] ['학사'] 20210909\n",
      "9 번째 페이지\n",
      "9 2번 스크래핑 양식\n",
      "['운영품질 QAM(대리-과장)'] ['https://www.jobindexworld.com/jobpost/view/53405'] ['최수현'] [['#IT', '#ITSM', '#ITinfra', '#품질', '#QA', '#브레인202_최수현헤드헌터']] ['21.09.08'] ['채용시까지'] [' '] ['mid-level,Senior,Lead'] ['협의'] [' '] ['학사'] 20210909\n",
      "10 번째 페이지\n",
      "10 1번 스크래핑 양식\n",
      "['상품개발/기획'] ['https://www.jobindexworld.com/jobpost/view/53397'] ['안상녀'] [['#홈쇼핑상품개발']] ['21.09.08'] ['채용시까지'] ['-\\xa0건강(기능)식품 개발 및 광고심의 진행-\\xa0홈쇼핑 시장조사 및 전용상품 개발-\\xa0홈쇼핑 방송기획 및 광고물 제작 (웹기술서, 인서트 영상, 방송대본, PPL등)-\\xa0상품 및 브랜드 관리-\\xa0OEM제조업체 수배 및 관리'] ['-\\xa0유관 경력 5년\\xa0이상-\\xa0우수한 커뮤니케이션 능력-\\xa0컴퓨터 활용능력'] ['- 협의'] ['- 국문 이력서 및 자기소개서'] [' '] 20210909\n",
      "11 번째 페이지\n",
      "11 1번 스크래핑 양식\n",
      "['언론홍보'] ['https://www.jobindexworld.com/jobpost/view/53398'] ['이재환'] [['#언론홍보']] ['21.09.08'] ['채용시까지'] ['1. 언론홍보 전반'] ['- 언론 홍보 관련 업무 경력 6년 이상- 홍보 업무 및 사회공헌 업무 등을 위한 전략적 기획력 보유- 각종 홍보 자료 작성 경험 및 스킬- 미디어 네트워크 및 원활한 커뮤니케이션 스킬 보유\\xa0- 원활한 대인관계 및 팀워크 우수- 게임 및 게임 산업 전반에 대한 관심과 이해'] ['- 협의'] ['- 국문 이력서 및 자기소개서'] [' '] 20210909\n",
      "12 번째 페이지\n",
      "12 1번 스크래핑 양식\n",
      "['채용 담당'] ['https://www.jobindexworld.com/jobpost/view/53400'] ['이재환'] [['#인사채용', '#인재채용']] ['21.09.08'] ['채용시까지'] ['- 온/오프라인 채널 및 네트워크 확보를 통한 인재 소싱 및 영입'] ['- 채용 운영 및 기획 업무 관련 경력 2년이상'] ['- 협의'] ['- 국문 이력서 및 자기소개서'] [' '] 20210909\n",
      "13 번째 페이지\n",
      "14 번째 페이지\n",
      "14 2번 스크래핑 양식\n",
      "['BTL 광고기획 AE (외국계)'] ['https://www.jobindexworld.com/jobpost/view/53402'] ['JOB'] [['#BTL', '#광고기획', '#외국계', '#HR컨설팅_이광희헤드헌터']] ['21.09.08'] ['채용시까지'] [' '] ['Junior,mid-level'] ['협의'] [' '] ['학사'] 20210909\n",
      "15 번째 페이지\n",
      "15 2번 스크래핑 양식\n",
      "['소비재대기업 내부감사 경력자 채용 (과~차장급)'] ['https://www.jobindexworld.com/jobpost/view/53401'] ['JOB'] [['#내부감사', '#소비재대기업', '#피플케어코리아_하철호헤드헌터']] ['21.09.08'] ['2021-10-08'] [' '] ['Senior,Lead'] ['협의'] [' '] ['학사'] 20210909\n",
      "16 번째 페이지\n",
      "16 2번 스크래핑 양식\n",
      "['DBA(대리-과장급)'] ['https://www.jobindexworld.com/jobpost/view/53388'] ['최수현'] [['#IT', '#data', '#DBA', '#Cloud', '#브레인202_최수현헤드헌터']] ['21.09.07'] ['채용시까지'] [' '] ['Junior,mid-level,Senior'] ['협의'] [' '] ['학사'] 20210909\n",
      "17 번째 페이지\n",
      "17 2번 스크래핑 양식\n",
      "['클라우드 인프라(네트워크)기술전문가(과-차장급)'] ['https://www.jobindexworld.com/jobpost/view/53387'] ['최수현'] [['#IT', '#Cloud', '#infra', '#네트워크', '#브레인202_최수현헤드헌터']] ['21.09.07'] ['채용시까지'] [' '] ['mid-level,Senior,Lead'] ['협의'] [' '] ['학사'] 20210909\n",
      "18 번째 페이지\n",
      "18 1번 스크래핑 양식\n",
      "['자금기획'] ['https://www.jobindexworld.com/jobpost/view/53391'] ['박성은'] [['#자금기획', '#자금운용', '#재무', '#파생상품']] ['21.09.07'] ['채용시까지'] ['- 자금 기획 및 보고- 자금 실적 및 추정 보고, 자회사 유동성 검토 및 보고- 금융 시장 동향 분석/보고 및 환율 예측- 외부 위탁 운용사 관리 (운용자금 인출 및 추가가입)- 금융상품 관련 회계처리'] ['- 자금 기획 및 자금 운용 업무 5년 이상\\xa0-\\xa0자금실적 및 추정을 수행하여, 경영진 보고를 위한 implication 도출 가능\\xa0-\\xa0금융, 외환, 파생상품에 대한 지식, 이해도'] ['- 협의'] ['- 국문 이력서 및 자기소개서'] [' '] 20210909\n",
      "19 번째 페이지\n",
      "19 1번 스크래핑 양식\n",
      "['인사총무'] ['https://www.jobindexworld.com/jobpost/view/53390'] ['유보비'] [['#인사총무', '#HRM', '#인사관리', '#인사행정']] ['21.09.07'] ['채용시까지'] ['- 급여 정산, 입퇴사 관리- 원천세 및 4대 보험 신고 및 관리- 연차, 근태, 취업규칙 등 전반적인 인사 관련 운영- 환경 및 자산관리 지원'] ['- 관련 경력 1년~ 3년\\xa0- 스타트업 경험자 우대'] ['- 협의가능'] ['- 국/영문 이력서 및 자기소개서'] [' '] 20210909\n"
     ]
    }
   ],
   "source": [
    "import datetime\n",
    "import time\n",
    "\n",
    "target_name = 'jobindex'\n",
    "target_url = 'https://www.jobindexworld.com/index'\n",
    "\n",
    "for i in range(20):\n",
    "    try:\n",
    "        recruit_title = [] # 주제\n",
    "        company_name = [] # 회사명 -> 회사개요\n",
    "        detail_uri = [] # 내용 url\n",
    "\n",
    "        apply_start_date = [] # 모집기간\n",
    "        apply_end_date = [] # 모집기한\n",
    "\n",
    "        task = [] # 직무개요\n",
    "        career_requirements = [] # 교육요건\n",
    "        need_career = [] # 경력요건\n",
    "        team_env = [] # 처우\n",
    "        need_doc = [] # 제출서류\n",
    "\n",
    "        contact_people = [] # 담당컨설턴트\n",
    "        hashtag =[] # 해시태그\n",
    "        now = datetime.datetime.now()\n",
    "        create_date = now.strftime(\"%Y%m%d\") # 스크래핑 날짜\n",
    "\n",
    "        # click해서 들어간 창\n",
    "        print(i,'번째 페이지')\n",
    "        browser.find_elements_by_css_selector('article.cpn-circle-conts-item')[i].click() # 클릭 페이지\n",
    "        time.sleep(1)\n",
    "        html_scraping = browser.page_source \n",
    "        soup_scraping = BeautifulSoup(html_scraping, 'html.parser')\n",
    "\n",
    "        tags_signs = soup_scraping.select('div.circle-conts-view-main-conts-box-question > div') # '◈' 기호와 if문을 통해 form을 선별\n",
    "\n",
    "        recruit = soup_scraping.select('article.circle-conts-view > h3.tit-h3') # 주제, 제목\n",
    "        recruit_t = recruit[0].text.strip()\n",
    "        recruit_title.append(recruit_t)\n",
    "\n",
    "\n",
    "        uri = soup_scraping.select('meta[property=\"og:url\"]') # 구직 회사 내용 화면\n",
    "        uri_t = uri[0]['content']\n",
    "        detail_uri.append(uri_t)\n",
    "\n",
    "        start_date = soup_scraping.select('div.date')\n",
    "        start_date_t = start_date[0].text.strip()[1:9] # 날짜, 시간 -> data time: https://docs.python.org/ko/3/library/datetime.html\n",
    "        apply_start_date.append(start_date_t)\n",
    "\n",
    "    #---------------------------------------------------------------------------------------------------            \n",
    "        # 윗태그 2개 아래태그 5개 스크래핑 양식(career_requirements 컬럼이 없으므로 ' ' 추가)\n",
    "        if len(tags_signs) > 9:\n",
    "            tags_li = soup_scraping.select('div.circle-conts-view-main-conts-box-question > div > ul > li')\n",
    "            tags_li_data = []\n",
    "\n",
    "            for a in range(len(tags_li)):\n",
    "                tags_li_data.append(tags_li[a].text.strip().replace(' ','').replace('\\n','').split(':'))\n",
    "\n",
    "            for b in range(len(tags_li_data)):\n",
    "                if tags_li_data[b][0] == '회사개요':\n",
    "                    company.append(tags_li_data[b][1])\n",
    "                elif tags_li_data[b][0] == '모집기간':\n",
    "                    apply_end_date.append(tags_li_data[b][1])\n",
    "\n",
    "\n",
    "            tags = soup_scraping.select('div.circle-conts-view-main-conts-box-question > div')\n",
    "            tags = tags[1:len(tags)]\n",
    "            tags_data = []\n",
    "\n",
    "            for c in range(len(tags)):\n",
    "                tags_data.append(tags[c].text.strip().replace('◈ ',''))\n",
    "\n",
    "            for d in range(len(tags_data)):\n",
    "                if tags_data[d] == '직무 개요':\n",
    "                    task.append(tags_data[d+1])\n",
    "\n",
    "                elif tags_data[d] == '경력 요건':\n",
    "                    need_career.append(tags_data[d+1])\n",
    "\n",
    "                elif tags_data[d] == '처우':\n",
    "                    team_env.append(tags_data[d+1])\n",
    "\n",
    "                elif tags_data[d] == '제출 서류 및 기타':\n",
    "                    need_doc.append(tags_data[d+1])\n",
    "\n",
    "            career_requirements.append(' ')\n",
    "            print(i ,'1번 스크래핑 양식')\n",
    "\n",
    "    #-------------------------------------------------------------------------------------------------\n",
    "        # 윗태그 5개 스크래핑 양식(task, need_doc이 없으므로 ' '을 추가)\n",
    "        else:\n",
    "            tags_li = soup_scraping.select('div.circle-conts-view-main-conts-box-question > div > ul > li')\n",
    "            tags_li_data = []\n",
    "\n",
    "            for e in range(len(tags_li)):\n",
    "                tags_li_data.append(tags_li[e].text.strip().replace(' ','').replace('\\n','').split(':'))\n",
    "\n",
    "            for f in range(len(tags_li_data)):\n",
    "                if tags_li_data[f][0] == '회사개요':\n",
    "                    company.append(tags_li_data[f][1])\n",
    "\n",
    "                elif tags_li_data[f][0] == '경력레벨':\n",
    "                    need_career.append(tags_li_data[f][1])\n",
    "\n",
    "                elif tags_li_data[f][0] == '급여수준':\n",
    "                    team_env.append(tags_li_data[f][1])\n",
    "\n",
    "                elif tags_li_data[f][0] == '교육수준':\n",
    "                    career_requirements.append(tags_li_data[f][1])\n",
    "\n",
    "                elif tags_li_data[f][0] == '모집기간':\n",
    "                    apply_end_date.append(tags_li_data[f][1])\n",
    "\n",
    "\n",
    "            task.append(' ')\n",
    "            need_doc.append(' ')\n",
    "            print(i,'2번 스크래핑 양식')\n",
    "\n",
    "    #---------------------------------------------------------------------------------------------------       \n",
    "\n",
    "        contact = soup_scraping.select('span.writer-info') # 담당컨설턴트\n",
    "        contact_t = contact[0].text.strip()[0:3] # 이름 뽑아내기\n",
    "        contact_people.append(contact_t)\n",
    "\n",
    "        hash_col = []\n",
    "        hash = soup_scraping.select('div.keyword-wrap > a.keyword') # 해시태그\n",
    "        for j in range(len(hash)):  # 반복문으로 해시태그들을 뽑아 리스트로 만들기\n",
    "            hash_t = hash[j].text.strip()\n",
    "            hash_col.append(hash_t)\n",
    "        hashtag.append(hash_col)\n",
    "\n",
    "        print(recruit_title, detail_uri, contact_people, hashtag, apply_start_date, apply_end_date, task, need_career, team_env, need_doc, career_requirements, create_date)    \n",
    "        time.sleep(1)\n",
    "        browser.back()\n",
    "        # 더보기 button 클릭하기 태그 : i.icon-plus-sign-to-add\n",
    "    except:\n",
    "        pass"
   ]
  },
  {
   "cell_type": "code",
   "execution_count": 24,
   "id": "0f8764d9",
   "metadata": {},
   "outputs": [
    {
     "name": "stdout",
     "output_type": "stream",
     "text": [
      "0 번째 페이지\n",
      "0 2번 스크래핑 양식\n",
      "Compliance Manager https://www.jobindexworld.com/jobpost/view/53403 최수현 [['#Compliance', '#법무', '#금융', '#은행', '#브레인202_최수현헤드헌터']] 21.09.08 ['채용시까지']   [] []   [] 20210909\n",
      "1 번째 페이지\n",
      "1 2번 스크래핑 양식\n",
      "카피라이터 https://www.jobindexworld.com/jobpost/view/53393 김명준 [['#광고기획AE']] 21.09.08 ['채용시까지']   [] []   [] 20210909\n",
      "2 번째 페이지\n",
      "2 2번 스크래핑 양식\n",
      "외국계 홍보담당자 채용 https://www.jobindexworld.com/jobpost/view/53394 하철호 [['#홍보', '#언론홍보', '##피플케어코리아_하철호헤드헌터', '#외국계']] 21.09.08 ['채용시까지']   [] []   [] 20210909\n",
      "3 번째 페이지\n",
      "3 2번 스크래핑 양식\n",
      "<재무회계> 3~7년 경력자 https://www.jobindexworld.com/jobpost/view/53392 김명준 [['#재무회계', '#월결산', '#자금집행']] 21.09.08 ['채용시까지']   [] []   [] 20210909\n",
      "4 번째 페이지\n",
      "4 2번 스크래핑 양식\n",
      "IMC  캠페인 AE (외국 자동차 / 글로벌브랜드) https://www.jobindexworld.com/jobpost/view/53386 이광희 [['#IMC마케팅', '#HR컨설팅_이광희헤드헌터']] 21.09.07 ['채용시까지']   [] []   [] 20210909\n",
      "5 번째 페이지\n",
      "5 1번 스크래핑 양식\n",
      "Channel Partner Marketing Manager https://www.jobindexworld.com/jobpost/view/53395 노경주 [['#채널마케팅', '#채널전략', '#채널관리', '#마케팅기획및실행', '#제휴마케팅기획']] 21.09.08 채용시까지 - Develop and lead partner marketing plan in alignment with partner sales growth and revenue objectives.- Align fully with the Field Marketing strategy - Engage with key partners to develop joint marketing plans that support the objectives outlined in the partner's business plan and in line with  company’s strategy. - Degree level in marketing, business, computer science or related field; or equivalent experience.- Minimum of 5 years’ experience working in marketing with channel partners and channel programs.- As a key member of the field marketing team, have the ability to work in cross-functional teams and collaborate closely with colleagues,   customers, partners and suppliers.- Ability to prioritize in a results-driven environment.- Aptitude for technology and ability to connect technical concepts with customer value.- Outstanding written and verbal communication skills with a high level of attention to detail.- Must have a hands-on attitude, be a self-starter and able to creatively use limited resources. - Negotiable - 영문 이력서   20210909\n",
      "6 번째 페이지\n",
      "6 1번 스크래핑 양식\n",
      "개발기획 (주임급) https://www.jobindexworld.com/jobpost/view/42183 윤선아 [['#인허가', '#개발기획', '#부동산개발기획']] 21.06.28 채용시까지 - 사업장 개발기획 관련 업무 (대관 및 인허가 관리, 개발계획 수립) - 해당 경력 관련 1년 ~ 3년차 (주니어1명 ) - 협의 후 결정 - 국/영문 이력서 및 자기소개서   20210909\n",
      "7 번째 페이지\n",
      "7 1번 스크래핑 양식\n",
      "ios 개발자 https://www.jobindexworld.com/jobpost/view/41214 노을  [['#iOS', '#IOS앱개발', '#iOS개발', '#Swift', '#네이티브', '#안드로이드앱개발']] 21.02.05 채용시까지 - ios 앱 개발 및 운영 - Swift 능숙- RxSwift, Texture, Alamofire 등과 비동기 처리에 능숙- iOS GUI 구현에 능숙- 외부 라이브러리, 오픈소스 연동 경험- iOS 네이티브 앱 개발, 마켓 서비스, 6개월 이상 운영 경험- MVP, MVVM 등 아키텍처에 대한 이해- 개발자로서 계속해서 성장하고자 하는 자세- 버전 관리 툴(Git) 익숙 - 협의 - 국문 이력서 (포트폴리오 보유시 함께 제출 요망)   20210909\n",
      "8 번째 페이지\n",
      "8 2번 스크래핑 양식\n",
      "SW기술품질(과장-차장) https://www.jobindexworld.com/jobpost/view/53404 최수현 [['#IT', '#SW', '#품질', '#JIRA', '#브레인202_최수현헤드헌터']] 21.09.08 채용시까지   [] []   [] 20210909\n",
      "9 번째 페이지\n",
      "9 2번 스크래핑 양식\n",
      "운영품질 QAM(대리-과장) https://www.jobindexworld.com/jobpost/view/53405 최수현 [['#IT', '#ITSM', '#ITinfra', '#품질', '#QA', '#브레인202_최수현헤드헌터']] 21.09.08 채용시까지   [] []   [] 20210909\n",
      "10 번째 페이지\n",
      "10 1번 스크래핑 양식\n",
      "상품개발/기획 https://www.jobindexworld.com/jobpost/view/53397 안상녀 [['#홈쇼핑상품개발']] 21.09.08 채용시까지 - 건강(기능)식품 개발 및 광고심의 진행- 홈쇼핑 시장조사 및 전용상품 개발- 홈쇼핑 방송기획 및 광고물 제작 (웹기술서, 인서트 영상, 방송대본, PPL등)- 상품 및 브랜드 관리- OEM제조업체 수배 및 관리 - 유관 경력 5년 이상- 우수한 커뮤니케이션 능력- 컴퓨터 활용능력 - 협의 - 국문 이력서 및 자기소개서   20210909\n",
      "11 번째 페이지\n",
      "11 1번 스크래핑 양식\n",
      "언론홍보 https://www.jobindexworld.com/jobpost/view/53398 이재환 [['#언론홍보']] 21.09.08 채용시까지 1. 언론홍보 전반 - 언론 홍보 관련 업무 경력 6년 이상- 홍보 업무 및 사회공헌 업무 등을 위한 전략적 기획력 보유- 각종 홍보 자료 작성 경험 및 스킬- 미디어 네트워크 및 원활한 커뮤니케이션 스킬 보유 - 원활한 대인관계 및 팀워크 우수- 게임 및 게임 산업 전반에 대한 관심과 이해 - 협의 - 국문 이력서 및 자기소개서   20210909\n",
      "12 번째 페이지\n",
      "12 1번 스크래핑 양식\n",
      "채용 담당 https://www.jobindexworld.com/jobpost/view/53400 이재환 [['#인사채용', '#인재채용']] 21.09.08 채용시까지 - 온/오프라인 채널 및 네트워크 확보를 통한 인재 소싱 및 영입 - 채용 운영 및 기획 업무 관련 경력 2년이상 - 협의 - 국문 이력서 및 자기소개서   20210909\n",
      "13 번째 페이지\n",
      "14 번째 페이지\n",
      "14 2번 스크래핑 양식\n",
      "BTL 광고기획 AE (외국계) https://www.jobindexworld.com/jobpost/view/53402 JOB [['#BTL', '#광고기획', '#외국계', '#HR컨설팅_이광희헤드헌터']] 21.09.08 채용시까지   [] []   [] 20210909\n",
      "15 번째 페이지\n",
      "15 2번 스크래핑 양식\n",
      "소비재대기업 내부감사 경력자 채용 (과~차장급) https://www.jobindexworld.com/jobpost/view/53401 JOB [['#내부감사', '#소비재대기업', '#피플케어코리아_하철호헤드헌터']] 21.09.08 채용시까지   [] []   [] 20210909\n",
      "16 번째 페이지\n",
      "16 2번 스크래핑 양식\n",
      "DBA(대리-과장급) https://www.jobindexworld.com/jobpost/view/53388 최수현 [['#IT', '#data', '#DBA', '#Cloud', '#브레인202_최수현헤드헌터']] 21.09.07 채용시까지   [] []   [] 20210909\n",
      "17 번째 페이지\n",
      "17 2번 스크래핑 양식\n",
      "클라우드 인프라(네트워크)기술전문가(과-차장급) https://www.jobindexworld.com/jobpost/view/53387 최수현 [['#IT', '#Cloud', '#infra', '#네트워크', '#브레인202_최수현헤드헌터']] 21.09.07 채용시까지   [] []   [] 20210909\n",
      "18 번째 페이지\n",
      "18 1번 스크래핑 양식\n",
      "자금기획 https://www.jobindexworld.com/jobpost/view/53391 박성은 [['#자금기획', '#자금운용', '#재무', '#파생상품']] 21.09.07 채용시까지 - 자금 기획 및 보고- 자금 실적 및 추정 보고, 자회사 유동성 검토 및 보고- 금융 시장 동향 분석/보고 및 환율 예측- 외부 위탁 운용사 관리 (운용자금 인출 및 추가가입)- 금융상품 관련 회계처리 - 자금 기획 및 자금 운용 업무 5년 이상 - 자금실적 및 추정을 수행하여, 경영진 보고를 위한 implication 도출 가능 - 금융, 외환, 파생상품에 대한 지식, 이해도 - 협의 - 국문 이력서 및 자기소개서   20210909\n",
      "19 번째 페이지\n",
      "19 1번 스크래핑 양식\n",
      "인사총무 https://www.jobindexworld.com/jobpost/view/53390 유보비 [['#인사총무', '#HRM', '#인사관리', '#인사행정']] 21.09.07 채용시까지 - 급여 정산, 입퇴사 관리- 원천세 및 4대 보험 신고 및 관리- 연차, 근태, 취업규칙 등 전반적인 인사 관련 운영- 환경 및 자산관리 지원 - 관련 경력 1년~ 3년 - 스타트업 경험자 우대 - 협의가능 - 국/영문 이력서 및 자기소개서   20210909\n"
     ]
    }
   ],
   "source": [
    "import datetime\n",
    "import time\n",
    "\n",
    "for i in range(20):\n",
    "    try:\n",
    "        task = [] # 직무개요\n",
    "        career_requirements = [] # 교육요건\n",
    "        need_career = [] # 경력요건\n",
    "        team_env = [] # 처우\n",
    "        need_doc = [] # 제출서류\n",
    "\n",
    "        contact_people = [] # 담당컨설턴트\n",
    "        hashtag =[] # 해시태그\n",
    "        now = datetime.datetime.now()\n",
    "        create_date = now.strftime(\"%Y%m%d\") # 스크래핑 날짜\n",
    "\n",
    "        # click해서 들어간 창\n",
    "        print(i,'번째 페이지')\n",
    "        browser.find_elements_by_css_selector('article.cpn-circle-conts-item')[i].click() # 클릭 페이지\n",
    "        time.sleep(1)\n",
    "        html_scraping = browser.page_source \n",
    "        soup_scraping = BeautifulSoup(html_scraping, 'html.parser')\n",
    "\n",
    "        tags_signs = soup_scraping.select('div.circle-conts-view-main-conts-box-question > div') # '◈' 기호와 if문을 통해 form을 선별\n",
    "\n",
    "        recruit = soup_scraping.select('article.circle-conts-view > h3.tit-h3') # 주제, 제목\n",
    "        recruit_title = recruit[0].text.strip()\n",
    "\n",
    "        uri = soup_scraping.select('meta[property=\"og:url\"]') # 구직 회사 내용 화면\n",
    "        detail_uri = uri[0]['content']\n",
    "\n",
    "        start_date = soup_scraping.select('div.date')\n",
    "        apply_start_date = start_date[0].text.strip()[1:9] # 날짜, 시간 -> data time: https://docs.python.org/ko/3/library/datetime.html\n",
    "\n",
    "    #---------------------------------------------------------------------------------------------------            \n",
    "        # 윗태그 2개 아래태그 5개 스크래핑 양식(career_requirements 컬럼이 없으므로 ' ' 추가)\n",
    "        if len(tags_signs) > 9:\n",
    "            tags_li = soup_scraping.select('div.circle-conts-view-main-conts-box-question > div > ul > li')\n",
    "            tags_li_data = []\n",
    "\n",
    "            for a in range(len(tags_li)):\n",
    "                tags_li_data.append(tags_li[a].text.strip().replace(' ','').replace('\\n','').split(':'))\n",
    "\n",
    "            for b in range(len(tags_li_data)):\n",
    "                if tags_li_data[b][0] == '회사개요':\n",
    "                    company_name = tags_li_data[b][1]\n",
    "                elif tags_li_data[b][0] == '모집기간':\n",
    "                    apply_end_date = tags_li_data[b][1]\n",
    "\n",
    "\n",
    "            tags = soup_scraping.select('div.circle-conts-view-main-conts-box-question > div')\n",
    "            tags = tags[1:len(tags)]\n",
    "            tags_data = []\n",
    "\n",
    "            for c in range(len(tags)):\n",
    "                tags_data.append(tags[c].text.strip().replace('◈ ',''))\n",
    "\n",
    "            for d in range(len(tags_data)):\n",
    "                if tags_data[d] == '직무 개요':\n",
    "                    task = tags_data[d+1]\n",
    "\n",
    "                elif tags_data[d] == '경력 요건':\n",
    "                    need_career = tags_data[d+1]\n",
    "\n",
    "                elif tags_data[d] == '처우':\n",
    "                    team_env = tags_data[d+1]\n",
    "\n",
    "                elif tags_data[d] == '제출 서류 및 기타':\n",
    "                    need_doc = tags_data[d+1]\n",
    "\n",
    "            career_requirements = ' '\n",
    "            print(i ,'1번 스크래핑 양식')\n",
    "\n",
    "    #-------------------------------------------------------------------------------------------------\n",
    "        # 윗태그 5개 스크래핑 양식(task, need_doc이 없으므로 ' '을 추가)\n",
    "        else:\n",
    "            tags_li = soup_scraping.select('div.circle-conts-view-main-conts-box-question > div > ul > li')\n",
    "            tags_li_data = []\n",
    "\n",
    "            for e in range(len(tags_li)):\n",
    "                tags_li_data = tags_li[e].text.strip().replace(' ','').replace('\\n','').split(':')\n",
    "\n",
    "            for f in range(len(tags_li_data)):\n",
    "                if tags_li_data[f][0] == '회사개요':\n",
    "                    company = tags_li_data[f][1]\n",
    "\n",
    "                elif tags_li_data[f][0] == '경력레벨':\n",
    "                    need_career = tags_li_data[f][1]\n",
    "\n",
    "                elif tags_li_data[f][0] == '급여수준':\n",
    "                    team_env = tags_li_data[f][1]\n",
    "\n",
    "                elif tags_li_data[f][0] == '교육수준':\n",
    "                    career_requirements = tags_li_data[f][1]\n",
    "\n",
    "                elif tags_li_data[f][0] == '모집기간':\n",
    "                    apply_end_date = tags_li_data[f][1]\n",
    "\n",
    "\n",
    "            task = ' '\n",
    "            need_doc = ' '\n",
    "            print(i,'2번 스크래핑 양식')\n",
    "\n",
    "    #---------------------------------------------------------------------------------------------------       \n",
    "\n",
    "        contact = soup_scraping.select('span.writer-info') # 담당컨설턴트\n",
    "        contact_people = contact[0].text.strip()[0:3] # 이름 뽑아내기\n",
    "        \n",
    "        hash_col = []\n",
    "        hash = soup_scraping.select('div.keyword-wrap > a.keyword') # 해시태그\n",
    "        for j in range(len(hash)):  # 반복문으로 해시태그들을 뽑아 리스트로 만들기\n",
    "            hash_t = hash[j].text.strip()\n",
    "            hash_col.append(hash_t)\n",
    "        hashtag.append(hash_col)\n",
    "\n",
    "        print(recruit_title, detail_uri, contact_people, hashtag, apply_start_date, apply_end_date, task, need_career, team_env, need_doc, career_requirements, create_date)    \n",
    "        time.sleep(1)\n",
    "        browser.back()\n",
    "        # 더보기 button 클릭하기 태그 : i.icon-plus-sign-to-add\n",
    "    except:\n",
    "        pass"
   ]
  },
  {
   "cell_type": "code",
   "execution_count": 17,
   "id": "b5fed581",
   "metadata": {},
   "outputs": [
    {
     "data": {
      "text/plain": [
       "(26, 48, 0, 0, 8, 5, 0, 0, 0, 0, 0)"
      ]
     },
     "execution_count": 17,
     "metadata": {},
     "output_type": "execute_result"
    }
   ],
   "source": [
    "len(recruit_title), len(detail_uri), len(contact_people), len(hashtag), len(apply_start_date), len(apply_end_date), len(task), len(need_career), len(team_env), len(need_doc), len(career_requirements)"
   ]
  },
  {
   "cell_type": "code",
   "execution_count": 19,
   "id": "e0e52fca",
   "metadata": {},
   "outputs": [
    {
     "data": {
      "text/plain": [
       "('클라우드 인프라(네트워크)기술전문가(과-차장급)',\n",
       " 'https://www.jobindexworld.com/jobpost/view/53387',\n",
       " [],\n",
       " [],\n",
       " '21.09.07',\n",
       " '채용시까지',\n",
       " [],\n",
       " [],\n",
       " [],\n",
       " [],\n",
       " [])"
      ]
     },
     "execution_count": 19,
     "metadata": {},
     "output_type": "execute_result"
    }
   ],
   "source": [
    "recruit_title, detail_uri, contact_people, hashtag, apply_start_date, apply_end_date, task, need_career, team_env, need_doc, career_requirements"
   ]
  },
  {
   "cell_type": "code",
   "execution_count": null,
   "id": "e5f19d50",
   "metadata": {},
   "outputs": [],
   "source": [
    "# start date 20210909 형식으로 바꾸기 연습\n",
    "start_date = soup_scraping.select('div.date')\n",
    "start_date_t = start_date[0].text.strip()\n",
    "start_date[0].replace('[^가-힣ㄱ-ㅎㅠ ]','')"
   ]
  },
  {
   "cell_type": "code",
   "execution_count": 8,
   "id": "505e818f",
   "metadata": {},
   "outputs": [],
   "source": []
  },
  {
   "cell_type": "code",
   "execution_count": 12,
   "id": "a564f9ac",
   "metadata": {},
   "outputs": [
    {
     "data": {
      "text/plain": [
       "'20215709'"
      ]
     },
     "execution_count": 12,
     "metadata": {},
     "output_type": "execute_result"
    }
   ],
   "source": []
  },
  {
   "cell_type": "markdown",
   "id": "97c07e99",
   "metadata": {},
   "source": [
    "## DataFrame 형식으로 만들기"
   ]
  },
  {
   "cell_type": "code",
   "execution_count": null,
   "id": "af23e134",
   "metadata": {},
   "outputs": [],
   "source": [
    "import pandas as pd"
   ]
  },
  {
   "cell_type": "code",
   "execution_count": null,
   "id": "98fd6978",
   "metadata": {},
   "outputs": [],
   "source": [
    "df = pd.DataFrame(tags_li_data, columns=['tags_li'])"
   ]
  },
  {
   "cell_type": "markdown",
   "id": "3fe95b8b",
   "metadata": {},
   "source": [
    "### SCRAPING SITE TABLE에 넣기"
   ]
  },
  {
   "cell_type": "code",
   "execution_count": null,
   "id": "ef7fe0f0",
   "metadata": {},
   "outputs": [],
   "source": []
  },
  {
   "cell_type": "code",
   "execution_count": null,
   "id": "538507b6",
   "metadata": {},
   "outputs": [],
   "source": []
  },
  {
   "cell_type": "code",
   "execution_count": null,
   "id": "b9433790",
   "metadata": {},
   "outputs": [],
   "source": []
  }
 ],
 "metadata": {
  "kernelspec": {
   "display_name": "Python 3",
   "language": "python",
   "name": "python3"
  },
  "language_info": {
   "codemirror_mode": {
    "name": "ipython",
    "version": 3
   },
   "file_extension": ".py",
   "mimetype": "text/x-python",
   "name": "python",
   "nbconvert_exporter": "python",
   "pygments_lexer": "ipython3",
   "version": "3.8.8"
  }
 },
 "nbformat": 4,
 "nbformat_minor": 5
}
