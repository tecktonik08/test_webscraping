{
 "cells": [
  {
   "cell_type": "markdown",
   "id": "67438a20",
   "metadata": {},
   "source": [
    "## 채용공고 scrapping"
   ]
  },
  {
   "cell_type": "code",
   "execution_count": null,
   "id": "d46b690a",
   "metadata": {},
   "outputs": [],
   "source": [
    "# pip install selenium"
   ]
  },
  {
   "cell_type": "code",
   "execution_count": 1,
   "id": "660330d0",
   "metadata": {},
   "outputs": [],
   "source": [
    "from selenium import webdriver"
   ]
  },
  {
   "cell_type": "code",
   "execution_count": 2,
   "id": "78460607",
   "metadata": {},
   "outputs": [],
   "source": [
    "browser = webdriver.Chrome('./chromedriver.exe')"
   ]
  },
  {
   "cell_type": "code",
   "execution_count": 3,
   "id": "43f66267",
   "metadata": {},
   "outputs": [],
   "source": [
    "browser.get('https://www.jobindexworld.com/jobpost/list')"
   ]
  },
  {
   "cell_type": "code",
   "execution_count": 4,
   "id": "ad586753",
   "metadata": {},
   "outputs": [],
   "source": [
    "html = browser.page_source"
   ]
  },
  {
   "cell_type": "code",
   "execution_count": 5,
   "id": "ac9f8ae3",
   "metadata": {},
   "outputs": [],
   "source": [
    "from bs4 import BeautifulSoup"
   ]
  },
  {
   "cell_type": "code",
   "execution_count": 6,
   "id": "6d6af9a9",
   "metadata": {},
   "outputs": [],
   "source": [
    "soup = BeautifulSoup(html, 'html.parser')"
   ]
  },
  {
   "cell_type": "markdown",
   "id": "06602431",
   "metadata": {},
   "source": [
    "### 채용공고 list를 클릭해서 들어가기"
   ]
  },
  {
   "cell_type": "code",
   "execution_count": null,
   "id": "8ead50da",
   "metadata": {},
   "outputs": [],
   "source": [
    "recruit_title = [] # 주제\n",
    "company_name = [] # 회사명\n",
    "company = []\n",
    "detail_uri = [] # 내용 url\n",
    "\n",
    "apply_start_date = [] # 모집기간\n",
    "apply_end_date = []\n",
    "\n",
    "task = [] # 직무개요\n",
    "need_career = [] # 경력요건\n",
    "team_env = [] # 처우\n",
    "need_doc = [] # 제출서류\n",
    "\n",
    "contact_people = [] # 담당컨설턴트\n",
    "hashtag =[] # 해시태그"
   ]
  },
  {
   "cell_type": "code",
   "execution_count": null,
   "id": "e2d6af17",
   "metadata": {
    "scrolled": true
   },
   "outputs": [],
   "source": [
    "import time\n",
    "\n",
    "for i in range(5):\n",
    "    # click해서 들어간 창\n",
    "    browser.find_elements_by_css_selector('article.cpn-circle-conts-item')[i].click() # 클릭 페이지\n",
    "    html_scraping = browser.page_source \n",
    "    soup_scraping = BeautifulSoup(html_scraping, 'html.parser')\n",
    "    \n",
    "    recruit = soup_scraping.select('article.circle-conts-view > h3.tit-h3') # 주제, 제목\n",
    "    recruit_t = recruit[0].text.strip()\n",
    "    recruit_title.append(recruit_t)\n",
    "    \n",
    "    uri = soup_scraping.select('meta[property=\"og:url\"]') # 구직 회사 내용 화면\n",
    "    uri_t = uri[0]['content']\n",
    "    detail_uri.append(uri_t)\n",
    "    \n",
    "    # \n",
    "    start_date = soup_scraping.select('div.date')\n",
    "    start_date_t = start_date[0].text.strip()[1:9] # 날짜, 시간 -> data time: https://docs.python.org/ko/3/library/datetime.html\n",
    "    apply_start_date.append(start_date_t)\n",
    "        \n",
    "    tags_li = soup_scraping.select('div.circle-conts-view-main-conts-box-question > div > ul > li')\n",
    "\n",
    "    tags_li_data = []\n",
    "\n",
    "    for i in range(len(tags_li)):\n",
    "        tags_li_data.append(tags_li[i].text.strip().replace(' ','').replace('\\n','').split(':'))\n",
    "\n",
    "    for i in range(len(tags_li_data)):\n",
    "        if tags_li_data[0][0] == '회사개요':\n",
    "            company.append(tags_li_data[0][1])\n",
    "            print(tags_li_data[0][1])\n",
    "        elif tags_li_data[1][0] == '경력레벨':\n",
    "            need_career.append(tags_li_data[1][1])\n",
    "            print(tags_li_data[1][1])\n",
    "        elif tags_li_data[2][0] == '급여수준':\n",
    "            team_env.append(tags_li_data[2][1])\n",
    "            print(tags_li_data[2][1])\n",
    "        elif tags_li_data[3][0] == '교육수준':\n",
    "            need_doc.append(tags_li_data[3][1])\n",
    "            print(tags_li_data[3][1])\n",
    "        elif tags_li_data[4][0] == '모집기간':\n",
    "            apply_end_date.append(tags_li_data[4][1])\n",
    "            print(tags_li_data[4][1])\n",
    "            \n",
    "    # 글자 수 대신 해당 row에 '찾는글자'가 있으면 으로 바꾸기\n",
    "#     for i in range(len(tags)):\n",
    "#         if tags_li[0].text.strip()[:4] == '회사개요':\n",
    "#             task_t = tags_li[i].text.strip()[8:]\n",
    "#             task.append(task_t)\n",
    "#         elif tags_li[0].text.strip()[:4] == '경력레벨':\n",
    "#             need_career_t = tags_li[i].text.strip()[-6:]\n",
    "#             need_career.append(need_career_t)\n",
    "#         elif tags_li[i].text.strip()[:4] == '급여수준':\n",
    "#             team_env_t = tags_li[i].text.strip()[7:]\n",
    "#             team_env.append(team_env_t)\n",
    "#             # print(tags[i+1].text.strip())\n",
    "#         elif tags_li[i].text.strip()[:4] == '교육수준':\n",
    "#             need_doc_t = tags_li[i].text.strip()[8:]\n",
    "#             need_doc.append(need_doc_t)\n",
    "#         elif tags_li[i].text.strip()[:4] == '모집기간':\n",
    "#             apply_end_date_t = tags_li[i].text.strip()[8:]\n",
    "#             apply_end_date.append(apply_end_date_t)\n",
    "            \n",
    "    tags = soup_scraping.select('div.circle-conts-view-main-conts-box-question > div')\n",
    "    \n",
    "#     for i in range(len(tags)):\n",
    "#         if tags[i].text.strip()[2:7] == '직무 개요':\n",
    "#             task_t = tags[i+1].text.strip()\n",
    "#             task.append(task_t)\n",
    "#             # print(tags[i+1].text.strip())\n",
    "#         elif tags[i].text.strip()[2:7] == '경력 요건':\n",
    "#             need_career_t = tags[i+1].text.strip()\n",
    "#             need_career.append(need_career_t)\n",
    "#             # print(tags[i+1].text.strip())\n",
    "#         elif tags[i].text.strip()[2:4] == '처우':\n",
    "#             team_env_t = tags[i+1].text.strip()\n",
    "#             team_env.append(team_env_t)\n",
    "#             # print(tags[i+1].text.strip())\n",
    "#         elif tags[i].text.strip()[2:7] == '제출 기한':\n",
    "#             apply_end_date_t = tags[i+1].text.strip()\n",
    "#             apply_end_date.append(apply_end_date_t)\n",
    "#             # print(tags[i+1].text.strip())\n",
    "#         elif tags[i].text.strip()[2:12] == '제출 서류 및 기타':\n",
    "#             need_doc_t = tags[i+1].text.strip()\n",
    "#             need_doc.append(need_doc_t)\n",
    "#             # print(tags[i+1].text.strip())        \n",
    "\n",
    "    contact = soup_scraping.select('span.writer-info')\n",
    "    contact_t = contact[0].text.strip()[0:3]\n",
    "    contact_people.append(contact_t)\n",
    "    \n",
    "    hash_col = []\n",
    "    hash = soup_scraping.select('div.keyword-wrap > a.keyword') # 해시태그\n",
    "    for j in range(len(hash)):  \n",
    "        hash_t = hash[j].text.strip()\n",
    "        hash_col.append(hash_t)\n",
    "    hashtag.append(hash_col)\n",
    "    \n",
    "    time.sleep(1)\n",
    "    browser.back()\n"
   ]
  },
  {
   "cell_type": "code",
   "execution_count": null,
   "id": "1ecd7211",
   "metadata": {},
   "outputs": [],
   "source": [
    "recruit_title, detail_uri, contact_people, hashtag, apply_start_date"
   ]
  },
  {
   "cell_type": "code",
   "execution_count": null,
   "id": "d2386148",
   "metadata": {},
   "outputs": [],
   "source": [
    "apply_end_date, task, need_career, team_env, need_doc"
   ]
  },
  {
   "cell_type": "code",
   "execution_count": 7,
   "id": "40ed14d3",
   "metadata": {},
   "outputs": [],
   "source": [
    "browser.find_elements_by_css_selector('article.cpn-circle-conts-item')[7].click()"
   ]
  },
  {
   "cell_type": "code",
   "execution_count": 8,
   "id": "5d000c89",
   "metadata": {},
   "outputs": [],
   "source": [
    "html_scraping = browser.page_source"
   ]
  },
  {
   "cell_type": "code",
   "execution_count": 9,
   "id": "0dbf9121",
   "metadata": {},
   "outputs": [],
   "source": [
    "soup_scraping = BeautifulSoup(html_scraping, 'html.parser')"
   ]
  },
  {
   "cell_type": "code",
   "execution_count": null,
   "id": "7ae5390f",
   "metadata": {},
   "outputs": [],
   "source": [
    "tags = soup_scraping.select('div.circle-conts-view-main-conts-box-question > div')"
   ]
  },
  {
   "cell_type": "code",
   "execution_count": 10,
   "id": "35b97d12",
   "metadata": {},
   "outputs": [],
   "source": [
    "company = []\n",
    "apply_end_date = []\n",
    "task = []\n",
    "need_career = []\n",
    "team_env = []\n",
    "apply_end_date2 = []\n",
    "need_doc = []"
   ]
  },
  {
   "cell_type": "code",
   "execution_count": 11,
   "id": "df7c6cf0",
   "metadata": {},
   "outputs": [
    {
     "name": "stdout",
     "output_type": "stream",
     "text": [
      "[['회사개요', '국내모바일게임기업'], ['모집기간', '채용시까지']]\n",
      "--------------\n",
      "['국내모바일게임기업']\n",
      "['채용시까지']\n",
      "['직무 개요', '1. 언론홍보 전반', '', '경력 요건', '- 언론 홍보 관련 업무 경력 6년 이상- 홍보 업무 및 사회공헌 업무 등을 위한 전략적 기획력 보유- 각종 홍보 자료 작성 경험 및 스킬- 미디어 네트워크 및 원활한 커뮤니케이션 스킬 보유\\xa0- 원활한 대인관계 및 팀워크 우수- 게임 및 게임 산업 전반에 대한 관심과 이해', '', '우대 사항', '- 기업 홍보실/홍보팀 경력- 게임 또는 IT 업계 경험자\\xa0- 게임 및 IT관련 미디어 네트워크- 영어 능통자', '처우', '- 협의', '', '제출 기한', '- ASAP', '', '제출 서류 및 기타', '- 국문 이력서 및 자기소개서', '', '담당 컨설턴트', '- 이재환 / 02-2016-6694 / jhlee@vpeople.co.kr']\n",
      "--------------\n",
      "['1. 언론홍보 전반']\n",
      "['- 언론 홍보 관련 업무 경력 6년 이상- 홍보 업무 및 사회공헌 업무 등을 위한 전략적 기획력 보유- 각종 홍보 자료 작성 경험 및 스킬- 미디어 네트워크 및 원활한 커뮤니케이션 스킬 보유\\xa0- 원활한 대인관계 및 팀워크 우수- 게임 및 게임 산업 전반에 대한 관심과 이해']\n",
      "['- 협의']\n",
      "['- ASAP']\n",
      "['- 국문 이력서 및 자기소개서']\n"
     ]
    }
   ],
   "source": [
    "# 윗태그 2개 아래태그 5개 스크래핑 양식\n",
    "\n",
    "\n",
    "tags_li = soup_scraping.select('div.circle-conts-view-main-conts-box-question > div > ul > li')\n",
    "tags_li_data = []\n",
    "\n",
    "for i in range(len(tags_li)):\n",
    "    tags_li_data.append(tags_li[i].text.strip().replace(' ','').replace('\\n','').split(':'))\n",
    "\n",
    "print(tags_li_data)\n",
    "print('--------------')\n",
    "\n",
    "for i in range(len(tags_li_data)):\n",
    "    if tags_li_data[i][0] == '회사개요':\n",
    "        company.append(tags_li_data[i][1])\n",
    "    elif tags_li_data[i][0] == '모집기간':\n",
    "        apply_end_date.append(tags_li_data[i][1])\n",
    "\n",
    "print(company)\n",
    "print(apply_end_date)\n",
    "\n",
    "tags = soup_scraping.select('div.circle-conts-view-main-conts-box-question > div')\n",
    "tags = tags[1:len(tags)]\n",
    "tags_data = []\n",
    "for i in range(len(tags)):\n",
    "    tags_data.append(tags[i].text.strip().replace('◈ ',''))\n",
    "    \n",
    "print(tags_data)\n",
    "print('--------------')\n",
    "\n",
    "for i in range(len(tags_data)):\n",
    "    if tags_data[i] == '직무 개요':\n",
    "        task.append(tags_data[i+1])\n",
    "\n",
    "    elif tags_data[i] == '경력 요건':\n",
    "        need_career.append(tags_data[i+1])\n",
    "\n",
    "    elif tags_data[i] == '처우':\n",
    "        team_env.append(tags_data[i+1])\n",
    "\n",
    "    elif tags_data[i] == '제출 기한':\n",
    "        apply_end_date2.append(tags_data[i+1])\n",
    "\n",
    "    elif tags_data[i] == '제출 서류 및 기타':\n",
    "        need_doc.append(tags_data[i+1])\n",
    "        \n",
    "print(task)\n",
    "print(need_career)\n",
    "print(team_env)\n",
    "print(apply_end_date2)\n",
    "print(need_doc)"
   ]
  },
  {
   "cell_type": "code",
   "execution_count": 12,
   "id": "a87a4ede",
   "metadata": {},
   "outputs": [
    {
     "data": {
      "text/plain": [
       "(['국내모바일게임기업'],\n",
       " ['채용시까지'],\n",
       " ['1. 언론홍보 전반'],\n",
       " ['- 언론 홍보 관련 업무 경력 6년 이상- 홍보 업무 및 사회공헌 업무 등을 위한 전략적 기획력 보유- 각종 홍보 자료 작성 경험 및 스킬- 미디어 네트워크 및 원활한 커뮤니케이션 스킬 보유\\xa0- 원활한 대인관계 및 팀워크 우수- 게임 및 게임 산업 전반에 대한 관심과 이해'],\n",
       " ['채용시까지'],\n",
       " ['- 국문 이력서 및 자기소개서'])"
      ]
     },
     "execution_count": 12,
     "metadata": {},
     "output_type": "execute_result"
    }
   ],
   "source": [
    "company, apply_end_date, task, need_career, apply_end_date, need_doc"
   ]
  },
  {
   "cell_type": "code",
   "execution_count": null,
   "id": "af23e134",
   "metadata": {},
   "outputs": [],
   "source": [
    "import pandas as pd"
   ]
  },
  {
   "cell_type": "code",
   "execution_count": null,
   "id": "98fd6978",
   "metadata": {},
   "outputs": [],
   "source": [
    "df = pd.DataFrame(tags_li_data, columns=['tags_li'])"
   ]
  },
  {
   "cell_type": "code",
   "execution_count": null,
   "id": "e888ceda",
   "metadata": {},
   "outputs": [],
   "source": [
    "df['tags_li'][0].replace('[^가-힣ㄱ-ㅎㅠ ]','')"
   ]
  },
  {
   "cell_type": "code",
   "execution_count": null,
   "id": "661b18a4",
   "metadata": {},
   "outputs": [],
   "source": [
    "import time\n",
    "\n",
    "for i in range(10):\n",
    "    # click해서 들어간 창\n",
    "    browser.find_elements_by_css_selector('article.cpn-circle-conts-item')[i].click() # 클릭 페이지\n",
    "    html_scraping = browser.page_source \n",
    "    soup_scraping = BeautifulSoup(html_scraping, 'html.parser')\n",
    "        \n",
    "    tags_li = soup_scraping.select('div.circle-conts-view-main-conts-box-question > div > ul > li')\n",
    "    tags_li_data = []\n",
    "\n",
    "    for i in range(len(tags_li)):\n",
    "        tags_li_data.append(tags_li[i].text.strip().replace(' ','').replace('\\n','').split(':'))\n",
    "\n",
    "    print(tags_li_data)\n",
    "    \n",
    "    print('-----------------')\n",
    "    task.append(tags_li_data[0][1])\n",
    "    need_career.append(tags_li_data[1][1])\n",
    "    team_env.append(tags_li_data[2][1])\n",
    "    need_doc.append(tags_li_data[3][1])\n",
    "    apply_end_date.append(tags_li_data[4][1])\n",
    "          \n",
    "    tags = soup_scraping.select('div.circle-conts-view-main-conts-box-question > div')\n",
    "    \n",
    "    task.append(tags_li_data[0][1])\n",
    "    \n",
    "    apply_end_date.append(tags_li_data[4][1])\n",
    "    \n",
    "    for i in range(len(tags)):\n",
    "        if tags[i].text.strip()[2:7] == '직무 개요':\n",
    "            task_t = tags[i+1].text.strip()\n",
    "            task.append(task_t)\n",
    "            # print(tags[i+1].text.strip())\n",
    "        elif tags[i].text.strip()[2:7] == '경력 요건':\n",
    "            need_career_t = tags[i+1].text.strip()\n",
    "            need_career.append(need_career_t)\n",
    "            # print(tags[i+1].text.strip())\n",
    "        elif tags[i].text.strip()[2:4] == '처우':\n",
    "            team_env_t = tags[i+1].text.strip()\n",
    "            team_env.append(team_env_t)\n",
    "            # print(tags[i+1].text.strip())\n",
    "        elif tags[i].text.strip()[2:7] == '제출 기한':\n",
    "            apply_end_date_t = tags[i+1].text.strip()\n",
    "            apply_end_date.append(apply_end_date_t)\n",
    "            # print(tags[i+1].text.strip())\n",
    "        elif tags[i].text.strip()[2:12] == '제출 서류 및 기타':\n",
    "            need_doc_t = tags[i+1].text.strip()\n",
    "            need_doc.append(need_doc_t)\n",
    "            # print(tags[i+1].text.strip())        \n",
    "   \n",
    "    time.sleep(1)\n",
    "    browser.back()"
   ]
  },
  {
   "cell_type": "code",
   "execution_count": null,
   "id": "c18015f5",
   "metadata": {},
   "outputs": [],
   "source": [
    "apply_end_date, task, need_career, team_env, need_doc"
   ]
  },
  {
   "cell_type": "code",
   "execution_count": null,
   "id": "e5f19d50",
   "metadata": {},
   "outputs": [],
   "source": [
    "start_date = soup_scraping.select('div.date')\n",
    "start_date_t = start_date[0].text.strip()\n",
    "start_date[0].replace('[^가-힣ㄱ-ㅎㅠ ]','')"
   ]
  },
  {
   "cell_type": "markdown",
   "id": "17e291df",
   "metadata": {},
   "source": [
    "### tag를 활용하여 select"
   ]
  },
  {
   "cell_type": "code",
   "execution_count": null,
   "id": "ae3ede8b",
   "metadata": {},
   "outputs": [],
   "source": [
    "recruit_title = soup.select('article.circle-conts-view > h3.tit-h3') # 주제, 제목\n",
    "company_name = soup.select('div.jobpost-summary-wrapper > ul > li') # 회사명 -> 회사개요\n",
    "detail_uri = soup.select('meta[property=\"og:url\"]') # 구직 회사 내용 화면\n",
    "apply_start_date = soup.select('') # 모집기한\n",
    "apply_end_date = soup.select('')\n",
    "task = soup.select('') # 직무개요 div.circle-conts-view-main-conts-box-question > div [3,4]\n",
    "need_career = soup.select('') # 경력요건  div.circle-conts-view-main-conts-box-question > div [7]\n",
    "team_env = soup.select('') # 처우  div.circle-conts-view-main-conts-box-question > div [10]\n",
    "need_doc = soup.select('') # 제출서류  div.circle-conts-view-main-conts-box-question > div []\n",
    "contact_people = soup.select('') # 담당컨설턴트  div.circle-conts-view-main-conts-box-question > div\n",
    "hashtag = soup.select('div.keyword-wrap') # 해시태그"
   ]
  },
  {
   "cell_type": "code",
   "execution_count": null,
   "id": "e6cb692e",
   "metadata": {},
   "outputs": [],
   "source": [
    "recruit_title = soup.select('article.circle-conts-view > h3.tit-h3') # 주제, 제목"
   ]
  },
  {
   "cell_type": "code",
   "execution_count": null,
   "id": "791a580c",
   "metadata": {},
   "outputs": [],
   "source": [
    "len(recruit_title), type(recruit_title), print(recruit_title)"
   ]
  },
  {
   "cell_type": "code",
   "execution_count": null,
   "id": "f35a670b",
   "metadata": {},
   "outputs": [],
   "source": [
    "company_name = soup.select('div.jobpost-summary-wrapper > ul > li') # 회사명"
   ]
  },
  {
   "cell_type": "code",
   "execution_count": null,
   "id": "047d57e3",
   "metadata": {},
   "outputs": [],
   "source": [
    "print(company_name)"
   ]
  },
  {
   "cell_type": "code",
   "execution_count": null,
   "id": "fa98b638",
   "metadata": {},
   "outputs": [],
   "source": [
    "detail_uri = soup.select('meta[property=\"og:url\"]') # 구직 회사 내용 화면"
   ]
  },
  {
   "cell_type": "code",
   "execution_count": null,
   "id": "15be20c3",
   "metadata": {},
   "outputs": [],
   "source": [
    "print(detail_uri)"
   ]
  },
  {
   "cell_type": "code",
   "execution_count": null,
   "id": "47672cad",
   "metadata": {},
   "outputs": [],
   "source": [
    "detail_uri[0].text"
   ]
  },
  {
   "cell_type": "code",
   "execution_count": null,
   "id": "29bdd90a",
   "metadata": {},
   "outputs": [],
   "source": [
    "hashtag = soup.select('div.keyword-wrap') # 해시태그"
   ]
  },
  {
   "cell_type": "code",
   "execution_count": null,
   "id": "9d0ab614",
   "metadata": {},
   "outputs": [],
   "source": [
    "len(hashtag), type(hashtag)"
   ]
  },
  {
   "cell_type": "code",
   "execution_count": null,
   "id": "71c4bc69",
   "metadata": {},
   "outputs": [],
   "source": [
    "print(hashtag)"
   ]
  },
  {
   "cell_type": "code",
   "execution_count": null,
   "id": "2bc3a0de",
   "metadata": {},
   "outputs": [],
   "source": [
    "hashtag[0].text"
   ]
  },
  {
   "cell_type": "code",
   "execution_count": null,
   "id": "24394868",
   "metadata": {},
   "outputs": [],
   "source": [
    "contents = list()\n",
    "for hash in hashtag:\n",
    "    h_tag = hash.select('div.keyword-wrap')\n",
    "    contents.append(h_tag)\n",
    "\n",
    "contents"
   ]
  },
  {
   "cell_type": "markdown",
   "id": "3fe95b8b",
   "metadata": {},
   "source": [
    "### SCRAPING SITE TABLE에 넣기"
   ]
  },
  {
   "cell_type": "code",
   "execution_count": null,
   "id": "4cfb1149",
   "metadata": {},
   "outputs": [],
   "source": [
    "brawser = webdriver.Chrome('./chromedriver.exe')"
   ]
  },
  {
   "cell_type": "code",
   "execution_count": null,
   "id": "41cdfc68",
   "metadata": {},
   "outputs": [],
   "source": [
    "brawser.get('https://github.com/login')"
   ]
  },
  {
   "cell_type": "code",
   "execution_count": null,
   "id": "e6e0d91d",
   "metadata": {},
   "outputs": [],
   "source": [
    "brawser.find_elements_by_css_selector('input#login_field')[0].send_keys('superinssa@gmail.com')"
   ]
  },
  {
   "cell_type": "code",
   "execution_count": null,
   "id": "28bcc095",
   "metadata": {},
   "outputs": [],
   "source": [
    "brawser.find_elements_by_css_selector('input#password')[0].send_keys('ghlehd123#')"
   ]
  },
  {
   "cell_type": "code",
   "execution_count": null,
   "id": "e3f2c5e5",
   "metadata": {},
   "outputs": [],
   "source": [
    "brawser.find_elements_by_css_selector('input[type=\"submit\"]')[0].click()"
   ]
  }
 ],
 "metadata": {
  "kernelspec": {
   "display_name": "Python 3",
   "language": "python",
   "name": "python3"
  },
  "language_info": {
   "codemirror_mode": {
    "name": "ipython",
    "version": 3
   },
   "file_extension": ".py",
   "mimetype": "text/x-python",
   "name": "python",
   "nbconvert_exporter": "python",
   "pygments_lexer": "ipython3",
   "version": "3.8.8"
  }
 },
 "nbformat": 4,
 "nbformat_minor": 5
}
