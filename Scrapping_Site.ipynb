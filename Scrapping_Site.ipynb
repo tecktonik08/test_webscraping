{
 "cells": [
  {
   "cell_type": "markdown",
   "id": "67438a20",
   "metadata": {},
   "source": [
    "## 채용공고 scrapping"
   ]
  },
  {
   "cell_type": "code",
   "execution_count": 16,
   "id": "538507b6",
   "metadata": {},
   "outputs": [],
   "source": [
    "import sqlite3\n",
    "conn = sqlite3.connect('./db.sqlite3')\n",
    "cur = conn.cursor()"
   ]
  },
  {
   "cell_type": "code",
   "execution_count": 17,
   "id": "660330d0",
   "metadata": {},
   "outputs": [],
   "source": [
    "from selenium import webdriver"
   ]
  },
  {
   "cell_type": "code",
   "execution_count": 18,
   "id": "78460607",
   "metadata": {
    "scrolled": true
   },
   "outputs": [],
   "source": [
    "browser = webdriver.Chrome('./chromedriver.exe')"
   ]
  },
  {
   "cell_type": "code",
   "execution_count": 19,
   "id": "43f66267",
   "metadata": {},
   "outputs": [],
   "source": [
    "browser.get('https://www.jobindexworld.com/jobpost/list')"
   ]
  },
  {
   "cell_type": "code",
   "execution_count": 20,
   "id": "ad586753",
   "metadata": {},
   "outputs": [],
   "source": [
    "html = browser.page_source"
   ]
  },
  {
   "cell_type": "code",
   "execution_count": 21,
   "id": "ac9f8ae3",
   "metadata": {},
   "outputs": [],
   "source": [
    "from bs4 import BeautifulSoup"
   ]
  },
  {
   "cell_type": "code",
   "execution_count": 22,
   "id": "6d6af9a9",
   "metadata": {},
   "outputs": [],
   "source": [
    "soup = BeautifulSoup(html, 'html.parser')"
   ]
  },
  {
   "cell_type": "markdown",
   "id": "06602431",
   "metadata": {},
   "source": [
    "### 채용공고 list를 클릭해서 들어가기"
   ]
  },
  {
   "cell_type": "markdown",
   "id": "e252632a",
   "metadata": {},
   "source": [
    "추가해야될 것\n",
    "\n",
    "상세대상 URL : detail_target_url\n",
    "대분류명 : category_big\t# 공통 IT\n",
    "중분류명 : category_middle\n",
    "소분류명 : category_small\n",
    "주요 검색어 : search_word  # 사용했을 시"
   ]
  },
  {
   "cell_type": "code",
   "execution_count": 48,
   "id": "af3518c7",
   "metadata": {
    "scrolled": true
   },
   "outputs": [
    {
     "name": "stdout",
     "output_type": "stream",
     "text": [
      "0 페이지 2번 스크래핑 양식\n",
      "0 jobindex https://www.jobindexworld.com/index None None None None None 20210910 운영품질 QAM(대리-과장) 국내IT사 https://www.jobindexworld.com/jobpost/view/53405 20210908 채용시까지 None mid-level,Senior,Lead 협의 None 최수현 #IT#ITSM#ITinfra#품질#QA#브레인202_최수현헤드헌터\n",
      "1 페이지 2번 스크래핑 양식\n",
      "1 jobindex https://www.jobindexworld.com/index None None None None None 20210910 Compliance Manager 국내금융사 https://www.jobindexworld.com/jobpost/view/53403 20210908 채용시까지 None Senior,Lead,Manager 협의 None 최수현 #Compliance#법무#금융#은행#브레인202_최수현헤드헌터\n",
      "2 페이지 2번 스크래핑 양식\n",
      "2 jobindex https://www.jobindexworld.com/index None None None None None 20210910 DBA(대리-과장급) 국내유통사 https://www.jobindexworld.com/jobpost/view/53388 20210907 채용시까지 None Junior,mid-level,Senior 협의 None 최수현 #IT#data#DBA#Cloud#브레인202_최수현헤드헌터\n",
      "3 페이지 2번 스크래핑 양식\n",
      "3 jobindex https://www.jobindexworld.com/index None None None None None 20210910 클라우드 인프라(네트워크)기술전문가(과-차장급) 국내유통사 https://www.jobindexworld.com/jobpost/view/53387 20210907 채용시까지 None mid-level,Senior,Lead 협의 None 최수현 #IT#Cloud#infra#네트워크#브레인202_최수현헤드헌터\n",
      "4 페이지 2번 스크래핑 양식\n",
      "4 jobindex https://www.jobindexworld.com/index None None None None None 20210910 Vision AI Engineer 국내IT사 https://www.jobindexworld.com/jobpost/view/53304 20210825 채용시까지 None mid-level,Senior 협의 None 최수현 #AI#IT#IT_Engineer#ComputerVision#브레인202_최수현헤드헌터\n"
     ]
    }
   ],
   "source": [
    "import datetime\n",
    "import time\n",
    "\n",
    "for i in range(5):\n",
    "\n",
    "    target_name = 'jobindex'\n",
    "    target_url = 'https://www.jobindexworld.com/index'\n",
    "    detail_target_url = None\n",
    "    category_big = 'IT'\n",
    "    category_middle = None\n",
    "    category_small = None\n",
    "    search_word = None\n",
    "    \n",
    "    try:\n",
    "        now = datetime.datetime.now()\n",
    "        create_date = now.strftime(\"%Y%m%d\") # 스크래핑 날짜\n",
    "\n",
    "        # click해서 들어간 창\n",
    "        browser.find_elements_by_css_selector('article.cpn-circle-conts-item')[i].click() # 클릭 페이지\n",
    "        time.sleep(1)\n",
    "        html_scraping = browser.page_source \n",
    "        soup_scraping = BeautifulSoup(html_scraping, 'html.parser')\n",
    "\n",
    "        tags_signs = soup_scraping.select('div.circle-conts-view-main-conts-box-question > div') # '◈' 기호와 if문을 통해 form을 선별\n",
    "\n",
    "        recruit = soup_scraping.select('article.circle-conts-view > h3.tit-h3') # 주제, 제목\n",
    "        recruit_title = recruit[0].text.strip()\n",
    "\n",
    "        uri = soup_scraping.select('meta[property=\"og:url\"]') # 구직 회사 내용 화면\n",
    "        detail_uri = uri[0]['content']\n",
    "\n",
    "        start_date = soup_scraping.select('div.date')\n",
    "        start_date_t = start_date[0].text.strip()[1:9] # 날짜, 시간 -> data time: https://docs.python.org/ko/3/library/datetime.html\n",
    "        apply_start_date = '20'+start_date_t.replace('.','')\n",
    "        \n",
    "        \n",
    "    #---------------------------------------------------------------------------------------------------            \n",
    "        # 윗태그 2개 아래태그 5개 스크래핑 양식(career_requirements 컬럼이 없으므로 ' ' 추가)\n",
    "        if len(tags_signs) > 9:\n",
    "            tags_li = soup_scraping.select('div.circle-conts-view-main-conts-box-question > div > ul > li')\n",
    "            tags_li_data = []\n",
    "\n",
    "            for a in range(len(tags_li)):\n",
    "                tags_li_data.append(tags_li[a].text.strip().replace(' ','').replace('\\n','').split(':'))\n",
    "\n",
    "            for b in range(len(tags_li_data)):\n",
    "                if tags_li_data[b][0] == '회사개요':\n",
    "                    company_name = tags_li_data[b][1]\n",
    "                elif tags_li_data[b][0] == '모집기간':\n",
    "                    apply_end_date = tags_li_data[b][1]\n",
    "            \n",
    "\n",
    "            tags = soup_scraping.select('div.circle-conts-view-main-conts-box-question > div')\n",
    "            tags = tags[1:len(tags)]\n",
    "            tags_data = []\n",
    "\n",
    "            for c in range(len(tags)):\n",
    "                tags_data.append(tags[c].text.strip().replace('◈ ',''))\n",
    "\n",
    "            for d in range(len(tags_data)):\n",
    "                if tags_data[d] == '직무 개요':\n",
    "                    task = tags_data[d+1]\n",
    "\n",
    "                elif tags_data[d] == '경력 요건':\n",
    "                    need_career = tags_data[d+1]\n",
    "\n",
    "                elif tags_data[d] == '처우':\n",
    "                    team_env = tags_data[d+1]\n",
    "\n",
    "                elif tags_data[d] == '제출 서류 및 기타':\n",
    "                    need_doc = tags_data[d+1]\n",
    "\n",
    "            career_requirements = None\n",
    "            print(i,'페이지' ,'1번 스크래핑 양식')\n",
    "\n",
    "    #-------------------------------------------------------------------------------------------------\n",
    "        # 윗태그 5개 스크래핑 양식(task, need_doc이 없으므로 ' '을 추가)\n",
    "        else:\n",
    "            tags_li = soup_scraping.select('div.circle-conts-view-main-conts-box-question > div > ul > li')\n",
    "            tags_li_data = []\n",
    "\n",
    "            for e in range(len(tags_li)):\n",
    "                tags_li_data.append(tags_li[e].text.strip().replace(' ','').replace('\\n','').split(':'))\n",
    "\n",
    "            for f in range(len(tags_li_data)):\n",
    "                if tags_li_data[f][0] == '회사개요':\n",
    "                    company_name = tags_li_data[f][1]\n",
    "\n",
    "                elif tags_li_data[f][0] == '경력레벨':\n",
    "                    need_career = tags_li_data[f][1]\n",
    "\n",
    "                elif tags_li_data[f][0] == '급여수준':\n",
    "                    team_env = tags_li_data[f][1]\n",
    "\n",
    "                elif tags_li_data[f][0] == '교육수준':\n",
    "                    career_requirements = tags_li_data[f][1]\n",
    "\n",
    "                elif tags_li_data[f][0] == '모집기간':\n",
    "                    apply_end_date = tags_li_data[f][1]\n",
    "\n",
    "\n",
    "            task = None\n",
    "            need_doc = None\n",
    "            print(i,'페이지','2번 스크래핑 양식')\n",
    "\n",
    "    #---------------------------------------------------------------------------------------------------       \n",
    "\n",
    "        contact = soup_scraping.select('span.writer-info') # 담당컨설턴트\n",
    "        contact_people = contact[0].text.strip()[0:3] # 이름 뽑아내기\n",
    "\n",
    "        hash_list = []\n",
    "        hash = soup_scraping.select('div.keyword-wrap > a.keyword') # 해시태그\n",
    "        for j in range(len(hash)):  # 반복문으로 해시태그들을 뽑아 리스트로 만들기\n",
    "            hash_t = hash[j].text.strip()\n",
    "            hash_list.append(hash_t)\n",
    "        \n",
    "        hashtag = ''\n",
    "        for k in hash_list:\n",
    "            hashtag = hashtag + k\n",
    "            \n",
    "        print(id, target_name, target_url, detail_target_url, category_big, category_middle, category_small, search_word, create_date, recruit_title, company_name, detail_uri, apply_start_date, apply_end_date, task, need_career, team_env, need_doc, contact_people, hashtag)    \n",
    "        time.sleep(1)\n",
    "        cur.execute(\"insert into SCRAPPING_SITE_B(id, apply_end_date, apply_start_date, career_requirements, category_big, category_middle, category_small, company_name, contact_people, detail_target_url, detail_uri, hashtag, need_career, need_doc, recruit_title, search_word, target_name, target_url, task, team_env) values('?,?,?,?,?,?,?,?,?,?,?,?,?,?,?,?,?,?,?,?')\",(id, apply_end_date, apply_start_date, career_requirements, category_big, category_middle, category_small, company_name, contact_people, detail_target_url, detail_uri, hashtag, need_career, need_doc, recruit_title, search_word, target_name, target_url, task, team_env))\n",
    "        conn.commit()\n",
    "        print('뒤로가기')\n",
    "        browser.back()\n",
    "        # 더보기 button 클릭하기 태그 : i.icon-plus-sign-to-add\n",
    "    except:\n",
    "        pass\n",
    "# conn.close()"
   ]
  },
  {
   "cell_type": "markdown",
   "id": "645b6ef4",
   "metadata": {},
   "source": [
    "id INTEGER PRIMARY KEY, target_name TEXT, target_url TEXT, detail_target_url TEXT, category_big TEXT, category_middle TEXT, category_small TEXT, search_word TEXT, create_date TEXT, recruit_title TEXT, company_name TEXT, detail_uri TEXT, apply_start_date TEXT, apply_end_date TEXT, task TEXT, need_career TEXT, team_env TEXT, need_doc TEXT, career_requirements TEXT, contact_people TEXT, hashtag TEXT"
   ]
  },
  {
   "cell_type": "code",
   "execution_count": 26,
   "id": "43ebac4a",
   "metadata": {},
   "outputs": [
    {
     "data": {
      "text/plain": [
       "<sqlite3.Cursor at 0x576f2d0>"
      ]
     },
     "execution_count": 26,
     "metadata": {},
     "output_type": "execute_result"
    }
   ],
   "source": [
    "cur.execute('''CREATE TABLE SCRAPPING_SITE_B(id INTEGER,\n",
    "target_name TEXT,\n",
    "target_url TEXT,\n",
    "detail_target_url TEXT,\n",
    "category_big TEXT,\n",
    "category_middle TEXT, \n",
    "category_small TEXT, \n",
    "search_word TEXT, \n",
    "recruit_title TEXT, \n",
    "detail_uri TEXT, \n",
    "apply_start_date TEXT, \n",
    "apply_end_date TEXT, \n",
    "company_name TEXT, \n",
    "task TEXT, \n",
    "need_career TEXT, \n",
    "team_env TEXT, \n",
    "need_doc TEXT, \n",
    "career_requirements TEXT, \n",
    "contact_people TEXT, \n",
    "hashtag TEXT,\n",
    "PRIMARY KEY (id))''')"
   ]
  },
  {
   "cell_type": "code",
   "execution_count": null,
   "id": "4dc8c560",
   "metadata": {},
   "outputs": [],
   "source": [
    "for link in links:\n",
    "        title = str.strip(link.get_text())\n",
    "        href = str.strip(link.get('href'))\n",
    "        try:\n",
    "            cursor.execute(\n",
    "                \"insert into polls_economics(create_date, href, title) values(datetime('now'), ?, ?)\", (href,title))\n",
    "            print(title, ' : ', href)\n",
    "        except:\n",
    "            pass"
   ]
  },
  {
   "cell_type": "code",
   "execution_count": null,
   "id": "22fc62b7",
   "metadata": {},
   "outputs": [],
   "source": [
    "cur.execute(\"insert into SCRAPPING_SITE_B(id, target_name, target_url, detail_target_url, category_big, category_middle, category_small,search_word, recruit_title, detail_uri, apply_start_date, apply_end_date, company_name, task, need_career, team_env, need_doc, career_requirements, contact_people, hashtag) values('?,?,?,?,?,?,?,?,?,?,?,?,?,?,?,?,?,?,?,?')\",(id, target_name, target_url, detail_target_url, category_big, category_middle, category_small,search_word, recruit_title, detail_uri, apply_start_date, apply_end_date, company_name, task, need_career, team_env, need_doc, career_requirements, contact_people, hashtag))\n"
   ]
  },
  {
   "cell_type": "code",
   "execution_count": 47,
   "id": "3365b28d",
   "metadata": {},
   "outputs": [
    {
     "ename": "OperationalError",
     "evalue": "1 values for 20 columns",
     "output_type": "error",
     "traceback": [
      "\u001b[1;31m---------------------------------------------------------------------------\u001b[0m",
      "\u001b[1;31mOperationalError\u001b[0m                          Traceback (most recent call last)",
      "\u001b[1;32m<ipython-input-47-96461ecb76fb>\u001b[0m in \u001b[0;36m<module>\u001b[1;34m\u001b[0m\n\u001b[1;32m----> 1\u001b[1;33m \u001b[0mcur\u001b[0m\u001b[1;33m.\u001b[0m\u001b[0mexecute\u001b[0m\u001b[1;33m(\u001b[0m\u001b[1;34m\"insert into SCRAPPING_SITE_B(id, apply_end_date, apply_start_date, career_requirements, category_big, category_middle, category_small, company_name, contact_people, detail_target_url, detail_uri, hashtag, need_career, need_doc, recruit_title, search_word, target_name, target_url, task, team_env) values('?,?,?,?,?,?,?,?,?,?,?,?,?,?,?,?,?,?,?,?')\"\u001b[0m\u001b[1;33m,\u001b[0m\u001b[1;33m(\u001b[0m\u001b[0mid\u001b[0m\u001b[1;33m,\u001b[0m \u001b[0mapply_end_date\u001b[0m\u001b[1;33m,\u001b[0m \u001b[0mapply_start_date\u001b[0m\u001b[1;33m,\u001b[0m \u001b[0mcareer_requirements\u001b[0m\u001b[1;33m,\u001b[0m \u001b[0mcategory_big\u001b[0m\u001b[1;33m,\u001b[0m \u001b[0mcategory_middle\u001b[0m\u001b[1;33m,\u001b[0m \u001b[0mcategory_small\u001b[0m\u001b[1;33m,\u001b[0m \u001b[0mcompany_name\u001b[0m\u001b[1;33m,\u001b[0m \u001b[0mcontact_people\u001b[0m\u001b[1;33m,\u001b[0m \u001b[0mdetail_target_url\u001b[0m\u001b[1;33m,\u001b[0m \u001b[0mdetail_uri\u001b[0m\u001b[1;33m,\u001b[0m \u001b[0mhashtag\u001b[0m\u001b[1;33m,\u001b[0m \u001b[0mneed_career\u001b[0m\u001b[1;33m,\u001b[0m \u001b[0mneed_doc\u001b[0m\u001b[1;33m,\u001b[0m \u001b[0mrecruit_title\u001b[0m\u001b[1;33m,\u001b[0m \u001b[0msearch_word\u001b[0m\u001b[1;33m,\u001b[0m \u001b[0mtarget_name\u001b[0m\u001b[1;33m,\u001b[0m \u001b[0mtarget_url\u001b[0m\u001b[1;33m,\u001b[0m \u001b[0mtask\u001b[0m\u001b[1;33m,\u001b[0m \u001b[0mteam_env\u001b[0m\u001b[1;33m)\u001b[0m\u001b[1;33m)\u001b[0m\u001b[1;33m\u001b[0m\u001b[1;33m\u001b[0m\u001b[0m\n\u001b[0m",
      "\u001b[1;31mOperationalError\u001b[0m: 1 values for 20 columns"
     ]
    }
   ],
   "source": [
    "cur.execute(\"insert into SCRAPPING_SITE_B(id, apply_end_date, apply_start_date, career_requirements, category_big, category_middle, category_small, company_name, contact_people, detail_target_url, detail_uri, hashtag, need_career, need_doc, recruit_title, search_word, target_name, target_url, task, team_env) values('?,?,?,?,?,?,?,?,?,?,?,?,?,?,?,?,?,?,?,?')\",(id, apply_end_date, apply_start_date, career_requirements, category_big, category_middle, category_small, company_name, contact_people, detail_target_url, detail_uri, hashtag, need_career, need_doc, recruit_title, search_word, target_name, target_url, task, team_env))\n"
   ]
  },
  {
   "cell_type": "code",
   "execution_count": 46,
   "id": "ffcc539e",
   "metadata": {},
   "outputs": [
    {
     "data": {
      "text/plain": [
       "20"
      ]
     },
     "execution_count": 46,
     "metadata": {},
     "output_type": "execute_result"
    }
   ],
   "source": [
    "b= [id, apply_end_date, apply_start_date, career_requirements, category_big, category_middle, category_small, company_name, contact_people, detail_target_url, detail_uri, hashtag, need_career, need_doc, recruit_title, search_word, target_name, target_url, task, team_env]\n",
    "len(b)"
   ]
  },
  {
   "cell_type": "code",
   "execution_count": 41,
   "id": "3285b1d6",
   "metadata": {},
   "outputs": [
    {
     "data": {
      "text/plain": [
       "20"
      ]
     },
     "execution_count": 41,
     "metadata": {},
     "output_type": "execute_result"
    }
   ],
   "source": [
    "a= [id, target_name, target_url, detail_target_url, category_big, category_middle, category_small,search_word, recruit_title, detail_uri, apply_start_date, apply_end_date, company_name, task, need_career, team_env, need_doc, career_requirements, contact_people, hashtag]\n",
    "len(a)"
   ]
  },
  {
   "cell_type": "code",
   "execution_count": 64,
   "id": "154ffcdb",
   "metadata": {},
   "outputs": [
    {
     "ename": "OperationalError",
     "evalue": "no such column: ed",
     "output_type": "error",
     "traceback": [
      "\u001b[1;31m---------------------------------------------------------------------------\u001b[0m",
      "\u001b[1;31mOperationalError\u001b[0m                          Traceback (most recent call last)",
      "\u001b[1;32m<ipython-input-64-a4bd7c4052ee>\u001b[0m in \u001b[0;36m<module>\u001b[1;34m\u001b[0m\n\u001b[1;32m----> 1\u001b[1;33m cur.execute('''insert into SCRAPPING_SITE_B (\n\u001b[0m\u001b[0;32m      2\u001b[0m     \u001b[0mapply_end_date\u001b[0m\u001b[1;33m,\u001b[0m\u001b[1;33m\u001b[0m\u001b[1;33m\u001b[0m\u001b[0m\n\u001b[0;32m      3\u001b[0m     \u001b[0mapply_start_date\u001b[0m\u001b[1;33m,\u001b[0m\u001b[1;33m\u001b[0m\u001b[1;33m\u001b[0m\u001b[0m\n\u001b[0;32m      4\u001b[0m     \u001b[0mcareer_requirements\u001b[0m\u001b[1;33m,\u001b[0m\u001b[1;33m\u001b[0m\u001b[1;33m\u001b[0m\u001b[0m\n\u001b[0;32m      5\u001b[0m     \u001b[0mcategory_big\u001b[0m\u001b[1;33m,\u001b[0m\u001b[1;33m\u001b[0m\u001b[1;33m\u001b[0m\u001b[0m\n",
      "\u001b[1;31mOperationalError\u001b[0m: no such column: ed"
     ]
    }
   ],
   "source": [
    "cur.execute('''insert into SCRAPPING_SITE_B (\n",
    "    apply_end_date,\n",
    "    apply_start_date,\n",
    "    career_requirements,\n",
    "    category_big,\n",
    "    company_name,\n",
    "    contact_people,\n",
    "    detail_uri,\n",
    "    hashtag,\n",
    "    need_career,\n",
    "    need_doc,\n",
    "    recruit_title,\n",
    "    target_name,\n",
    "    target_url,\n",
    "    task,\n",
    "    team_env)\n",
    "values (\n",
    "    ed,\n",
    "    '20210911',\n",
    "    '학사',\n",
    "    'IT',\n",
    "    'company_name',\n",
    "    'contact_people',\n",
    "    'detail_uri',\n",
    "    'hashtag',\n",
    "    'need_career',\n",
    "    'need_doc',\n",
    "    'recruit_title',\n",
    "    'target_name',\n",
    "    'target_url',\n",
    "    'task',\n",
    "    'team_env')''')\n"
   ]
  },
  {
   "cell_type": "code",
   "execution_count": 59,
   "id": "1e3cf941",
   "metadata": {},
   "outputs": [],
   "source": [
    "ed = '채용시'\n",
    "sd = '20200901'\n",
    "cr = '학사'\n",
    "db = 'IT'\n",
    "cn = '삼성 멀티캠퍼스'"
   ]
  },
  {
   "cell_type": "code",
   "execution_count": 63,
   "id": "c7413d36",
   "metadata": {},
   "outputs": [
    {
     "data": {
      "text/plain": [
       "[(1,\n",
       "  'target_name',\n",
       "  'target_url',\n",
       "  None,\n",
       "  'IT',\n",
       "  None,\n",
       "  None,\n",
       "  None,\n",
       "  'recruit_title',\n",
       "  'detail_uri',\n",
       "  '20210910',\n",
       "  '채용시까지',\n",
       "  'company_name',\n",
       "  'task',\n",
       "  'need_career',\n",
       "  'team_env',\n",
       "  'need_doc',\n",
       "  'career_requirements',\n",
       "  'contact_people',\n",
       "  'hashtag'),\n",
       " (2,\n",
       "  'target_name',\n",
       "  'target_url',\n",
       "  None,\n",
       "  'IT',\n",
       "  None,\n",
       "  None,\n",
       "  None,\n",
       "  'recruit_title',\n",
       "  'ㅈㄷㄱ',\n",
       "  '20210909',\n",
       "  '채용시까지',\n",
       "  'company_name',\n",
       "  'task',\n",
       "  'need_career',\n",
       "  'team_env',\n",
       "  'need_doc',\n",
       "  'career_requirements',\n",
       "  '안상녀',\n",
       "  'hashtag'),\n",
       " (3,\n",
       "  'target_name',\n",
       "  'target_url',\n",
       "  None,\n",
       "  'IT',\n",
       "  None,\n",
       "  None,\n",
       "  None,\n",
       "  'recruit_title',\n",
       "  'detail_uri',\n",
       "  '20210911',\n",
       "  '채용시까지',\n",
       "  'company_name',\n",
       "  'task',\n",
       "  'need_career',\n",
       "  'team_env',\n",
       "  'need_doc',\n",
       "  '학사',\n",
       "  'contact_people',\n",
       "  'hashtag')]"
      ]
     },
     "execution_count": 63,
     "metadata": {},
     "output_type": "execute_result"
    }
   ],
   "source": [
    "cur.execute(\"SELECT * FROM SCRAPPING_SITE_B\") # newspaper text(기사)의 내용을 추출\n",
    "\n",
    "articles = [] # list 선언\n",
    "\n",
    "for row in cur.fetchall():\n",
    "  articles.append(row) \n",
    "articles"
   ]
  },
  {
   "cell_type": "code",
   "execution_count": 58,
   "id": "36c7342b",
   "metadata": {},
   "outputs": [
    {
     "data": {
      "text/plain": [
       "<sqlite3.Cursor at 0x576f2d0>"
      ]
     },
     "execution_count": 58,
     "metadata": {},
     "output_type": "execute_result"
    }
   ],
   "source": [
    "cur.execute('''select\n",
    "    ssb.apply_end_date,\n",
    "    ssb.apply_start_date,\n",
    "    ssb.career_requirements,\n",
    "    ssb.category_big,\n",
    "    ssb.category_middle,\n",
    "    ssb.category_small,\n",
    "    ssb.company_name,\n",
    "    ssb.contact_people,\n",
    "    ssb.detail_target_url,\n",
    "    ssb.detail_uri,\n",
    "    ssb.hashtag,\n",
    "    ssb.id,\n",
    "    ssb.need_career,\n",
    "    ssb.need_doc,\n",
    "    ssb.recruit_title,\n",
    "    ssb.search_word,\n",
    "    ssb.target_name,\n",
    "    ssb.target_url,\n",
    "    ssb.task,\n",
    "    ssb.team_env\n",
    "from\n",
    "    SCRAPPING_SITE_B ssb''') \n"
   ]
  },
  {
   "cell_type": "code",
   "execution_count": 15,
   "id": "ce3c175f",
   "metadata": {},
   "outputs": [],
   "source": []
  },
  {
   "cell_type": "code",
   "execution_count": null,
   "id": "38cbe54b",
   "metadata": {},
   "outputs": [],
   "source": []
  }
 ],
 "metadata": {
  "kernelspec": {
   "display_name": "Python 3",
   "language": "python",
   "name": "python3"
  },
  "language_info": {
   "codemirror_mode": {
    "name": "ipython",
    "version": 3
   },
   "file_extension": ".py",
   "mimetype": "text/x-python",
   "name": "python",
   "nbconvert_exporter": "python",
   "pygments_lexer": "ipython3",
   "version": "3.8.8"
  }
 },
 "nbformat": 4,
 "nbformat_minor": 5
}
