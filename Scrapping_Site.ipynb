{
 "cells": [
  {
   "cell_type": "markdown",
   "id": "67438a20",
   "metadata": {},
   "source": [
    "## 채용공고 scrapping"
   ]
  },
  {
   "cell_type": "code",
   "execution_count": null,
   "id": "d46b690a",
   "metadata": {},
   "outputs": [],
   "source": [
    "# pip install selenium"
   ]
  },
  {
   "cell_type": "code",
   "execution_count": 3,
   "id": "660330d0",
   "metadata": {},
   "outputs": [],
   "source": [
    "from selenium import webdriver"
   ]
  },
  {
   "cell_type": "code",
   "execution_count": 4,
   "id": "78460607",
   "metadata": {},
   "outputs": [],
   "source": [
    "browser = webdriver.Chrome('./chromedriver.exe')"
   ]
  },
  {
   "cell_type": "code",
   "execution_count": 5,
   "id": "43f66267",
   "metadata": {},
   "outputs": [],
   "source": [
    "browser.get('https://www.jobindexworld.com/jobpost/list')"
   ]
  },
  {
   "cell_type": "code",
   "execution_count": 6,
   "id": "ad586753",
   "metadata": {},
   "outputs": [],
   "source": [
    "html = browser.page_source"
   ]
  },
  {
   "cell_type": "code",
   "execution_count": 7,
   "id": "ac9f8ae3",
   "metadata": {},
   "outputs": [],
   "source": [
    "from bs4 import BeautifulSoup"
   ]
  },
  {
   "cell_type": "code",
   "execution_count": 8,
   "id": "6d6af9a9",
   "metadata": {},
   "outputs": [],
   "source": [
    "soup = BeautifulSoup(html, 'html.parser')"
   ]
  },
  {
   "cell_type": "markdown",
   "id": "06602431",
   "metadata": {},
   "source": [
    "### 채용공고 list를 클릭해서 들어가기"
   ]
  },
  {
   "cell_type": "markdown",
   "id": "e252632a",
   "metadata": {},
   "source": [
    "추가해야될 것\n",
    "\n",
    "대상 사이트명 : target_name\t# 프로그래머스\n",
    "대상 URL : target_url\n",
    "상세대상 URL : detail_target_url\n",
    "대분류명 : category_big\t# 공통 IT\n",
    "중분류명 : category_middle\n",
    "소분류명 : category_small\n",
    "주요 검색어 : search_word  # 사용했을 시\n",
    "스크래핑 일자 : create_date"
   ]
  },
  {
   "cell_type": "code",
   "execution_count": 9,
   "id": "8ead50da",
   "metadata": {},
   "outputs": [],
   "source": [
    "recruit_title = [] # 주제\n",
    "company_name = [] # 회사명\n",
    "company = [] # 회사개요 : 회사이름이 없어서 회사개요를 추가\n",
    "detail_uri = [] # 내용 url\n",
    "\n",
    "apply_start_date = [] # 모집기간\n",
    "apply_end_date = []\n",
    "apply_end_date2 = [] # 제출기간\n",
    "\n",
    "task = [] # 직무개요\n",
    "career_requirements = [] # 교육요건\n",
    "need_career = [] # 경력요건\n",
    "team_env = [] # 처우\n",
    "need_doc = [] # 제출서류\n",
    "\n",
    "contact_people = [] # 담당컨설턴트\n",
    "hashtag =[] # 해시태그"
   ]
  },
  {
   "cell_type": "code",
   "execution_count": 22,
   "id": "e2d6af17",
   "metadata": {
    "scrolled": true
   },
   "outputs": [
    {
     "name": "stdout",
     "output_type": "stream",
     "text": [
      "[['회사개요', '국내식품가공/바이오전문기업'], ['모집기간', '채용시까지']]\n",
      "--------------\n",
      "['국내식품가공/바이오전문기업', '글로벌레저·스포츠커뮤니케이션전문기업', '글로벌레저·스포츠커뮤니케이션전문기업', '국내식품가공/바이오전문기업', '국내대기업계열회사', '국내식품가공/바이오전문기업', '글로벌레저·스포츠커뮤니케이션전문기업', '글로벌레저·스포츠커뮤니케이션전문기업', '국내식품가공/바이오전문기업', '국내대기업계열회사', '국내식품가공/바이오전문기업']\n",
      "['채용시까지', '채용시까지', '채용시까지', '채용시까지', '채용시까지', '채용시까지', '채용시까지', '채용시까지', '채용시까지', '채용시까지', '채용시까지']\n",
      "['직무 개요', '-\\xa0B2B(특판) / 대형할인점 / SSM / CVS 본부 영업', '', '경력 요건', '-\\xa0유통영업 경력 10년\\xa0이상', '', '처우', '- 협의', '', '제출 기한', '- ASAP', '', '◈제출서류 및 기타', '- 국문 이력서 및 자기소개서', '', '담당 컨설턴트', '- 안상녀 / 02-2016-6680 / anne@vpeople.co.kr']\n",
      "--------------\n",
      "['-\\xa0B2B(특판) / 대형할인점 / SSM / CVS 본부 영업', '- 하드웨어 개발', '- 기구설계', '- Lead the HR function', '-\\xa0B2B(특판) / 대형할인점 / SSM / CVS 본부 영업', '- 하드웨어 개발', '- 기구설계', '- Lead the HR function', '-\\xa0B2B(특판) / 대형할인점 / SSM / CVS 본부 영업']\n",
      "['-\\xa0유통영업 경력 10년\\xa0이상', '- 유관경력 3~15년', '- 유관경력 10~15년', '- 12~17 years experience in MNC', '-\\xa0유통영업 경력 10년\\xa0이상', '- 유관경력 3~15년', '- 유관경력 10~15년', '- 12~17 years experience in MNC', '-\\xa0유통영업 경력 10년\\xa0이상']\n",
      "['- 협의', '- 협의', '- 협의', '- 협의', '- Negotiable', '- 협의', '- 협의', '- 협의', '- 협의', '- Negotiable', '- 협의']\n",
      "['- 국문 이력서 및 자기소개서', '- 국문 이력서 및 자기소개서', '- 국문 이력서 및 자기소개서', '- 영문 이력서', '- 국문 이력서 및 자기소개서', '- 국문 이력서 및 자기소개서', '- 국문 이력서 및 자기소개서', '- 영문 이력서']\n",
      "[['회사개요', '글로벌레저·스포츠커뮤니케이션전문기업'], ['모집기간', '채용시까지']]\n",
      "--------------\n",
      "['국내식품가공/바이오전문기업', '글로벌레저·스포츠커뮤니케이션전문기업', '글로벌레저·스포츠커뮤니케이션전문기업', '국내식품가공/바이오전문기업', '국내대기업계열회사', '국내식품가공/바이오전문기업', '글로벌레저·스포츠커뮤니케이션전문기업', '글로벌레저·스포츠커뮤니케이션전문기업', '국내식품가공/바이오전문기업', '국내대기업계열회사', '국내식품가공/바이오전문기업', '글로벌레저·스포츠커뮤니케이션전문기업']\n",
      "['채용시까지', '채용시까지', '채용시까지', '채용시까지', '채용시까지', '채용시까지', '채용시까지', '채용시까지', '채용시까지', '채용시까지', '채용시까지', '채용시까지']\n",
      "['직무 개요', '- 하드웨어 개발', '', '경력 요건', '- 유관경력 3~15년', '-\\xa0Bluetooth, WiFi,\\xa0Zigbee 2.4Ghz RF 개발 경험', '', '처우', '- 협의', '', '제출 기한', '- ASAP', '', '제출 서류 및 기타', '- 국문 이력서 및 자기소개서', '', '담당 컨설턴트', '- 안상녀 / 02-2016-6680 / anne@vpeople.co.kr']\n",
      "--------------\n",
      "['-\\xa0B2B(특판) / 대형할인점 / SSM / CVS 본부 영업', '- 하드웨어 개발', '- 기구설계', '- Lead the HR function', '-\\xa0B2B(특판) / 대형할인점 / SSM / CVS 본부 영업', '- 하드웨어 개발', '- 기구설계', '- Lead the HR function', '-\\xa0B2B(특판) / 대형할인점 / SSM / CVS 본부 영업', '- 하드웨어 개발']\n",
      "['-\\xa0유통영업 경력 10년\\xa0이상', '- 유관경력 3~15년', '- 유관경력 10~15년', '- 12~17 years experience in MNC', '-\\xa0유통영업 경력 10년\\xa0이상', '- 유관경력 3~15년', '- 유관경력 10~15년', '- 12~17 years experience in MNC', '-\\xa0유통영업 경력 10년\\xa0이상', '- 유관경력 3~15년']\n",
      "['- 협의', '- 협의', '- 협의', '- 협의', '- Negotiable', '- 협의', '- 협의', '- 협의', '- 협의', '- Negotiable', '- 협의', '- 협의']\n",
      "['- 국문 이력서 및 자기소개서', '- 국문 이력서 및 자기소개서', '- 국문 이력서 및 자기소개서', '- 영문 이력서', '- 국문 이력서 및 자기소개서', '- 국문 이력서 및 자기소개서', '- 국문 이력서 및 자기소개서', '- 영문 이력서', '- 국문 이력서 및 자기소개서']\n",
      "[['회사개요', '글로벌레저·스포츠커뮤니케이션전문기업'], ['모집기간', '채용시까지']]\n",
      "--------------\n",
      "['국내식품가공/바이오전문기업', '글로벌레저·스포츠커뮤니케이션전문기업', '글로벌레저·스포츠커뮤니케이션전문기업', '국내식품가공/바이오전문기업', '국내대기업계열회사', '국내식품가공/바이오전문기업', '글로벌레저·스포츠커뮤니케이션전문기업', '글로벌레저·스포츠커뮤니케이션전문기업', '국내식품가공/바이오전문기업', '국내대기업계열회사', '국내식품가공/바이오전문기업', '글로벌레저·스포츠커뮤니케이션전문기업', '글로벌레저·스포츠커뮤니케이션전문기업']\n",
      "['채용시까지', '채용시까지', '채용시까지', '채용시까지', '채용시까지', '채용시까지', '채용시까지', '채용시까지', '채용시까지', '채용시까지', '채용시까지', '채용시까지', '채용시까지']\n",
      "['직무 개요', '- 기구설계', '', '경력 요건', '- 유관경력 10~15년', '-\\xa0소형전자제품 기구설계 경험\\xa0(로봇청소기, 웨어러블밴드,\\xa0블루투스스피커, 네비게이션 등)', '- 석사 이상', '', '처우', '- 협의', '', '제출 기한', '- ASAP', '', '제출 서류 및 기타', '- 국문 이력서 및 자기소개서', '', '담당 컨설턴트', '- 안상녀 / 02-2016-6680 / anne@vpeople.co.kr']\n",
      "--------------\n",
      "['-\\xa0B2B(특판) / 대형할인점 / SSM / CVS 본부 영업', '- 하드웨어 개발', '- 기구설계', '- Lead the HR function', '-\\xa0B2B(특판) / 대형할인점 / SSM / CVS 본부 영업', '- 하드웨어 개발', '- 기구설계', '- Lead the HR function', '-\\xa0B2B(특판) / 대형할인점 / SSM / CVS 본부 영업', '- 하드웨어 개발', '- 기구설계']\n",
      "['-\\xa0유통영업 경력 10년\\xa0이상', '- 유관경력 3~15년', '- 유관경력 10~15년', '- 12~17 years experience in MNC', '-\\xa0유통영업 경력 10년\\xa0이상', '- 유관경력 3~15년', '- 유관경력 10~15년', '- 12~17 years experience in MNC', '-\\xa0유통영업 경력 10년\\xa0이상', '- 유관경력 3~15년', '- 유관경력 10~15년']\n",
      "['- 협의', '- 협의', '- 협의', '- 협의', '- Negotiable', '- 협의', '- 협의', '- 협의', '- 협의', '- Negotiable', '- 협의', '- 협의', '- 협의']\n",
      "['- 국문 이력서 및 자기소개서', '- 국문 이력서 및 자기소개서', '- 국문 이력서 및 자기소개서', '- 영문 이력서', '- 국문 이력서 및 자기소개서', '- 국문 이력서 및 자기소개서', '- 국문 이력서 및 자기소개서', '- 영문 이력서', '- 국문 이력서 및 자기소개서', '- 국문 이력서 및 자기소개서']\n",
      "[['회사개요', '국내식품가공/바이오전문기업'], ['모집기간', '채용시까지']]\n",
      "--------------\n",
      "['국내식품가공/바이오전문기업', '글로벌레저·스포츠커뮤니케이션전문기업', '글로벌레저·스포츠커뮤니케이션전문기업', '국내식품가공/바이오전문기업', '국내대기업계열회사', '국내식품가공/바이오전문기업', '글로벌레저·스포츠커뮤니케이션전문기업', '글로벌레저·스포츠커뮤니케이션전문기업', '국내식품가공/바이오전문기업', '국내대기업계열회사', '국내식품가공/바이오전문기업', '글로벌레저·스포츠커뮤니케이션전문기업', '글로벌레저·스포츠커뮤니케이션전문기업', '국내식품가공/바이오전문기업']\n",
      "['채용시까지', '채용시까지', '채용시까지', '채용시까지', '채용시까지', '채용시까지', '채용시까지', '채용시까지', '채용시까지', '채용시까지', '채용시까지', '채용시까지', '채용시까지', '채용시까지']\n",
      "['◈\\xa0직무 개요', '-\\xa0외부몰(오픈마켓,\\xa0소셜커머스,\\xa0종합몰)\\xa0채널영업\\xa0및\\xa0매출관리\\xa0 \\xa0 \\xa0\\xa0 \\xa0 \\xa0-\\xa0외부몰\\xa0담당\\xa0채널별\\xa0전용\\xa0행사\\xa0기획/제안/실행\\xa0 \\xa0\\xa0\\xa0 \\xa0 \\xa0-\\xa0외부몰\\xa0담당\\xa0채널에\\xa0대한\\xa0정산\\xa0및\\xa0실적분석/리포트\\xa0\\xa0\\xa0 \\xa0 \\xa0-\\xa0담당\\xa0조직원\\xa0성과관리\\xa0및\\xa0코칭◈\\xa0경력 요건\\xa0 \\xa0 -\\xa0유관경력 8~15년\\xa0 \\xa0 -\\xa0건강식품,\\xa0건강기능식품\\xa0경험', '-\\xa0온라인\\xa0영업조직\\xa0관리\\xa0경험\\xa0필수(팀,\\xa0파트\\xa0등)', '-\\xa0외부몰과의\\xa0활발한\\xa0커뮤니케이션\\xa0및\\xa0영업활동\\xa0경험', '처우', '- 협의', '제출 기한', '- ASAP', '', '제출 서류 및 기타', '- 국문 이력서 및 자기소개서', '담당 컨설턴트', '- 안상녀 / 02-2016-6680 / anne@vpeople.co.kr']\n",
      "--------------\n",
      "['-\\xa0B2B(특판) / 대형할인점 / SSM / CVS 본부 영업', '- 하드웨어 개발', '- 기구설계', '- Lead the HR function', '-\\xa0B2B(특판) / 대형할인점 / SSM / CVS 본부 영업', '- 하드웨어 개발', '- 기구설계', '- Lead the HR function', '-\\xa0B2B(특판) / 대형할인점 / SSM / CVS 본부 영업', '- 하드웨어 개발', '- 기구설계']\n",
      "['-\\xa0유통영업 경력 10년\\xa0이상', '- 유관경력 3~15년', '- 유관경력 10~15년', '- 12~17 years experience in MNC', '-\\xa0유통영업 경력 10년\\xa0이상', '- 유관경력 3~15년', '- 유관경력 10~15년', '- 12~17 years experience in MNC', '-\\xa0유통영업 경력 10년\\xa0이상', '- 유관경력 3~15년', '- 유관경력 10~15년']\n",
      "['- 협의', '- 협의', '- 협의', '- 협의', '- Negotiable', '- 협의', '- 협의', '- 협의', '- 협의', '- Negotiable', '- 협의', '- 협의', '- 협의', '- 협의']\n",
      "['- 국문 이력서 및 자기소개서', '- 국문 이력서 및 자기소개서', '- 국문 이력서 및 자기소개서', '- 영문 이력서', '- 국문 이력서 및 자기소개서', '- 국문 이력서 및 자기소개서', '- 국문 이력서 및 자기소개서', '- 영문 이력서', '- 국문 이력서 및 자기소개서', '- 국문 이력서 및 자기소개서', '- 국문 이력서 및 자기소개서']\n",
      "[['회사개요', '국내대기업계열회사'], ['모집기간', '채용시까지']]\n",
      "--------------\n",
      "['국내식품가공/바이오전문기업', '글로벌레저·스포츠커뮤니케이션전문기업', '글로벌레저·스포츠커뮤니케이션전문기업', '국내식품가공/바이오전문기업', '국내대기업계열회사', '국내식품가공/바이오전문기업', '글로벌레저·스포츠커뮤니케이션전문기업', '글로벌레저·스포츠커뮤니케이션전문기업', '국내식품가공/바이오전문기업', '국내대기업계열회사', '국내식품가공/바이오전문기업', '글로벌레저·스포츠커뮤니케이션전문기업', '글로벌레저·스포츠커뮤니케이션전문기업', '국내식품가공/바이오전문기업', '국내대기업계열회사']\n",
      "['채용시까지', '채용시까지', '채용시까지', '채용시까지', '채용시까지', '채용시까지', '채용시까지', '채용시까지', '채용시까지', '채용시까지', '채용시까지', '채용시까지', '채용시까지', '채용시까지', '채용시까지']\n",
      "['직무 개요', '- Lead the HR function', '', '경력 요건', '- 12~17 years experience in MNC', '- Fluent in English', '', '처우', '- Negotiable', '', '제출 기한', '- ASAP', '', '제출 서류 및 기타', '- 영문 이력서', '', '담당 컨설턴트', '- 안상녀 / 02-2016-6680 / anne@vpeople.co.kr']\n",
      "--------------\n",
      "['-\\xa0B2B(특판) / 대형할인점 / SSM / CVS 본부 영업', '- 하드웨어 개발', '- 기구설계', '- Lead the HR function', '-\\xa0B2B(특판) / 대형할인점 / SSM / CVS 본부 영업', '- 하드웨어 개발', '- 기구설계', '- Lead the HR function', '-\\xa0B2B(특판) / 대형할인점 / SSM / CVS 본부 영업', '- 하드웨어 개발', '- 기구설계', '- Lead the HR function']\n",
      "['-\\xa0유통영업 경력 10년\\xa0이상', '- 유관경력 3~15년', '- 유관경력 10~15년', '- 12~17 years experience in MNC', '-\\xa0유통영업 경력 10년\\xa0이상', '- 유관경력 3~15년', '- 유관경력 10~15년', '- 12~17 years experience in MNC', '-\\xa0유통영업 경력 10년\\xa0이상', '- 유관경력 3~15년', '- 유관경력 10~15년', '- 12~17 years experience in MNC']\n",
      "['- 협의', '- 협의', '- 협의', '- 협의', '- Negotiable', '- 협의', '- 협의', '- 협의', '- 협의', '- Negotiable', '- 협의', '- 협의', '- 협의', '- 협의', '- Negotiable']\n",
      "['- 국문 이력서 및 자기소개서', '- 국문 이력서 및 자기소개서', '- 국문 이력서 및 자기소개서', '- 영문 이력서', '- 국문 이력서 및 자기소개서', '- 국문 이력서 및 자기소개서', '- 국문 이력서 및 자기소개서', '- 영문 이력서', '- 국문 이력서 및 자기소개서', '- 국문 이력서 및 자기소개서', '- 국문 이력서 및 자기소개서', '- 영문 이력서']\n"
     ]
    }
   ],
   "source": [
    "import time\n",
    "\n",
    "for i in range(5):\n",
    "    # click해서 들어간 창\n",
    "    browser.find_elements_by_css_selector('article.cpn-circle-conts-item')[i].click() # 클릭 페이지\n",
    "    html_scraping = browser.page_source \n",
    "    soup_scraping = BeautifulSoup(html_scraping, 'html.parser')\n",
    "    \n",
    "    recruit = soup_scraping.select('article.circle-conts-view > h3.tit-h3') # 주제, 제목\n",
    "    recruit_t = recruit[0].text.strip()\n",
    "    recruit_title.append(recruit_t)\n",
    "    \n",
    "    uri = soup_scraping.select('meta[property=\"og:url\"]') # 구직 회사 내용 화면\n",
    "    uri_t = uri[0]['content']\n",
    "    detail_uri.append(uri_t)\n",
    "    \n",
    "    # \n",
    "    start_date = soup_scraping.select('div.date')\n",
    "    start_date_t = start_date[0].text.strip()[1:9] # 날짜, 시간 -> data time: https://docs.python.org/ko/3/library/datetime.html\n",
    "    apply_start_date.append(start_date_t)\n",
    "\n",
    "#-------------------------------------------------------------------------------------------------\n",
    "    # 윗태그 5개 스크래핑 양식(task, need_doc이 없으므로 ' '을 추가)\n",
    "    tags_li = soup_scraping.select('div.circle-conts-view-main-conts-box-question > div > ul > li')\n",
    "    tags_li_data = []\n",
    "\n",
    "    for i in range(len(tags_li)):\n",
    "        tags_li_data.append(tags_li[i].text.strip().replace(' ','').replace('\\n','').split(':'))\n",
    "\n",
    "    for i in range(len(tags_li_data)):\n",
    "        if tags_li_data[i][0] == '회사개요':\n",
    "            company.append(tags_li_data[i][1])\n",
    "            print(tags_li_data[i][1])\n",
    "        elif tags_li_data[i][0] == '경력레벨':\n",
    "            need_career.append(tags_li_data[i][1])\n",
    "            print(tags_li_data[i][1])\n",
    "        elif tags_li_data[i][0] == '급여수준':\n",
    "            team_env.append(tags_li_data[i][1])\n",
    "            print(tags_li_data[i][1])\n",
    "        elif tags_li_data[i][0] == '교육수준':\n",
    "            career_requirements.append(tags_li_data[i][1])\n",
    "            print(tags_li_data[i][1])\n",
    "        elif tags_li_data[i][0] == '모집기간':\n",
    "            apply_end_date.append(tags_li_data[i][1])\n",
    "            print(tags_li_data[i][1])\n",
    "            \n",
    "    task.append(' ')\n",
    "    need_doc.append(' ')\n",
    "\n",
    "#---------------------------------------------------------------------------------------------------            \n",
    "    # 윗태그 2개 아래태그 5개 스크래핑 양식(career_requirements 컬럼이 없으므로 ' ' 추가)\n",
    "\n",
    "    tags_li = soup_scraping.select('div.circle-conts-view-main-conts-box-question > div > ul > li')\n",
    "    tags_li_data = []\n",
    "\n",
    "    for i in range(len(tags_li)):\n",
    "        tags_li_data.append(tags_li[i].text.strip().replace(' ','').replace('\\n','').split(':'))\n",
    "\n",
    "    print(tags_li_data)\n",
    "    print('--------------')\n",
    "\n",
    "    for i in range(len(tags_li_data)):\n",
    "        if tags_li_data[i][0] == '회사개요':\n",
    "            company.append(tags_li_data[i][1])\n",
    "        elif tags_li_data[i][0] == '모집기간':\n",
    "            apply_end_date.append(tags_li_data[i][1])\n",
    "\n",
    "    print(company)\n",
    "    print(apply_end_date)\n",
    "\n",
    "    tags = soup_scraping.select('div.circle-conts-view-main-conts-box-question > div')\n",
    "    tags = tags[1:len(tags)]\n",
    "    tags_data = []\n",
    "    for i in range(len(tags)):\n",
    "        tags_data.append(tags[i].text.strip().replace('◈ ',''))\n",
    "\n",
    "    print(tags_data)\n",
    "    print('--------------')\n",
    "\n",
    "    for i in range(len(tags_data)):\n",
    "        if tags_data[i] == '직무 개요':\n",
    "            task.append(tags_data[i+1])\n",
    "\n",
    "        elif tags_data[i] == '경력 요건':\n",
    "            need_career.append(tags_data[i+1])\n",
    "\n",
    "        elif tags_data[i] == '처우':\n",
    "            team_env.append(tags_data[i+1])\n",
    "\n",
    "        elif tags_data[i] == '제출 서류 및 기타':\n",
    "            need_doc.append(tags_data[i+1])\n",
    "\n",
    "    print(task)\n",
    "    print(need_career)\n",
    "    print(team_env)\n",
    "    print(need_doc)\n",
    "    career_requirements.append(' ')\n",
    "    \n",
    "    contact = soup_scraping.select('span.writer-info')\n",
    "    contact_t = contact[0].text.strip()[0:3]\n",
    "    contact_people.append(contact_t)\n",
    "    \n",
    "    hash_col = []\n",
    "    hash = soup_scraping.select('div.keyword-wrap > a.keyword') # 해시태그\n",
    "    for j in range(len(hash)):  \n",
    "        hash_t = hash[j].text.strip()\n",
    "        hash_col.append(hash_t)\n",
    "    hashtag.append(hash_col)\n",
    "    \n",
    "    time.sleep(1)\n",
    "    browser.back()\n"
   ]
  },
  {
   "cell_type": "code",
   "execution_count": 24,
   "id": "3ce76ae9",
   "metadata": {},
   "outputs": [
    {
     "data": {
      "text/plain": [
       "(['Key Account Manager',\n",
       "  'HW개발',\n",
       "  '기구설계 엔지니어',\n",
       "  '이커머스팀장',\n",
       "  'HR Manager',\n",
       "  'Key Account Manager',\n",
       "  'HW개발',\n",
       "  '기구설계 엔지니어',\n",
       "  '이커머스팀장',\n",
       "  'HR Manager',\n",
       "  'Key Account Manager',\n",
       "  'HW개발',\n",
       "  '기구설계 엔지니어',\n",
       "  '이커머스팀장',\n",
       "  'HR Manager'],\n",
       " ['https://www.jobindexworld.com/jobpost/view/53396',\n",
       "  'https://www.jobindexworld.com/jobpost/view/53370',\n",
       "  'https://www.jobindexworld.com/jobpost/view/53369',\n",
       "  'https://www.jobindexworld.com/jobpost/view/42813',\n",
       "  'https://www.jobindexworld.com/jobpost/view/53185',\n",
       "  'https://www.jobindexworld.com/jobpost/view/53396',\n",
       "  'https://www.jobindexworld.com/jobpost/view/53370',\n",
       "  'https://www.jobindexworld.com/jobpost/view/53369',\n",
       "  'https://www.jobindexworld.com/jobpost/view/42813',\n",
       "  'https://www.jobindexworld.com/jobpost/view/53185',\n",
       "  'https://www.jobindexworld.com/jobpost/view/53396',\n",
       "  'https://www.jobindexworld.com/jobpost/view/53370',\n",
       "  'https://www.jobindexworld.com/jobpost/view/53369',\n",
       "  'https://www.jobindexworld.com/jobpost/view/42813',\n",
       "  'https://www.jobindexworld.com/jobpost/view/53185'],\n",
       " ['안상녀',\n",
       "  '안상녀',\n",
       "  '안상녀',\n",
       "  '안상녀',\n",
       "  '안상녀',\n",
       "  '안상녀',\n",
       "  '안상녀',\n",
       "  '안상녀',\n",
       "  '안상녀',\n",
       "  '안상녀',\n",
       "  '안상녀',\n",
       "  '안상녀',\n",
       "  '안상녀',\n",
       "  '안상녀',\n",
       "  '안상녀'],\n",
       " [['#Key_Account'],\n",
       "  ['#하드웨어개발'],\n",
       "  ['#기구설계'],\n",
       "  ['#이커머스', '#외부몰'],\n",
       "  ['#인사'],\n",
       "  ['#Key_Account'],\n",
       "  ['#하드웨어개발'],\n",
       "  ['#기구설계'],\n",
       "  ['#이커머스', '#외부몰'],\n",
       "  ['#인사'],\n",
       "  ['#Key_Account'],\n",
       "  ['#하드웨어개발'],\n",
       "  ['#기구설계'],\n",
       "  ['#이커머스', '#외부몰'],\n",
       "  ['#인사']],\n",
       " ['1시간 전(up',\n",
       "  '21.09.02',\n",
       "  '21.09.02',\n",
       "  '21.07.14',\n",
       "  '21.08.02',\n",
       "  '1시간 전(up',\n",
       "  '21.09.02',\n",
       "  '21.09.02',\n",
       "  '21.07.14',\n",
       "  '21.08.02',\n",
       "  '1시간 전(up',\n",
       "  '21.09.02',\n",
       "  '21.09.02',\n",
       "  '21.07.14',\n",
       "  '21.08.02'],\n",
       " ['채용시까지',\n",
       "  '채용시까지',\n",
       "  '채용시까지',\n",
       "  '채용시까지',\n",
       "  '채용시까지',\n",
       "  '채용시까지',\n",
       "  '채용시까지',\n",
       "  '채용시까지',\n",
       "  '채용시까지',\n",
       "  '채용시까지',\n",
       "  '채용시까지',\n",
       "  '채용시까지',\n",
       "  '채용시까지',\n",
       "  '채용시까지',\n",
       "  '채용시까지'],\n",
       " ['-\\xa0B2B(특판) / 대형할인점 / SSM / CVS 본부 영업',\n",
       "  '- 하드웨어 개발',\n",
       "  '- 기구설계',\n",
       "  '- Lead the HR function',\n",
       "  '-\\xa0B2B(특판) / 대형할인점 / SSM / CVS 본부 영업',\n",
       "  '- 하드웨어 개발',\n",
       "  '- 기구설계',\n",
       "  '- Lead the HR function',\n",
       "  '-\\xa0B2B(특판) / 대형할인점 / SSM / CVS 본부 영업',\n",
       "  '- 하드웨어 개발',\n",
       "  '- 기구설계',\n",
       "  '- Lead the HR function'],\n",
       " ['-\\xa0유통영업 경력 10년\\xa0이상',\n",
       "  '- 유관경력 3~15년',\n",
       "  '- 유관경력 10~15년',\n",
       "  '- 12~17 years experience in MNC',\n",
       "  '-\\xa0유통영업 경력 10년\\xa0이상',\n",
       "  '- 유관경력 3~15년',\n",
       "  '- 유관경력 10~15년',\n",
       "  '- 12~17 years experience in MNC',\n",
       "  '-\\xa0유통영업 경력 10년\\xa0이상',\n",
       "  '- 유관경력 3~15년',\n",
       "  '- 유관경력 10~15년',\n",
       "  '- 12~17 years experience in MNC'],\n",
       " ['- 협의',\n",
       "  '- 협의',\n",
       "  '- 협의',\n",
       "  '- 협의',\n",
       "  '- Negotiable',\n",
       "  '- 협의',\n",
       "  '- 협의',\n",
       "  '- 협의',\n",
       "  '- 협의',\n",
       "  '- Negotiable',\n",
       "  '- 협의',\n",
       "  '- 협의',\n",
       "  '- 협의',\n",
       "  '- 협의',\n",
       "  '- Negotiable'],\n",
       " ['- 국문 이력서 및 자기소개서',\n",
       "  '- 국문 이력서 및 자기소개서',\n",
       "  '- 국문 이력서 및 자기소개서',\n",
       "  '- 영문 이력서',\n",
       "  '- 국문 이력서 및 자기소개서',\n",
       "  '- 국문 이력서 및 자기소개서',\n",
       "  '- 국문 이력서 및 자기소개서',\n",
       "  '- 영문 이력서',\n",
       "  '- 국문 이력서 및 자기소개서',\n",
       "  '- 국문 이력서 및 자기소개서',\n",
       "  '- 국문 이력서 및 자기소개서',\n",
       "  '- 영문 이력서'])"
      ]
     },
     "execution_count": 24,
     "metadata": {},
     "output_type": "execute_result"
    }
   ],
   "source": [
    "recruit_title, detail_uri, contact_people, hashtag, apply_start_date, apply_end_date, task, need_career, team_env, need_doc"
   ]
  },
  {
   "cell_type": "code",
   "execution_count": 26,
   "id": "362d1dd9",
   "metadata": {},
   "outputs": [
    {
     "data": {
      "text/plain": [
       "[' ', ' ', ' ', ' ', ' ', ' ', ' ', ' ', ' ', ' ', ' ', ' ', ' ', ' ', ' ']"
      ]
     },
     "execution_count": 26,
     "metadata": {},
     "output_type": "execute_result"
    }
   ],
   "source": [
    "career_requirements"
   ]
  },
  {
   "cell_type": "code",
   "execution_count": 14,
   "id": "40ed14d3",
   "metadata": {},
   "outputs": [],
   "source": [
    "browser.find_elements_by_css_selector('article.cpn-circle-conts-item')[6].click()"
   ]
  },
  {
   "cell_type": "code",
   "execution_count": 15,
   "id": "5d000c89",
   "metadata": {},
   "outputs": [],
   "source": [
    "html_scraping = browser.page_source"
   ]
  },
  {
   "cell_type": "code",
   "execution_count": 16,
   "id": "0dbf9121",
   "metadata": {},
   "outputs": [],
   "source": [
    "soup_scraping = BeautifulSoup(html_scraping, 'html.parser')"
   ]
  },
  {
   "cell_type": "code",
   "execution_count": null,
   "id": "e5f19d50",
   "metadata": {},
   "outputs": [],
   "source": [
    "# start date 20210909 형식으로 바꾸기 연습\n",
    "start_date = soup_scraping.select('div.date')\n",
    "start_date_t = start_date[0].text.strip()\n",
    "start_date[0].replace('[^가-힣ㄱ-ㅎㅠ ]','')"
   ]
  },
  {
   "cell_type": "code",
   "execution_count": null,
   "id": "661b18a4",
   "metadata": {},
   "outputs": [],
   "source": [
    "import time\n",
    "\n",
    "for i in range(10):\n",
    "    # click해서 들어간 창\n",
    "    browser.find_elements_by_css_selector('article.cpn-circle-conts-item')[i].click() # 클릭 페이지\n",
    "    html_scraping = browser.page_source \n",
    "    soup_scraping = BeautifulSoup(html_scraping, 'html.parser')\n",
    "        \n",
    "    tags_li = soup_scraping.select('div.circle-conts-view-main-conts-box-question > div > ul > li')\n",
    "    tags_li_data = []\n",
    "\n",
    "    for i in range(len(tags_li)):\n",
    "        tags_li_data.append(tags_li[i].text.strip().replace(' ','').replace('\\n','').split(':'))\n",
    "\n",
    "    print(tags_li_data)\n",
    "    \n",
    "    print('-----------------')\n",
    "    # 5개 태그 뽑기 (시간단축)\n",
    "    task.append(tags_li_data[0][1])\n",
    "    need_career.append(tags_li_data[1][1])\n",
    "    team_env.append(tags_li_data[2][1])\n",
    "    need_doc.append(tags_li_data[3][1])\n",
    "    apply_end_date.append(tags_li_data[4][1])\n",
    "          \n",
    "    tags = soup_scraping.select('div.circle-conts-view-main-conts-box-question > div')\n",
    "    \n",
    "    task.append(tags_li_data[0][1])\n",
    "    \n",
    "    apply_end_date.append(tags_li_data[4][1])\n",
    "    \n",
    "    for i in range(len(tags)):\n",
    "        if tags[i].text.strip()[2:7] == '직무 개요':\n",
    "            task_t = tags[i+1].text.strip()\n",
    "            task.append(task_t)\n",
    "            # print(tags[i+1].text.strip())\n",
    "        elif tags[i].text.strip()[2:7] == '경력 요건':\n",
    "            need_career_t = tags[i+1].text.strip()\n",
    "            need_career.append(need_career_t)\n",
    "            # print(tags[i+1].text.strip())\n",
    "        elif tags[i].text.strip()[2:4] == '처우':\n",
    "            team_env_t = tags[i+1].text.strip()\n",
    "            team_env.append(team_env_t)\n",
    "            # print(tags[i+1].text.strip())\n",
    "        elif tags[i].text.strip()[2:7] == '제출 기한':\n",
    "            apply_end_date_t = tags[i+1].text.strip()\n",
    "            apply_end_date.append(apply_end_date_t)\n",
    "            # print(tags[i+1].text.strip())\n",
    "        elif tags[i].text.strip()[2:12] == '제출 서류 및 기타':\n",
    "            need_doc_t = tags[i+1].text.strip()\n",
    "            need_doc.append(need_doc_t)\n",
    "            # print(tags[i+1].text.strip())        \n",
    "   \n",
    "    time.sleep(1)\n",
    "    browser.back()"
   ]
  },
  {
   "cell_type": "markdown",
   "id": "97c07e99",
   "metadata": {},
   "source": [
    "## DataFrame 형식으로 만들기"
   ]
  },
  {
   "cell_type": "code",
   "execution_count": null,
   "id": "af23e134",
   "metadata": {},
   "outputs": [],
   "source": [
    "import pandas as pd"
   ]
  },
  {
   "cell_type": "code",
   "execution_count": null,
   "id": "98fd6978",
   "metadata": {},
   "outputs": [],
   "source": [
    "df = pd.DataFrame(tags_li_data, columns=['tags_li'])"
   ]
  },
  {
   "cell_type": "markdown",
   "id": "17e291df",
   "metadata": {},
   "source": [
    "### tag를 활용하여 select"
   ]
  },
  {
   "cell_type": "code",
   "execution_count": null,
   "id": "ae3ede8b",
   "metadata": {},
   "outputs": [],
   "source": [
    "recruit_title = soup.select('article.circle-conts-view > h3.tit-h3') # 주제, 제목\n",
    "company_name = soup.select('div.jobpost-summary-wrapper > ul > li') # 회사명 -> 회사개요\n",
    "detail_uri = soup.select('meta[property=\"og:url\"]') # 구직 회사 내용 화면\n",
    "apply_start_date = soup.select('') # 모집기한\n",
    "apply_end_date = soup.select('')\n",
    "task = soup.select('') # 직무개요 div.circle-conts-view-main-conts-box-question > div [3,4]\n",
    "need_career = soup.select('') # 경력요건  div.circle-conts-view-main-conts-box-question > div [7]\n",
    "team_env = soup.select('') # 처우  div.circle-conts-view-main-conts-box-question > div [10]\n",
    "need_doc = soup.select('') # 제출서류  div.circle-conts-view-main-conts-box-question > div []\n",
    "contact_people = soup.select('') # 담당컨설턴트  div.circle-conts-view-main-conts-box-question > div\n",
    "hashtag = soup.select('div.keyword-wrap') # 해시태그"
   ]
  },
  {
   "cell_type": "code",
   "execution_count": null,
   "id": "e6cb692e",
   "metadata": {},
   "outputs": [],
   "source": [
    "recruit_title = soup.select('article.circle-conts-view > h3.tit-h3') # 주제, 제목"
   ]
  },
  {
   "cell_type": "code",
   "execution_count": null,
   "id": "791a580c",
   "metadata": {},
   "outputs": [],
   "source": [
    "len(recruit_title), type(recruit_title), print(recruit_title)"
   ]
  },
  {
   "cell_type": "code",
   "execution_count": null,
   "id": "f35a670b",
   "metadata": {},
   "outputs": [],
   "source": [
    "company_name = soup.select('div.jobpost-summary-wrapper > ul > li') # 회사명"
   ]
  },
  {
   "cell_type": "code",
   "execution_count": null,
   "id": "047d57e3",
   "metadata": {},
   "outputs": [],
   "source": [
    "print(company_name)"
   ]
  },
  {
   "cell_type": "code",
   "execution_count": null,
   "id": "fa98b638",
   "metadata": {},
   "outputs": [],
   "source": [
    "detail_uri = soup.select('meta[property=\"og:url\"]') # 구직 회사 내용 화면"
   ]
  },
  {
   "cell_type": "code",
   "execution_count": null,
   "id": "15be20c3",
   "metadata": {},
   "outputs": [],
   "source": [
    "print(detail_uri)"
   ]
  },
  {
   "cell_type": "code",
   "execution_count": null,
   "id": "47672cad",
   "metadata": {},
   "outputs": [],
   "source": [
    "detail_uri[0].text"
   ]
  },
  {
   "cell_type": "code",
   "execution_count": null,
   "id": "29bdd90a",
   "metadata": {},
   "outputs": [],
   "source": [
    "hashtag = soup.select('div.keyword-wrap') # 해시태그"
   ]
  },
  {
   "cell_type": "code",
   "execution_count": null,
   "id": "9d0ab614",
   "metadata": {},
   "outputs": [],
   "source": [
    "len(hashtag), type(hashtag)"
   ]
  },
  {
   "cell_type": "code",
   "execution_count": null,
   "id": "71c4bc69",
   "metadata": {},
   "outputs": [],
   "source": [
    "print(hashtag)"
   ]
  },
  {
   "cell_type": "code",
   "execution_count": null,
   "id": "2bc3a0de",
   "metadata": {},
   "outputs": [],
   "source": [
    "hashtag[0].text"
   ]
  },
  {
   "cell_type": "code",
   "execution_count": null,
   "id": "24394868",
   "metadata": {},
   "outputs": [],
   "source": [
    "contents = list()\n",
    "for hash in hashtag:\n",
    "    h_tag = hash.select('div.keyword-wrap')\n",
    "    contents.append(h_tag)\n",
    "\n",
    "contents"
   ]
  },
  {
   "cell_type": "markdown",
   "id": "3fe95b8b",
   "metadata": {},
   "source": [
    "### SCRAPING SITE TABLE에 넣기"
   ]
  },
  {
   "cell_type": "code",
   "execution_count": null,
   "id": "4cfb1149",
   "metadata": {},
   "outputs": [],
   "source": [
    "brawser = webdriver.Chrome('./chromedriver.exe')"
   ]
  },
  {
   "cell_type": "code",
   "execution_count": null,
   "id": "41cdfc68",
   "metadata": {},
   "outputs": [],
   "source": [
    "brawser.get('https://github.com/login')"
   ]
  },
  {
   "cell_type": "code",
   "execution_count": null,
   "id": "e6e0d91d",
   "metadata": {},
   "outputs": [],
   "source": [
    "brawser.find_elements_by_css_selector('input#login_field')[0].send_keys('superinssa@gmail.com')"
   ]
  },
  {
   "cell_type": "code",
   "execution_count": null,
   "id": "28bcc095",
   "metadata": {},
   "outputs": [],
   "source": [
    "brawser.find_elements_by_css_selector('input#password')[0].send_keys('ghlehd123#')"
   ]
  },
  {
   "cell_type": "code",
   "execution_count": null,
   "id": "e3f2c5e5",
   "metadata": {},
   "outputs": [],
   "source": [
    "brawser.find_elements_by_css_selector('input[type=\"submit\"]')[0].click()"
   ]
  }
 ],
 "metadata": {
  "kernelspec": {
   "display_name": "Python 3",
   "language": "python",
   "name": "python3"
  },
  "language_info": {
   "codemirror_mode": {
    "name": "ipython",
    "version": 3
   },
   "file_extension": ".py",
   "mimetype": "text/x-python",
   "name": "python",
   "nbconvert_exporter": "python",
   "pygments_lexer": "ipython3",
   "version": "3.8.8"
  }
 },
 "nbformat": 4,
 "nbformat_minor": 5
}
