{
 "cells": [
  {
   "cell_type": "markdown",
   "id": "67438a20",
   "metadata": {},
   "source": [
    "## 채용공고 scrapping"
   ]
  },
  {
   "cell_type": "code",
   "execution_count": 6,
   "id": "d46b690a",
   "metadata": {},
   "outputs": [
    {
     "name": "stdout",
     "output_type": "stream",
     "text": [
      "Collecting selenium\n",
      "  Using cached selenium-3.141.0-py2.py3-none-any.whl (904 kB)\n",
      "Requirement already satisfied: urllib3 in c:\\users\\hoe\\anaconda3\\lib\\site-packages (from selenium) (1.26.4)\n",
      "Installing collected packages: selenium\n",
      "Successfully installed selenium-3.141.0\n",
      "Note: you may need to restart the kernel to use updated packages.\n"
     ]
    }
   ],
   "source": [
    "# pip install selenium"
   ]
  },
  {
   "cell_type": "code",
   "execution_count": 1,
   "id": "660330d0",
   "metadata": {},
   "outputs": [],
   "source": [
    "from selenium import webdriver"
   ]
  },
  {
   "cell_type": "code",
   "execution_count": 41,
   "id": "78460607",
   "metadata": {},
   "outputs": [],
   "source": [
    "browser = webdriver.Chrome('./chromedriver.exe')"
   ]
  },
  {
   "cell_type": "code",
   "execution_count": 42,
   "id": "43f66267",
   "metadata": {},
   "outputs": [],
   "source": [
    "browser.get('https://www.jobindexworld.com/jobpost/list')"
   ]
  },
  {
   "cell_type": "code",
   "execution_count": 43,
   "id": "ad586753",
   "metadata": {},
   "outputs": [],
   "source": [
    "html = browser.page_source"
   ]
  },
  {
   "cell_type": "code",
   "execution_count": 5,
   "id": "ac9f8ae3",
   "metadata": {},
   "outputs": [],
   "source": [
    "from bs4 import BeautifulSoup"
   ]
  },
  {
   "cell_type": "code",
   "execution_count": 44,
   "id": "6d6af9a9",
   "metadata": {},
   "outputs": [],
   "source": [
    "soup = BeautifulSoup(html, 'html.parser')"
   ]
  },
  {
   "cell_type": "markdown",
   "id": "06602431",
   "metadata": {},
   "source": [
    "### 채용공고 list를 클릭해서 들어가기"
   ]
  },
  {
   "cell_type": "code",
   "execution_count": 116,
   "id": "8ead50da",
   "metadata": {},
   "outputs": [],
   "source": [
    "recruit_title = []\n",
    "company_name = []\n",
    "detail_uri = []\n",
    "hashtag =[]"
   ]
  },
  {
   "cell_type": "code",
   "execution_count": 117,
   "id": "e2d6af17",
   "metadata": {},
   "outputs": [],
   "source": [
    "import time\n",
    "\n",
    "for i in range(3):\n",
    "    browser.find_elements_by_css_selector('article.cpn-circle-conts-item')[i].click() # 클릭 페이지\n",
    "    html_scraping = browser.page_source \n",
    "    soup_scraping = BeautifulSoup(html_scraping, 'html.parser')\n",
    "    recruit = soup_scraping.select('article.circle-conts-view > h3.tit-h3') # 주제, 제목\n",
    "    recruit_t = recruit[0].text.strip()\n",
    "    recruit_title.append(recruit_t)\n",
    "    uri = soup_scraping.select('meta[property=\"og:url\"]') # 구직 회사 내용 화면\n",
    "    uri_t = uri[0]['content']\n",
    "    detail_uri.append(uri_t)\n",
    "    hash_col = []\n",
    "    hash = soup_scraping.select('div.keyword-wrap > a.keyword') # 해시태그\n",
    "    for j in range(len(hash)):  \n",
    "        hash_t = hash[j].text.strip()\n",
    "        hash_col.append(hash_t)\n",
    "    hashtag.append(hash_col)\n",
    "    time.sleep(1)\n",
    "    browser.back()\n"
   ]
  },
  {
   "cell_type": "code",
   "execution_count": 118,
   "id": "5db43fac",
   "metadata": {},
   "outputs": [
    {
     "data": {
      "text/plain": [
       "(['리모콘 개발', '공인노무사', 'Data Engineer (데이터분석 플랫폼 개발)'],\n",
       " ['https://www.jobindexworld.com/jobpost/view/53373',\n",
       "  'https://www.jobindexworld.com/jobpost/view/53371',\n",
       "  'https://www.jobindexworld.com/jobpost/view/42040'],\n",
       " [['#Device개발', '#리모콘개발'], ['#노무사'], ['#DataEngineer']])"
      ]
     },
     "execution_count": 118,
     "metadata": {},
     "output_type": "execute_result"
    }
   ],
   "source": [
    "recruit_title, detail_uri, hashtag"
   ]
  },
  {
   "cell_type": "code",
   "execution_count": 119,
   "id": "40ed14d3",
   "metadata": {},
   "outputs": [],
   "source": [
    "browser.find_elements_by_css_selector('article.cpn-circle-conts-item')[0].click()"
   ]
  },
  {
   "cell_type": "code",
   "execution_count": 120,
   "id": "5d000c89",
   "metadata": {},
   "outputs": [],
   "source": [
    "html_scraping = browser.page_source"
   ]
  },
  {
   "cell_type": "code",
   "execution_count": 121,
   "id": "0dbf9121",
   "metadata": {},
   "outputs": [],
   "source": [
    "soup_scraping = BeautifulSoup(html_scraping, 'html.parser')"
   ]
  },
  {
   "cell_type": "code",
   "execution_count": 122,
   "id": "118f85a7",
   "metadata": {},
   "outputs": [
    {
     "data": {
      "text/plain": [
       "(<div>◈ <strong>직무 개요</strong><br/></div>,\n",
       " bs4.element.Tag,\n",
       " ['◈ ', <strong>직무 개요</strong>, <br/>],\n",
       " '직무 개요',\n",
       " '○ 리모콘 개발')"
      ]
     },
     "execution_count": 122,
     "metadata": {},
     "output_type": "execute_result"
    }
   ],
   "source": [
    "tags = soup_scraping.select('div.circle-conts-view-main-conts-box-question > div')\n",
    "# 회사개요 \n",
    "tags[0], tags[0].ul.li.contents, tags[0].ul.li.text, tags[0].ul.li.strong.text\n",
    "# 직무개요\n",
    "tags[1], type(tags[1]), tags[1].contents, tags[1].strong.text, tags[2].text"
   ]
  },
  {
   "cell_type": "code",
   "execution_count": 154,
   "id": "e74b03c8",
   "metadata": {},
   "outputs": [
    {
     "data": {
      "text/plain": [
       "'회사개요'"
      ]
     },
     "execution_count": 154,
     "metadata": {},
     "output_type": "execute_result"
    }
   ],
   "source": [
    "tags[0].ul.li.text.strip()[:4]"
   ]
  },
  {
   "cell_type": "code",
   "execution_count": 146,
   "id": "5a6f9ff5",
   "metadata": {},
   "outputs": [
    {
     "data": {
      "text/plain": [
       "<div>◈ <strong>직무 개요</strong><br/></div>"
      ]
     },
     "execution_count": 146,
     "metadata": {},
     "output_type": "execute_result"
    }
   ],
   "source": [
    "tags[1]"
   ]
  },
  {
   "cell_type": "code",
   "execution_count": 156,
   "id": "140015fc",
   "metadata": {},
   "outputs": [
    {
     "data": {
      "text/plain": [
       "26"
      ]
     },
     "execution_count": 156,
     "metadata": {},
     "output_type": "execute_result"
    }
   ],
   "source": [
    "len(tags)"
   ]
  },
  {
   "cell_type": "code",
   "execution_count": 149,
   "id": "bfd71fc0",
   "metadata": {},
   "outputs": [
    {
     "data": {
      "text/plain": [
       "<div><span style=\"font-family: inherit; font-size: 0.92857rem;\">- 신규 리모콘 기획 및 개발</span><br/></div>"
      ]
     },
     "execution_count": 149,
     "metadata": {},
     "output_type": "execute_result"
    }
   ],
   "source": [
    "tags[3]"
   ]
  },
  {
   "cell_type": "code",
   "execution_count": 151,
   "id": "e217a014",
   "metadata": {},
   "outputs": [
    {
     "data": {
      "text/plain": [
       "<div>◈ <strong>경력 요건</strong><br/></div>"
      ]
     },
     "execution_count": 151,
     "metadata": {},
     "output_type": "execute_result"
    }
   ],
   "source": [
    "tags[5]"
   ]
  },
  {
   "cell_type": "code",
   "execution_count": 158,
   "id": "047e2ebc",
   "metadata": {},
   "outputs": [
    {
     "name": "stdout",
     "output_type": "stream",
     "text": [
      "<div class=\"jobpost-summary-wrapper\">\n",
      "<ul>\n",
      "<li>\n",
      "<strong>회사개요 : </strong> 국내 대기업 계열 통신회사\n",
      "                                                        </li>\n",
      "<li>\n",
      "<strong>모집기간 : </strong> 채용시까지\n",
      "                                                        </li>\n",
      "</ul>\n",
      "</div>\n"
     ]
    },
    {
     "ename": "AttributeError",
     "evalue": "'NoneType' object has no attribute 'li'",
     "output_type": "error",
     "traceback": [
      "\u001b[1;31m---------------------------------------------------------------------------\u001b[0m",
      "\u001b[1;31mAttributeError\u001b[0m                            Traceback (most recent call last)",
      "\u001b[1;32m<ipython-input-158-90b31922abe0>\u001b[0m in \u001b[0;36m<module>\u001b[1;34m\u001b[0m\n\u001b[0;32m      1\u001b[0m \u001b[1;32mfor\u001b[0m \u001b[0mi\u001b[0m \u001b[1;32min\u001b[0m \u001b[0mrange\u001b[0m\u001b[1;33m(\u001b[0m\u001b[0mlen\u001b[0m\u001b[1;33m(\u001b[0m\u001b[0mtags\u001b[0m\u001b[1;33m)\u001b[0m\u001b[1;33m)\u001b[0m\u001b[1;33m:\u001b[0m\u001b[1;33m\u001b[0m\u001b[1;33m\u001b[0m\u001b[0m\n\u001b[1;32m----> 2\u001b[1;33m     \u001b[1;32mif\u001b[0m \u001b[0mtags\u001b[0m\u001b[1;33m[\u001b[0m\u001b[0mi\u001b[0m\u001b[1;33m]\u001b[0m\u001b[1;33m.\u001b[0m\u001b[0mul\u001b[0m\u001b[1;33m.\u001b[0m\u001b[0mli\u001b[0m\u001b[1;33m.\u001b[0m\u001b[0mtext\u001b[0m\u001b[1;33m.\u001b[0m\u001b[0mstrip\u001b[0m\u001b[1;33m(\u001b[0m\u001b[1;33m)\u001b[0m\u001b[1;33m[\u001b[0m\u001b[1;33m:\u001b[0m\u001b[1;36m4\u001b[0m\u001b[1;33m]\u001b[0m \u001b[1;33m==\u001b[0m \u001b[1;34m'회사개요'\u001b[0m\u001b[1;33m:\u001b[0m\u001b[1;33m\u001b[0m\u001b[1;33m\u001b[0m\u001b[0m\n\u001b[0m\u001b[0;32m      3\u001b[0m         \u001b[0mprint\u001b[0m\u001b[1;33m(\u001b[0m\u001b[0mtags\u001b[0m\u001b[1;33m[\u001b[0m\u001b[0mi\u001b[0m\u001b[1;33m]\u001b[0m\u001b[1;33m)\u001b[0m\u001b[1;33m\u001b[0m\u001b[1;33m\u001b[0m\u001b[0m\n\u001b[0;32m      4\u001b[0m     \u001b[1;32melif\u001b[0m \u001b[0mtags\u001b[0m\u001b[1;33m[\u001b[0m\u001b[0mi\u001b[0m\u001b[1;33m]\u001b[0m\u001b[1;33m.\u001b[0m\u001b[0mul\u001b[0m\u001b[1;33m.\u001b[0m\u001b[0mli\u001b[0m\u001b[1;33m.\u001b[0m\u001b[0mtext\u001b[0m\u001b[1;33m.\u001b[0m\u001b[0mstrip\u001b[0m\u001b[1;33m(\u001b[0m\u001b[1;33m)\u001b[0m\u001b[1;33m[\u001b[0m\u001b[1;33m:\u001b[0m\u001b[1;36m4\u001b[0m\u001b[1;33m]\u001b[0m \u001b[1;33m==\u001b[0m \u001b[1;34m'모집기간'\u001b[0m\u001b[1;33m:\u001b[0m\u001b[1;33m\u001b[0m\u001b[1;33m\u001b[0m\u001b[0m\n\u001b[0;32m      5\u001b[0m         \u001b[0mprint\u001b[0m\u001b[1;33m(\u001b[0m\u001b[0mtags\u001b[0m\u001b[1;33m[\u001b[0m\u001b[0mi\u001b[0m\u001b[1;33m]\u001b[0m\u001b[1;33m)\u001b[0m\u001b[1;33m\u001b[0m\u001b[1;33m\u001b[0m\u001b[0m\n",
      "\u001b[1;31mAttributeError\u001b[0m: 'NoneType' object has no attribute 'li'"
     ]
    }
   ],
   "source": [
    "for i in range(len(tags)):\n",
    "    if tags[i].ul.li.text.strip()[:4] == '회사개요':\n",
    "        print(tags[i])\n",
    "    elif tags[i].ul.li.text.strip()[:4] == '모집기간':\n",
    "        print(tags[i])\n",
    "    else: \n",
    "        pass"
   ]
  },
  {
   "cell_type": "code",
   "execution_count": 147,
   "id": "9359bb10",
   "metadata": {},
   "outputs": [
    {
     "data": {
      "text/plain": [
       "[<div class=\"jobpost-summary-wrapper\">\n",
       " <ul>\n",
       " <li>\n",
       " <strong>회사개요 : </strong> 국내 대기업 계열 통신회사\n",
       "                                                         </li>\n",
       " <li>\n",
       " <strong>모집기간 : </strong> 채용시까지\n",
       "                                                         </li>\n",
       " </ul>\n",
       " </div>,\n",
       " <div>◈ <strong>직무 개요</strong><br/></div>,\n",
       " <div>○ 리모콘 개발</div>,\n",
       " <div><span style=\"font-family: inherit; font-size: 0.92857rem;\">- 신규 리모콘 기획 및 개발</span><br/></div>,\n",
       " <div><br/></div>,\n",
       " <div>◈ <strong>경력 요건</strong><br/></div>,\n",
       " <div>- 학사 이상</div>,\n",
       " <div><span style=\"font-family: inherit; font-size: 0.92857rem;\">○ 경력</span><br/></div>,\n",
       " <div>- <span style=\"font-family: inherit; font-size: 0.92857rem;\">리모콘 개발 및 양산 경험</span></div>,\n",
       " <div><span style=\"font-family: inherit; font-size: 0.92857rem;\">○ 역량/지식/자격증</span><br/></div>,\n",
       " <div>- <span style=\"font-family: inherit; font-size: 0.92857rem;\">Bluetooth 기술 및 표준 규격에 대한 이해</span></div>,\n",
       " <div><span style=\"font-family: inherit; font-size: 0.92857rem;\">○ 우대사항</span><br/></div>,\n",
       " <div>- <span style=\"font-family: inherit; font-size: 0.92857rem;\">프로젝트 전체 PM 역할 경험 우대</span></div>,\n",
       " <div><span style=\"font-family: inherit; font-size: 0.92857rem;\">- 미디어 </span><span style=\"font-family: inherit; font-size: 0.92857rem;\">Device를 상용화 하는 제조사 출신 선호</span></div>,\n",
       " <div><br/></div>,\n",
       " <div>◈ <strong>처우</strong><br/></div>,\n",
       " <div>- 협의</div>,\n",
       " <div><br/></div>,\n",
       " <div>◈ <strong>제출 기한</strong><br/></div>,\n",
       " <div>- ASAP</div>,\n",
       " <div><br/></div>,\n",
       " <div>◈ <strong>제출 서류 및 기타</strong><br/></div>,\n",
       " <div>- 국문 이력서 (세부경력 포함)</div>,\n",
       " <div><br/></div>,\n",
       " <div>◈ <strong>담당 컨설턴트</strong><br/></div>,\n",
       " <div>- 반지수 전무 / 02-2016-6690 / jsb@vpeople.co.kr</div>]"
      ]
     },
     "execution_count": 147,
     "metadata": {},
     "output_type": "execute_result"
    }
   ],
   "source": [
    "tags"
   ]
  },
  {
   "cell_type": "code",
   "execution_count": 59,
   "id": "b567bf8c",
   "metadata": {},
   "outputs": [],
   "source": [
    "page = soup_scraping.select('div.circle-conts-view-main-conts-box-question')"
   ]
  },
  {
   "cell_type": "code",
   "execution_count": 60,
   "id": "fc2abbfb",
   "metadata": {},
   "outputs": [
    {
     "data": {
      "text/plain": [
       "[<div class=\"circle-conts-view-main-conts-box-question\">\n",
       " <div class=\"jobpost-summary-wrapper\">\n",
       " <ul>\n",
       " <li>\n",
       " <strong>회사개요 : </strong> 국내 유명 온라인 플랫폼 기업\n",
       "                                                         </li>\n",
       " <li>\n",
       " <strong>모집기간 : </strong> 채용시까지\n",
       "                                                         </li>\n",
       " </ul>\n",
       " </div>\n",
       " <div>◈ <strong>직무 개요</strong><br/></div>\n",
       " <div>- 커머스/파트너 플랫폼 UI/UX 디자인<br/>- 시장/고객/경쟁사/자사 분석을 통한 UX 전략 도출<br/></div>\n",
       " <div><br/></div>\n",
       " <div>◈ <strong>경력 요건</strong><br/></div>\n",
       " <div>- 이커머스 또는 플랫폼 Web/App 서비스의 UI/UX 디자인 경험 5년 이상<br/>- 시장과 고객에 대한 이해를 바탕으로 기획, 디자인이 가능하신 분<br/>- 비즈니스와 고객의 관점에서 UX 기획, 디자인이 가능하신 분<br/>- 디자인 원칙 중심으로 점진적 디자인 개선을 경험해보신 분<br/>- 디자인 툴 (Adobe, Figma, Protopie)의 툴 사용이 능숙하신 분<br/><br/></div>\n",
       " <div><span style=\"font-family: inherit; font-size: 0.92857rem;\">◈ </span><strong style=\"font-family: inherit; font-size: 0.92857rem;\">처우</strong><br/></div>\n",
       " <div>- 협의</div>\n",
       " <div><br/></div>\n",
       " <div>◈ <strong>제출 기한</strong><br/></div>\n",
       " <div>- ASAP</div>\n",
       " <div><br/></div>\n",
       " <div>◈ <strong>제출 서류 및 기타</strong><br/></div>\n",
       " <div>- 국문 이력서 및 자기소개서</div>\n",
       " <div><br/></div>\n",
       " <div>◈ <strong>담당 컨설턴트</strong><br/></div>\n",
       " <div>- 김동원 / 02-2016-6652 / danny@vpeople.co.kr</div>\n",
       " </div>]"
      ]
     },
     "execution_count": 60,
     "metadata": {},
     "output_type": "execute_result"
    }
   ],
   "source": [
    "page"
   ]
  },
  {
   "cell_type": "code",
   "execution_count": 37,
   "id": "5b9f1f9e",
   "metadata": {},
   "outputs": [
    {
     "data": {
      "text/plain": [
       "[<li>\n",
       " <strong>회사개요 : </strong> 글로벌 소비재 브랜드를 보유한 외국계 기업(한국 법인)\n",
       "                                                         </li>,\n",
       " <li>\n",
       " <strong>경력레벨 : </strong>\n",
       "                                                             mid-level, Senior\n",
       "                                                         </li>,\n",
       " <li>\n",
       " <strong>급여수준 : </strong>협의\n",
       "                                                         </li>,\n",
       " <li>\n",
       " <strong>교육수준 : </strong> \n",
       "                                                             학사, 석사/MBA\n",
       "                                                         </li>,\n",
       " <li>\n",
       " <strong>모집기간 : </strong> 2021-09-19\n",
       "                                                         </li>]"
      ]
     },
     "execution_count": 37,
     "metadata": {},
     "output_type": "execute_result"
    }
   ],
   "source": [
    "soup_scraping.select('div.circle-conts-view-main-conts-box-question > div.jobpost-summary-wrapper > ul > li')"
   ]
  },
  {
   "cell_type": "code",
   "execution_count": 34,
   "id": "057a8bd4",
   "metadata": {},
   "outputs": [
    {
     "data": {
      "text/plain": [
       "'회사개요'"
      ]
     },
     "execution_count": 34,
     "metadata": {},
     "output_type": "execute_result"
    }
   ],
   "source": [
    "strong[0].text[0:4]"
   ]
  },
  {
   "cell_type": "code",
   "execution_count": 36,
   "id": "4f3c510f",
   "metadata": {},
   "outputs": [],
   "source": [
    "if strong[0].text[0:4] == '회사개요':\n",
    "    "
   ]
  },
  {
   "cell_type": "code",
   "execution_count": 40,
   "id": "e327ec88",
   "metadata": {},
   "outputs": [
    {
     "data": {
      "text/plain": [
       "[<p><span style=\"color:#222222\"><span style=\"font-size:11pt\">[회사] 글로벌 브랜드를 보유한 외국계 소비재 대기업</span></span><br/>\n",
       " <span style=\"font-size:11pt\"><span style=\"background-color:#ffffff\"><span style=\"color:#222222\">☞ 연봉 및 복리후생 국내 최고 수준으로 직원들의 근무 만족도가 높습니다.</span></span></span><br/>\n",
       " <br/>\n",
       " <span style=\"font-size:11pt\"><span style=\"background-color:#ffffff\"><span style=\"color:#222222\">[포지션] 정규직<br/>\n",
       " - <strong>UX기획자(Customer Experience 관련)</strong></span></span></span><br/>\n",
       " <br/>\n",
       " <span style=\"font-size:11pt\"><span style=\"background-color:#ffffff\"><span style=\"color:#222222\">[근무지]</span></span></span><br/>\n",
       " <span style=\"font-size:11pt\"><span style=\"background-color:#ffffff\"><span style=\"color:#222222\">- 서울시 강남구</span></span></span><br/>\n",
       " <br/>\n",
       " <span style=\"font-size:11pt\"><span style=\"background-color:#ffffff\"><span style=\"color:#222222\">[주요업무] *상세JD 별도전달 가능</span></span></span><br/>\n",
       " <span style=\"font-size:11pt\"><span style=\"background-color:#ffffff\"><span style=\"color:#222222\">- <strong>자사의 웹, 어플리케이션 등 고객 대상 디지털 경험에 대한 분석 및 개선  </strong></span></span></span><br/>\n",
       " <br/>\n",
       " <span style=\"font-size:11pt\"><span style=\"background-color:#ffffff\"><span style=\"color:#222222\">[자격요건]</span></span></span><br/>\n",
       " <strong><span style=\"font-size:11pt\"><span style=\"color:#222222\">- 5년 이상 경력의 UI(UX) 기획 경력자</span></span><br/>\n",
       " <span style=\"font-size:11pt\"><span style=\"color:#222222\">- 운영 서비스의 데이터 분석을 기반으로 한 CX 전략 기획 경력자</span></span></strong><br/>\n",
       " <span style=\"font-size:11pt\"><span style=\"background-color:#ffffff\"><span style=\"color:#222222\"><strong>- 영어 능통자</strong></span></span></span><br/>\n",
       " <br/>\n",
       " <span style=\"font-size:11pt\"><span style=\"background-color:#ffffff\"><span style=\"color:#222222\">[근무조건]</span></span></span><br/>\n",
       " <span style=\"font-size:11pt\"><span style=\"background-color:#ffffff\"><span style=\"color:#222222\">- 급여(연봉): 추후협의(이전연봉 + a)</span></span></span><br/>\n",
       " <span style=\"font-size:11pt\"><span style=\"background-color:#ffffff\"><span style=\"color:#222222\">- 복리후생 국내 최고 수준</span></span></span><br/>\n",
       " <br/>\n",
       " <span style=\"font-size:11pt\"><span style=\"background-color:#ffffff\"><span style=\"color:#222222\">[접수방법]</span></span></span><br/>\n",
       " <span style=\"font-size:11pt\"><span style=\"background-color:#ffffff\"><span style=\"color:#222222\">- 국/영문 이력서 및 경력기술서 (Word로 하나의 파일로 작성)</span></span></span><br/>\n",
       " <span style=\"font-size:11pt\"><span style=\"background-color:#ffffff\"><span style=\"color:#222222\">- 이력서 제출시 이직사유(퇴직사유), 최종연봉 및 희망연봉 필수 기재요망(기본급/성과급 각각 기재)</span></span></span><br/>\n",
       " <span style=\"font-size:11pt\"><span style=\"background-color:#ffffff\"><span style=\"color:#222222\">- 메일 : james@apsearch.co.kr</span></span></span><br/>\n",
       " <br/>\n",
       " <span style=\"font-size:11pt\"><span style=\"background-color:#ffffff\"><span style=\"color:#222222\">[제출기한]</span></span></span><br/>\n",
       " <span style=\"font-size:11pt\"><span style=\"background-color:#ffffff\"><span style=\"color:#222222\">- ASAP</span></span></span><br/>\n",
       " <span style=\"font-size:11pt\"><span style=\"background-color:#ffffff\"><span style=\"color:#222222\">==========================================</span></span></span><br/>\n",
       " <span style=\"font-size:11pt\"><span style=\"background-color:#ffffff\"><span style=\"color:#222222\">- 담당자 : 안근주 과장 / 헤드헌팅 사업부 / AP Search</span></span></span><br/>\n",
       " <span style=\"font-size:11pt\"><span style=\"background-color:#ffffff\"><span style=\"color:#222222\">- 전화문의 : 010-2647-5801, 02-501-8818</span></span></span><br/>\n",
       " <span style=\"font-size:11pt\"><span style=\"background-color:#ffffff\"><span style=\"color:#222222\">- E-mail : james@apsearch.co.kr</span></span></span><br/>\n",
       " <span style=\"font-size:11pt\"><span style=\"background-color:#ffffff\"><span style=\"color:#222222\">- KakaoTalk : kainos0224</span></span></span><br/>\n",
       " <span style=\"font-size:11pt\"><span style=\"background-color:#ffffff\"><span style=\"color:#222222\">==========================================</span></span></span><br/>\n",
       " <span style=\"font-size:11pt\"><span style=\"background-color:#ffffff\"><span style=\"color:#222222\">※ 해당 채용건에 대해 궁금하시거나 문의사항 있으시면</span></span></span><br/>\n",
       " <span style=\"font-size:11pt\"><span style=\"background-color:#ffffff\"><span style=\"color:#222222\">언제든지(야간/주말 포함) 편하게 연락부탁드립니다 :)</span></span></span></p>]"
      ]
     },
     "execution_count": 40,
     "metadata": {},
     "output_type": "execute_result"
    }
   ],
   "source": [
    "soup_scraping.select('div.circle-conts-view-main-conts-box-question > p')"
   ]
  },
  {
   "cell_type": "markdown",
   "id": "17e291df",
   "metadata": {},
   "source": [
    "### tag를 활용하여 select"
   ]
  },
  {
   "cell_type": "code",
   "execution_count": 59,
   "id": "ae3ede8b",
   "metadata": {
    "collapsed": true
   },
   "outputs": [
    {
     "ename": "SelectorSyntaxError",
     "evalue": "Expected a selector at position 0\n  line 1:\n\n^",
     "output_type": "error",
     "traceback": [
      "\u001b[1;31m---------------------------------------------------------------------------\u001b[0m",
      "\u001b[1;31mSelectorSyntaxError\u001b[0m                       Traceback (most recent call last)",
      "\u001b[1;32m<ipython-input-59-7bc455ca90cf>\u001b[0m in \u001b[0;36m<module>\u001b[1;34m\u001b[0m\n\u001b[0;32m      2\u001b[0m \u001b[0mcompany_name\u001b[0m \u001b[1;33m=\u001b[0m \u001b[0msoup\u001b[0m\u001b[1;33m.\u001b[0m\u001b[0mselect\u001b[0m\u001b[1;33m(\u001b[0m\u001b[1;34m'div.jobpost-summary-wrapper > ul > li'\u001b[0m\u001b[1;33m)\u001b[0m \u001b[1;31m# 회사명\u001b[0m\u001b[1;33m\u001b[0m\u001b[1;33m\u001b[0m\u001b[0m\n\u001b[0;32m      3\u001b[0m \u001b[0mdetail_uri\u001b[0m \u001b[1;33m=\u001b[0m \u001b[0msoup\u001b[0m\u001b[1;33m.\u001b[0m\u001b[0mselect\u001b[0m\u001b[1;33m(\u001b[0m\u001b[1;34m'meta[property=\"og:url\"]'\u001b[0m\u001b[1;33m)\u001b[0m \u001b[1;31m# 구직 회사 내용 화면\u001b[0m\u001b[1;33m\u001b[0m\u001b[1;33m\u001b[0m\u001b[0m\n\u001b[1;32m----> 4\u001b[1;33m \u001b[0mapply_start_date\u001b[0m \u001b[1;33m=\u001b[0m \u001b[0msoup\u001b[0m\u001b[1;33m.\u001b[0m\u001b[0mselect\u001b[0m\u001b[1;33m(\u001b[0m\u001b[1;34m''\u001b[0m\u001b[1;33m)\u001b[0m \u001b[1;31m# 모집기한\u001b[0m\u001b[1;33m\u001b[0m\u001b[1;33m\u001b[0m\u001b[0m\n\u001b[0m\u001b[0;32m      5\u001b[0m \u001b[0mapply_end_date\u001b[0m \u001b[1;33m=\u001b[0m \u001b[0msoup\u001b[0m\u001b[1;33m.\u001b[0m\u001b[0mselect\u001b[0m\u001b[1;33m(\u001b[0m\u001b[1;34m''\u001b[0m\u001b[1;33m)\u001b[0m\u001b[1;33m\u001b[0m\u001b[1;33m\u001b[0m\u001b[0m\n\u001b[0;32m      6\u001b[0m \u001b[0mtask\u001b[0m \u001b[1;33m=\u001b[0m \u001b[0msoup\u001b[0m\u001b[1;33m.\u001b[0m\u001b[0mselect\u001b[0m\u001b[1;33m(\u001b[0m\u001b[1;34m''\u001b[0m\u001b[1;33m)\u001b[0m \u001b[1;31m# 직무개요 div.circle-conts-view-main-conts-box-question > div [3,4]\u001b[0m\u001b[1;33m\u001b[0m\u001b[1;33m\u001b[0m\u001b[0m\n",
      "\u001b[1;32m~\\anaconda3\\lib\\site-packages\\bs4\\element.py\u001b[0m in \u001b[0;36mselect\u001b[1;34m(self, selector, namespaces, limit, **kwargs)\u001b[0m\n\u001b[0;32m   1867\u001b[0m             )\n\u001b[0;32m   1868\u001b[0m \u001b[1;33m\u001b[0m\u001b[0m\n\u001b[1;32m-> 1869\u001b[1;33m         \u001b[0mresults\u001b[0m \u001b[1;33m=\u001b[0m \u001b[0msoupsieve\u001b[0m\u001b[1;33m.\u001b[0m\u001b[0mselect\u001b[0m\u001b[1;33m(\u001b[0m\u001b[0mselector\u001b[0m\u001b[1;33m,\u001b[0m \u001b[0mself\u001b[0m\u001b[1;33m,\u001b[0m \u001b[0mnamespaces\u001b[0m\u001b[1;33m,\u001b[0m \u001b[0mlimit\u001b[0m\u001b[1;33m,\u001b[0m \u001b[1;33m**\u001b[0m\u001b[0mkwargs\u001b[0m\u001b[1;33m)\u001b[0m\u001b[1;33m\u001b[0m\u001b[1;33m\u001b[0m\u001b[0m\n\u001b[0m\u001b[0;32m   1870\u001b[0m \u001b[1;33m\u001b[0m\u001b[0m\n\u001b[0;32m   1871\u001b[0m         \u001b[1;31m# We do this because it's more consistent and because\u001b[0m\u001b[1;33m\u001b[0m\u001b[1;33m\u001b[0m\u001b[1;33m\u001b[0m\u001b[0m\n",
      "\u001b[1;32m~\\anaconda3\\lib\\site-packages\\soupsieve\\__init__.py\u001b[0m in \u001b[0;36mselect\u001b[1;34m(select, tag, namespaces, limit, flags, **kwargs)\u001b[0m\n\u001b[0;32m     96\u001b[0m     \u001b[1;34m\"\"\"Select the specified tags.\"\"\"\u001b[0m\u001b[1;33m\u001b[0m\u001b[1;33m\u001b[0m\u001b[0m\n\u001b[0;32m     97\u001b[0m \u001b[1;33m\u001b[0m\u001b[0m\n\u001b[1;32m---> 98\u001b[1;33m     \u001b[1;32mreturn\u001b[0m \u001b[0mcompile\u001b[0m\u001b[1;33m(\u001b[0m\u001b[0mselect\u001b[0m\u001b[1;33m,\u001b[0m \u001b[0mnamespaces\u001b[0m\u001b[1;33m,\u001b[0m \u001b[0mflags\u001b[0m\u001b[1;33m,\u001b[0m \u001b[1;33m**\u001b[0m\u001b[0mkwargs\u001b[0m\u001b[1;33m)\u001b[0m\u001b[1;33m.\u001b[0m\u001b[0mselect\u001b[0m\u001b[1;33m(\u001b[0m\u001b[0mtag\u001b[0m\u001b[1;33m,\u001b[0m \u001b[0mlimit\u001b[0m\u001b[1;33m)\u001b[0m\u001b[1;33m\u001b[0m\u001b[1;33m\u001b[0m\u001b[0m\n\u001b[0m\u001b[0;32m     99\u001b[0m \u001b[1;33m\u001b[0m\u001b[0m\n\u001b[0;32m    100\u001b[0m \u001b[1;33m\u001b[0m\u001b[0m\n",
      "\u001b[1;32m~\\anaconda3\\lib\\site-packages\\soupsieve\\__init__.py\u001b[0m in \u001b[0;36mcompile\u001b[1;34m(pattern, namespaces, flags, **kwargs)\u001b[0m\n\u001b[0;32m     60\u001b[0m         \u001b[1;32mreturn\u001b[0m \u001b[0mpattern\u001b[0m\u001b[1;33m\u001b[0m\u001b[1;33m\u001b[0m\u001b[0m\n\u001b[0;32m     61\u001b[0m \u001b[1;33m\u001b[0m\u001b[0m\n\u001b[1;32m---> 62\u001b[1;33m     \u001b[1;32mreturn\u001b[0m \u001b[0mcp\u001b[0m\u001b[1;33m.\u001b[0m\u001b[0m_cached_css_compile\u001b[0m\u001b[1;33m(\u001b[0m\u001b[0mpattern\u001b[0m\u001b[1;33m,\u001b[0m \u001b[0mnamespaces\u001b[0m\u001b[1;33m,\u001b[0m \u001b[0mcustom\u001b[0m\u001b[1;33m,\u001b[0m \u001b[0mflags\u001b[0m\u001b[1;33m)\u001b[0m\u001b[1;33m\u001b[0m\u001b[1;33m\u001b[0m\u001b[0m\n\u001b[0m\u001b[0;32m     63\u001b[0m \u001b[1;33m\u001b[0m\u001b[0m\n\u001b[0;32m     64\u001b[0m \u001b[1;33m\u001b[0m\u001b[0m\n",
      "\u001b[1;32m~\\anaconda3\\lib\\site-packages\\soupsieve\\css_parser.py\u001b[0m in \u001b[0;36m_cached_css_compile\u001b[1;34m(pattern, namespaces, custom, flags)\u001b[0m\n\u001b[0;32m    209\u001b[0m     return cm.SoupSieve(\n\u001b[0;32m    210\u001b[0m         \u001b[0mpattern\u001b[0m\u001b[1;33m,\u001b[0m\u001b[1;33m\u001b[0m\u001b[1;33m\u001b[0m\u001b[0m\n\u001b[1;32m--> 211\u001b[1;33m         \u001b[0mCSSParser\u001b[0m\u001b[1;33m(\u001b[0m\u001b[0mpattern\u001b[0m\u001b[1;33m,\u001b[0m \u001b[0mcustom\u001b[0m\u001b[1;33m=\u001b[0m\u001b[0mcustom_selectors\u001b[0m\u001b[1;33m,\u001b[0m \u001b[0mflags\u001b[0m\u001b[1;33m=\u001b[0m\u001b[0mflags\u001b[0m\u001b[1;33m)\u001b[0m\u001b[1;33m.\u001b[0m\u001b[0mprocess_selectors\u001b[0m\u001b[1;33m(\u001b[0m\u001b[1;33m)\u001b[0m\u001b[1;33m,\u001b[0m\u001b[1;33m\u001b[0m\u001b[1;33m\u001b[0m\u001b[0m\n\u001b[0m\u001b[0;32m    212\u001b[0m         \u001b[0mnamespaces\u001b[0m\u001b[1;33m,\u001b[0m\u001b[1;33m\u001b[0m\u001b[1;33m\u001b[0m\u001b[0m\n\u001b[0;32m    213\u001b[0m         \u001b[0mcustom\u001b[0m\u001b[1;33m,\u001b[0m\u001b[1;33m\u001b[0m\u001b[1;33m\u001b[0m\u001b[0m\n",
      "\u001b[1;32m~\\anaconda3\\lib\\site-packages\\soupsieve\\css_parser.py\u001b[0m in \u001b[0;36mprocess_selectors\u001b[1;34m(self, index, flags)\u001b[0m\n\u001b[0;32m   1056\u001b[0m         \u001b[1;34m\"\"\"Process selectors.\"\"\"\u001b[0m\u001b[1;33m\u001b[0m\u001b[1;33m\u001b[0m\u001b[0m\n\u001b[0;32m   1057\u001b[0m \u001b[1;33m\u001b[0m\u001b[0m\n\u001b[1;32m-> 1058\u001b[1;33m         \u001b[1;32mreturn\u001b[0m \u001b[0mself\u001b[0m\u001b[1;33m.\u001b[0m\u001b[0mparse_selectors\u001b[0m\u001b[1;33m(\u001b[0m\u001b[0mself\u001b[0m\u001b[1;33m.\u001b[0m\u001b[0mselector_iter\u001b[0m\u001b[1;33m(\u001b[0m\u001b[0mself\u001b[0m\u001b[1;33m.\u001b[0m\u001b[0mpattern\u001b[0m\u001b[1;33m)\u001b[0m\u001b[1;33m,\u001b[0m \u001b[0mindex\u001b[0m\u001b[1;33m,\u001b[0m \u001b[0mflags\u001b[0m\u001b[1;33m)\u001b[0m\u001b[1;33m\u001b[0m\u001b[1;33m\u001b[0m\u001b[0m\n\u001b[0m\u001b[0;32m   1059\u001b[0m \u001b[1;33m\u001b[0m\u001b[0m\n\u001b[0;32m   1060\u001b[0m \u001b[1;33m\u001b[0m\u001b[0m\n",
      "\u001b[1;32m~\\anaconda3\\lib\\site-packages\\soupsieve\\css_parser.py\u001b[0m in \u001b[0;36mparse_selectors\u001b[1;34m(self, iselector, index, flags)\u001b[0m\n\u001b[0;32m    990\u001b[0m         \u001b[1;32melse\u001b[0m\u001b[1;33m:\u001b[0m\u001b[1;33m\u001b[0m\u001b[1;33m\u001b[0m\u001b[0m\n\u001b[0;32m    991\u001b[0m             \u001b[1;31m# We will always need to finish a selector when `:has()` is used as it leads with combining.\u001b[0m\u001b[1;33m\u001b[0m\u001b[1;33m\u001b[0m\u001b[1;33m\u001b[0m\u001b[0m\n\u001b[1;32m--> 992\u001b[1;33m             raise SelectorSyntaxError(\n\u001b[0m\u001b[0;32m    993\u001b[0m                 \u001b[1;34m'Expected a selector at position {}'\u001b[0m\u001b[1;33m.\u001b[0m\u001b[0mformat\u001b[0m\u001b[1;33m(\u001b[0m\u001b[0mindex\u001b[0m\u001b[1;33m)\u001b[0m\u001b[1;33m,\u001b[0m\u001b[1;33m\u001b[0m\u001b[1;33m\u001b[0m\u001b[0m\n\u001b[0;32m    994\u001b[0m                 \u001b[0mself\u001b[0m\u001b[1;33m.\u001b[0m\u001b[0mpattern\u001b[0m\u001b[1;33m,\u001b[0m\u001b[1;33m\u001b[0m\u001b[1;33m\u001b[0m\u001b[0m\n",
      "\u001b[1;31mSelectorSyntaxError\u001b[0m: Expected a selector at position 0\n  line 1:\n\n^"
     ]
    }
   ],
   "source": [
    "recruit_title = soup.select('article.circle-conts-view > h3.tit-h3') # 주제, 제목\n",
    "company_name = soup.select('div.jobpost-summary-wrapper > ul > li') # 회사명 -> 회사개요\n",
    "detail_uri = soup.select('meta[property=\"og:url\"]') # 구직 회사 내용 화면\n",
    "apply_start_date = soup.select('') # 모집기한\n",
    "apply_end_date = soup.select('')\n",
    "task = soup.select('') # 직무개요 div.circle-conts-view-main-conts-box-question > div [3,4]\n",
    "need_career = soup.select('') # 경력요건  div.circle-conts-view-main-conts-box-question > div [7]\n",
    "team_env = soup.select('') # 처우  div.circle-conts-view-main-conts-box-question > div [10]\n",
    "need_doc = soup.select('') # 제출서류  div.circle-conts-view-main-conts-box-question > div []\n",
    "contact_people = soup.select('') # 담당컨설턴트  div.circle-conts-view-main-conts-box-question > div\n",
    "hashtag = soup.select('div.keyword-wrap') # 해시태그"
   ]
  },
  {
   "cell_type": "code",
   "execution_count": 71,
   "id": "e6cb692e",
   "metadata": {},
   "outputs": [],
   "source": [
    "recruit_title = soup.select('article.circle-conts-view > h3.tit-h3') # 주제, 제목"
   ]
  },
  {
   "cell_type": "code",
   "execution_count": 161,
   "id": "791a580c",
   "metadata": {},
   "outputs": [
    {
     "name": "stdout",
     "output_type": "stream",
     "text": [
      "[[], [], []]\n"
     ]
    },
    {
     "data": {
      "text/plain": [
       "(3, list, None)"
      ]
     },
     "execution_count": 161,
     "metadata": {},
     "output_type": "execute_result"
    }
   ],
   "source": [
    "len(recruit_title), type(recruit_title), print(recruit_title)"
   ]
  },
  {
   "cell_type": "code",
   "execution_count": 76,
   "id": "f35a670b",
   "metadata": {},
   "outputs": [],
   "source": [
    "company_name = soup.select('div.jobpost-summary-wrapper > ul > li') # 회사명"
   ]
  },
  {
   "cell_type": "code",
   "execution_count": 77,
   "id": "047d57e3",
   "metadata": {},
   "outputs": [
    {
     "name": "stdout",
     "output_type": "stream",
     "text": [
      "[<li>\n",
      "<strong>회사개요 : </strong> 국내 대기업 계열 시큐리티 솔루션 기업\n",
      "                                                        </li>, <li>\n",
      "<strong>모집기간 : </strong> 채용시까지\n",
      "                                                        </li>]\n"
     ]
    }
   ],
   "source": [
    "print(company_name)"
   ]
  },
  {
   "cell_type": "code",
   "execution_count": 78,
   "id": "fa98b638",
   "metadata": {},
   "outputs": [],
   "source": [
    "detail_uri = soup.select('meta[property=\"og:url\"]') # 구직 회사 내용 화면"
   ]
  },
  {
   "cell_type": "code",
   "execution_count": 86,
   "id": "15be20c3",
   "metadata": {},
   "outputs": [
    {
     "name": "stdout",
     "output_type": "stream",
     "text": [
      "[<meta content=\"https://www.jobindexworld.com/jobpost/view/53346\" property=\"og:url\"/>]\n"
     ]
    }
   ],
   "source": [
    "print(detail_uri)"
   ]
  },
  {
   "cell_type": "code",
   "execution_count": 88,
   "id": "47672cad",
   "metadata": {},
   "outputs": [
    {
     "data": {
      "text/plain": [
       "''"
      ]
     },
     "execution_count": 88,
     "metadata": {},
     "output_type": "execute_result"
    }
   ],
   "source": [
    "detail_uri[0].text"
   ]
  },
  {
   "cell_type": "code",
   "execution_count": 73,
   "id": "29bdd90a",
   "metadata": {},
   "outputs": [],
   "source": [
    "hashtag = soup.select('div.keyword-wrap') # 해시태그"
   ]
  },
  {
   "cell_type": "code",
   "execution_count": 74,
   "id": "9d0ab614",
   "metadata": {},
   "outputs": [
    {
     "data": {
      "text/plain": [
       "(1, bs4.element.ResultSet)"
      ]
     },
     "execution_count": 74,
     "metadata": {},
     "output_type": "execute_result"
    }
   ],
   "source": [
    "len(hashtag), type(hashtag)"
   ]
  },
  {
   "cell_type": "code",
   "execution_count": 75,
   "id": "71c4bc69",
   "metadata": {},
   "outputs": [
    {
     "name": "stdout",
     "output_type": "stream",
     "text": [
      "[<div class=\"keyword-wrap\">\n",
      "<a class=\"keyword\" href=\"/circle/tags/view/3011\">#Data</a><input name=\"keyword-index-ref\" type=\"hidden\" value=\"3011\"/><a class=\"keyword\" href=\"/circle/tags/view/5016\">#데이터사이언티스트</a><input name=\"keyword-index-ref\" type=\"hidden\" value=\"5016\"/><a class=\"keyword\" href=\"/circle/tags/view/4259\">#DATA_SCIENTIST</a><input name=\"keyword-index-ref\" type=\"hidden\" value=\"4259\"/>\n",
      "</div>]\n"
     ]
    }
   ],
   "source": [
    "print(hashtag)"
   ]
  },
  {
   "cell_type": "code",
   "execution_count": 83,
   "id": "2bc3a0de",
   "metadata": {},
   "outputs": [
    {
     "data": {
      "text/plain": [
       "'\\n#Data#데이터사이언티스트#DATA_SCIENTIST\\n'"
      ]
     },
     "execution_count": 83,
     "metadata": {},
     "output_type": "execute_result"
    }
   ],
   "source": [
    "hashtag[0].text"
   ]
  },
  {
   "cell_type": "code",
   "execution_count": 81,
   "id": "24394868",
   "metadata": {},
   "outputs": [
    {
     "data": {
      "text/plain": [
       "[[]]"
      ]
     },
     "execution_count": 81,
     "metadata": {},
     "output_type": "execute_result"
    }
   ],
   "source": [
    "contents = list()\n",
    "for hash in hashtag:\n",
    "    h_tag = hash.select('div.keyword-wrap')\n",
    "    contents.append(h_tag)\n",
    "\n",
    "contents"
   ]
  },
  {
   "cell_type": "markdown",
   "id": "3fe95b8b",
   "metadata": {},
   "source": [
    "### SCRAPING SITE TABLE에 넣기"
   ]
  },
  {
   "cell_type": "code",
   "execution_count": 58,
   "id": "4cfb1149",
   "metadata": {},
   "outputs": [],
   "source": [
    "brawser = webdriver.Chrome('./chromedriver.exe')"
   ]
  },
  {
   "cell_type": "code",
   "execution_count": 59,
   "id": "41cdfc68",
   "metadata": {},
   "outputs": [],
   "source": [
    "brawser.get('https://github.com/login')"
   ]
  },
  {
   "cell_type": "code",
   "execution_count": 60,
   "id": "e6e0d91d",
   "metadata": {},
   "outputs": [],
   "source": [
    "brawser.find_elements_by_css_selector('input#login_field')[0].send_keys('superinssa@gmail.com')"
   ]
  },
  {
   "cell_type": "code",
   "execution_count": 63,
   "id": "28bcc095",
   "metadata": {},
   "outputs": [],
   "source": [
    "brawser.find_elements_by_css_selector('input#password')[0].send_keys('ghlehd123#')"
   ]
  },
  {
   "cell_type": "code",
   "execution_count": 64,
   "id": "e3f2c5e5",
   "metadata": {},
   "outputs": [],
   "source": [
    "brawser.find_elements_by_css_selector('input[type=\"submit\"]')[0].click()"
   ]
  }
 ],
 "metadata": {
  "kernelspec": {
   "display_name": "Python 3",
   "language": "python",
   "name": "python3"
  },
  "language_info": {
   "codemirror_mode": {
    "name": "ipython",
    "version": 3
   },
   "file_extension": ".py",
   "mimetype": "text/x-python",
   "name": "python",
   "nbconvert_exporter": "python",
   "pygments_lexer": "ipython3",
   "version": "3.8.8"
  }
 },
 "nbformat": 4,
 "nbformat_minor": 5
}
