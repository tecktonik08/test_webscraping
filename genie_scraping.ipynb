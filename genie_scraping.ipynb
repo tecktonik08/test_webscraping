{
 "cells": [
  {
   "cell_type": "markdown",
   "id": "1357273f",
   "metadata": {},
   "source": [
    "Selnium에서 webdriver를 import"
   ]
  },
  {
   "cell_type": "code",
   "execution_count": 1,
   "id": "5b8f3e35",
   "metadata": {},
   "outputs": [],
   "source": [
    "from selenium import webdriver"
   ]
  },
  {
   "cell_type": "markdown",
   "id": "bca671fa",
   "metadata": {},
   "source": [
    "크롬 브라우저 실행"
   ]
  },
  {
   "cell_type": "code",
   "execution_count": 2,
   "id": "ac31f223",
   "metadata": {},
   "outputs": [],
   "source": [
    "browser = webdriver.Chrome('./chromedriver.exe')"
   ]
  },
  {
   "cell_type": "markdown",
   "id": "daecfb1f",
   "metadata": {},
   "source": [
    "지니뮤직 차트 요청"
   ]
  },
  {
   "cell_type": "code",
   "execution_count": 3,
   "id": "2b184038",
   "metadata": {},
   "outputs": [],
   "source": [
    "browser.get('https://www.genie.co.kr/chart/top200')"
   ]
  },
  {
   "cell_type": "markdown",
   "id": "a9f7ec80",
   "metadata": {},
   "source": [
    "브라우저의 소스 긁어오고 html에 저장"
   ]
  },
  {
   "cell_type": "code",
   "execution_count": 4,
   "id": "abf5e042",
   "metadata": {},
   "outputs": [],
   "source": [
    "html = browser.page_source"
   ]
  },
  {
   "cell_type": "markdown",
   "id": "91ee9185",
   "metadata": {},
   "source": [
    "bs4에서 BeautifulSoup를 import"
   ]
  },
  {
   "cell_type": "code",
   "execution_count": 6,
   "id": "192803bf",
   "metadata": {},
   "outputs": [],
   "source": [
    "from bs4 import BeautifulSoup"
   ]
  },
  {
   "cell_type": "markdown",
   "id": "7428584c",
   "metadata": {},
   "source": [
    "html을 parsing하고 tags 변수에 저장"
   ]
  },
  {
   "cell_type": "code",
   "execution_count": 10,
   "id": "4a532bf6",
   "metadata": {},
   "outputs": [],
   "source": [
    "soup = BeautifulSoup(html, 'html.parser')"
   ]
  },
  {
   "cell_type": "markdown",
   "id": "d672c3c7",
   "metadata": {},
   "source": [
    "css.selector로 목표값 찾기(검사에서 해당 태그 찾기)"
   ]
  },
  {
   "cell_type": "code",
   "execution_count": 11,
   "id": "86a9466a",
   "metadata": {},
   "outputs": [],
   "source": [
    "tags = soup.select('td.info')"
   ]
  },
  {
   "cell_type": "markdown",
   "id": "b705bbde",
   "metadata": {},
   "source": [
    "변수의 성격 확인(tags의 길이, 타입 확인) ResultSet = List + 추가 기능"
   ]
  },
  {
   "cell_type": "code",
   "execution_count": 12,
   "id": "9a4441ab",
   "metadata": {},
   "outputs": [
    {
     "data": {
      "text/plain": [
       "(50, bs4.element.ResultSet)"
      ]
     },
     "execution_count": 12,
     "metadata": {},
     "output_type": "execute_result"
    }
   ],
   "source": [
    "len(tags), type(tags)"
   ]
  },
  {
   "cell_type": "markdown",
   "id": "72b1d166",
   "metadata": {},
   "source": [
    "변수 중 하나를 확인"
   ]
  },
  {
   "cell_type": "code",
   "execution_count": 13,
   "id": "ae1312f4",
   "metadata": {},
   "outputs": [
    {
     "data": {
      "text/plain": [
       "<td class=\"info\">\n",
       "<a class=\"title ellipsis\" href=\"#\" onclick=\"fnPlaySong('93599531','1');return false;\" title=\"재생\">\n",
       "                                        \n",
       "                                            \n",
       "                                        \n",
       "                                        \n",
       "                                        \n",
       "                                        \n",
       "                                            \n",
       "                                                하루만 더</a>\n",
       "<a class=\"artist ellipsis\" href=\"#\" onclick=\"fnViewArtist('14957679');return false;\">빅마마 (Big Mama)</a>\n",
       "<div class=\"toggle-button-box\">\n",
       "<button class=\"btn artist-etc\" onclick=\"fnRelationArtistList('93599531');\" type=\"button\">외</button>\n",
       "<ul class=\"list\" id=\"RelationArtist_93599531\"></ul>\n",
       "</div>\n",
       "<i class=\"bar\">|</i>\n",
       "<a class=\"albumtitle ellipsis\" href=\"#\" onclick=\"fnViewAlbumLayer('82105644');return false;\">하루만 더</a>\n",
       "</td>"
      ]
     },
     "execution_count": 13,
     "metadata": {},
     "output_type": "execute_result"
    }
   ],
   "source": [
    "tags[0]"
   ]
  },
  {
   "cell_type": "markdown",
   "id": "fca59a6e",
   "metadata": {},
   "source": [
    "하나의 tag만 남을 때까지 select"
   ]
  },
  {
   "cell_type": "markdown",
   "id": "9869f3be",
   "metadata": {},
   "source": [
    "곡명 : a.title 가수이름 :a.artist"
   ]
  },
  {
   "cell_type": "markdown",
   "id": "ce0c2304",
   "metadata": {},
   "source": [
    "위의 과정을 반복해서 곡명을 추출"
   ]
  },
  {
   "cell_type": "code",
   "execution_count": 40,
   "id": "a54a943a",
   "metadata": {},
   "outputs": [],
   "source": [
    "tag = tags[0]"
   ]
  },
  {
   "cell_type": "code",
   "execution_count": 41,
   "id": "e5b4c5ea",
   "metadata": {},
   "outputs": [
    {
     "data": {
      "text/plain": [
       "(1, bs4.element.ResultSet)"
      ]
     },
     "execution_count": 41,
     "metadata": {},
     "output_type": "execute_result"
    }
   ],
   "source": [
    "title = tag.select('a.title')\n",
    "len(title), type(title)"
   ]
  },
  {
   "cell_type": "code",
   "execution_count": 22,
   "id": "17020c8d",
   "metadata": {},
   "outputs": [
    {
     "data": {
      "text/plain": [
       "<a class=\"title ellipsis\" href=\"#\" onclick=\"fnPlaySong('93599531','1');return false;\" title=\"재생\">\n",
       "                                        \n",
       "                                            \n",
       "                                        \n",
       "                                        \n",
       "                                        \n",
       "                                        \n",
       "                                            \n",
       "                                                하루만 더</a>"
      ]
     },
     "execution_count": 22,
     "metadata": {},
     "output_type": "execute_result"
    }
   ],
   "source": [
    "title[0]"
   ]
  },
  {
   "cell_type": "code",
   "execution_count": 23,
   "id": "fe167f8b",
   "metadata": {},
   "outputs": [
    {
     "data": {
      "text/plain": [
       "'\\n                                        \\n                                            \\n                                        \\n                                        \\n                                        \\n                                        \\n                                            \\n                                                하루만 더'"
      ]
     },
     "execution_count": 23,
     "metadata": {},
     "output_type": "execute_result"
    }
   ],
   "source": [
    "title[0].text"
   ]
  },
  {
   "cell_type": "code",
   "execution_count": 24,
   "id": "22293739",
   "metadata": {},
   "outputs": [
    {
     "data": {
      "text/plain": [
       "'하루만 더'"
      ]
     },
     "execution_count": 24,
     "metadata": {},
     "output_type": "execute_result"
    }
   ],
   "source": [
    "title[0].text.strip()"
   ]
  },
  {
   "cell_type": "markdown",
   "id": "863728ff",
   "metadata": {},
   "source": [
    "위의 과정을 반복하여 가수명을 추출"
   ]
  },
  {
   "cell_type": "code",
   "execution_count": 25,
   "id": "a60d860d",
   "metadata": {},
   "outputs": [
    {
     "data": {
      "text/plain": [
       "[<a class=\"artist ellipsis\" href=\"#\" onclick=\"fnViewArtist('14957679');return false;\">빅마마 (Big Mama)</a>]"
      ]
     },
     "execution_count": 25,
     "metadata": {},
     "output_type": "execute_result"
    }
   ],
   "source": [
    "tag.select('a.artist')"
   ]
  },
  {
   "cell_type": "code",
   "execution_count": 28,
   "id": "7cc14827",
   "metadata": {},
   "outputs": [
    {
     "data": {
      "text/plain": [
       "(1, bs4.element.ResultSet)"
      ]
     },
     "execution_count": 28,
     "metadata": {},
     "output_type": "execute_result"
    }
   ],
   "source": [
    "artist = tag.select('a.artist')\n",
    "len(artist), type(artist)"
   ]
  },
  {
   "cell_type": "code",
   "execution_count": 29,
   "id": "2deecefe",
   "metadata": {},
   "outputs": [
    {
     "data": {
      "text/plain": [
       "<a class=\"artist ellipsis\" href=\"#\" onclick=\"fnViewArtist('14957679');return false;\">빅마마 (Big Mama)</a>"
      ]
     },
     "execution_count": 29,
     "metadata": {},
     "output_type": "execute_result"
    }
   ],
   "source": [
    "artist[0]"
   ]
  },
  {
   "cell_type": "code",
   "execution_count": 30,
   "id": "9ebe8b4f",
   "metadata": {},
   "outputs": [
    {
     "data": {
      "text/plain": [
       "'빅마마 (Big Mama)'"
      ]
     },
     "execution_count": 30,
     "metadata": {},
     "output_type": "execute_result"
    }
   ],
   "source": [
    "artist[0].text"
   ]
  },
  {
   "cell_type": "markdown",
   "id": "8c47dd7a",
   "metadata": {},
   "source": [
    "[\n",
    "    [title01, artist01],\n",
    "    [title02, artist02],\n",
    "    ...\n",
    "] 형태로 출력하기"
   ]
  },
  {
   "cell_type": "code",
   "execution_count": 42,
   "id": "8f84306a",
   "metadata": {},
   "outputs": [
    {
     "data": {
      "text/plain": [
       "[['하루만 더', '빅마마 (Big Mama)'],\n",
       " ['치맛바람 (Chi Mat Ba Ram)', '브레이브걸스 (Brave girls)'],\n",
       " ['Butter', '방탄소년단'],\n",
       " ['Next Level', 'aespa'],\n",
       " ['Alcohol-Free', 'TWICE (트와이스)'],\n",
       " ['비와 당신', '이무진'],\n",
       " ['헤픈 우연', '헤이즈 (Heize)'],\n",
       " ['Dun Dun Dance', '오마이걸 (OH MY GIRL)'],\n",
       " ['추적이는 여름 비가 되어', '장범준'],\n",
       " [\"롤린 (Rollin')\", '브레이브걸스 (Brave girls)'],\n",
       " ['안녕 (Hello)', '조이 (JOY)'],\n",
       " ['Peaches (Feat. Daniel Caesar & Giveon)', 'Justin Bieber'],\n",
       " ['라일락', '아이유 (IU)'],\n",
       " ['Dynamite', '방탄소년단'],\n",
       " ['운전만해 (We Ride)', '브레이브걸스 (Brave girls)'],\n",
       " ['Ready to love', '세븐틴 (SEVENTEEN)'],\n",
       " ['ASAP', 'STAYC (스테이씨)'],\n",
       " ['신호등', '이무진'],\n",
       " ['상상더하기', 'MSG워너비 TOP 8 (별루지 & 김정수 & 강창모 & 정기석 & 이동휘 & 이상이 & 박재정 & 원슈타인)'],\n",
       " ['Celebrity', '아이유 (IU)'],\n",
       " ['상상더하기', '라붐 (LABOUM)'],\n",
       " ['이제 나만 믿어요', '임영웅'],\n",
       " ['Timeless', 'SG워너비'],\n",
       " ['Savage Love (Laxed - Siren Beat) (BTS Remix)',\n",
       "  'Jawsh 685 & Jason Derulo & 방탄소년단'],\n",
       " ['다정히 내 이름을 부르면', '경서예지 & 전건호'],\n",
       " ['별빛 같은 나의 사랑아', '임영웅'],\n",
       " ['HERO', '임영웅'],\n",
       " ['어떤 말도 할 수가 없는 나인데', '케이시 (Kassy)'],\n",
       " ['작은 것들을 위한 시 (Boy With Luv) (Feat. Halsey)', '방탄소년단'],\n",
       " ['허리춤', '오반 (OVAN)'],\n",
       " ['다시 사랑한다면 (김필 Ver.)', '임영웅'],\n",
       " ['내 손을 잡아', '아이유 (IU)'],\n",
       " ['사이렌 Remix (Feat. UNEDUCATED KID & Paul Blanco)', '호미들'],\n",
       " ['At My Worst', 'Pink Sweat$'],\n",
       " ['봄날', '방탄소년단'],\n",
       " ['잊어야 한다는 마음으로', '임영웅'],\n",
       " ['계단말고 엘리베이터', '임영웅'],\n",
       " ['Anyone', '세븐틴 (SEVENTEEN)'],\n",
       " ['미워요', '임영웅'],\n",
       " ['Life Goes On', '방탄소년단'],\n",
       " ['LOVE DAY (2021) (바른연애 길잡이 X 양요섭, 정은지)', '양요섭 & 정은지'],\n",
       " [\"Heaven's Cloud\", '세븐틴 (SEVENTEEN)'],\n",
       " ['Coin', '아이유 (IU)'],\n",
       " ['흔들리는 꽃들 속에서 네 샴푸향이 느껴진거야', '장범준'],\n",
       " ['소나기', '임영웅'],\n",
       " ['마.피.아. In the morning', 'ITZY (있지)'],\n",
       " ['2002', 'Anne-Marie'],\n",
       " ['Off My Face', 'Justin Bieber'],\n",
       " ['내 입술 따뜻한 커피처럼', '청하 & Colde (콜드)'],\n",
       " ['아주 NICE', '세븐틴 (SEVENTEEN)']]"
      ]
     },
     "execution_count": 42,
     "metadata": {},
     "output_type": "execute_result"
    }
   ],
   "source": [
    "contents = list()\n",
    "for tag in tags:\n",
    "    title = tag.select('a.title')\n",
    "    artist = tag.select('a.artist')\n",
    "    # print(title[0].text.strip(), artist[0].text)\n",
    "    song = [title[0].text.strip(), artist[0].text]\n",
    "    contents.append(song)\n",
    "\n",
    "contents"
   ]
  },
  {
   "cell_type": "markdown",
   "id": "19c52a7a",
   "metadata": {},
   "source": [
    "Pandas를 사용해 구조를 만들기 "
   ]
  },
  {
   "cell_type": "code",
   "execution_count": 43,
   "id": "80fbaadc",
   "metadata": {},
   "outputs": [],
   "source": [
    "import pandas"
   ]
  },
  {
   "cell_type": "markdown",
   "id": "6fbc47c8",
   "metadata": {},
   "source": [
    "dataFrame의 column명을 지정"
   ]
  },
  {
   "cell_type": "code",
   "execution_count": 47,
   "id": "d163d39e",
   "metadata": {},
   "outputs": [],
   "source": [
    "pd_data = pandas.DataFrame(contents, columns=['title','artist'])"
   ]
  },
  {
   "cell_type": "markdown",
   "id": "c1bafa10",
   "metadata": {},
   "source": [
    "현재 경로 saves 폴더에 genie_scraping.xls로 index를 삭제하고 저장"
   ]
  },
  {
   "cell_type": "code",
   "execution_count": 48,
   "id": "4aec903d",
   "metadata": {},
   "outputs": [],
   "source": [
    "pd_data.to_excel('./saves/genie_scraping.xls', index='False')"
   ]
  },
  {
   "cell_type": "code",
   "execution_count": null,
   "id": "67aa7374",
   "metadata": {},
   "outputs": [],
   "source": []
  }
 ],
 "metadata": {
  "kernelspec": {
   "display_name": "Python 3",
   "language": "python",
   "name": "python3"
  },
  "language_info": {
   "codemirror_mode": {
    "name": "ipython",
    "version": 3
   },
   "file_extension": ".py",
   "mimetype": "text/x-python",
   "name": "python",
   "nbconvert_exporter": "python",
   "pygments_lexer": "ipython3",
   "version": "3.6.4"
  }
 },
 "nbformat": 4,
 "nbformat_minor": 5
}
