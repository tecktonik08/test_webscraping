{
 "cells": [
  {
   "cell_type": "code",
   "execution_count": 1,
   "id": "029eb43c",
   "metadata": {},
   "outputs": [],
   "source": [
    "import requests"
   ]
  },
  {
   "cell_type": "code",
   "execution_count": 2,
   "id": "9f615f42",
   "metadata": {},
   "outputs": [],
   "source": [
    "path = 'http://media.daum.net/economic/'\n",
    "req = requests.get(path)"
   ]
  },
  {
   "cell_type": "code",
   "execution_count": 3,
   "id": "9e16de3b",
   "metadata": {},
   "outputs": [
    {
     "data": {
      "text/plain": [
       "200"
      ]
     },
     "execution_count": 3,
     "metadata": {},
     "output_type": "execute_result"
    }
   ],
   "source": [
    "req.status_code"
   ]
  },
  {
   "cell_type": "code",
   "execution_count": 4,
   "id": "f06ab545",
   "metadata": {},
   "outputs": [],
   "source": [
    "from bs4 import BeautifulSoup as bs"
   ]
  },
  {
   "cell_type": "markdown",
   "id": "ecb925fb",
   "metadata": {},
   "source": [
    "##### html을 추출"
   ]
  },
  {
   "cell_type": "code",
   "execution_count": 5,
   "id": "63160957",
   "metadata": {},
   "outputs": [],
   "source": [
    "soup = bs(req.content, 'html.parser')"
   ]
  },
  {
   "cell_type": "code",
   "execution_count": 6,
   "id": "fea12c15",
   "metadata": {},
   "outputs": [
    {
     "data": {
      "text/plain": [
       "bs4.BeautifulSoup"
      ]
     },
     "execution_count": 6,
     "metadata": {},
     "output_type": "execute_result"
    }
   ],
   "source": [
    "type(soup)"
   ]
  },
  {
   "cell_type": "markdown",
   "id": "61f0d454",
   "metadata": {},
   "source": [
    "##### .select 특정한 것을 추출"
   ]
  },
  {
   "cell_type": "code",
   "execution_count": 7,
   "id": "c8b33ff2",
   "metadata": {},
   "outputs": [
    {
     "data": {
      "text/plain": [
       "[<a class=\"link_txt\" data-tiara-custom=\"contentUniqueKey=hamny-20210624171137447\" data-tiara-id=\"20210624171137447\" data-tiara-layer=\"article_main\" data-tiara-ordnum=\"1\" data-tiara-type=\"harmony\" href=\"https://news.v.daum.net/v/20210624171137447\">정용진발 이커머스 지각변동..'승자의 저주' 우려 없나</a>,\n",
       " <a class=\"link_txt\" data-tiara-custom=\"contentUniqueKey=hamny-20210624170820312\" data-tiara-id=\"20210624170820312\" data-tiara-layer=\"article_main\" data-tiara-ordnum=\"1\" data-tiara-type=\"harmony\" href=\"https://news.v.daum.net/v/20210624170820312\">재난지원금 소득하위 80% 유력..가구당 100만원 이상도 검토</a>,\n",
       " <a class=\"link_txt\" data-tiara-custom=\"contentUniqueKey=hamny-20210624170820311\" data-tiara-id=\"20210624170820311\" data-tiara-layer=\"article_main\" data-tiara-ordnum=\"1\" data-tiara-type=\"harmony\" href=\"https://news.v.daum.net/v/20210624170820311\">신세계 이마트, 이베이코리아 3조4000억원에 인수 .. e커머스 2위 등극</a>,\n",
       " <a class=\"link_txt\" data-tiara-custom=\"contentUniqueKey=hamny-20210624170625240\" data-tiara-id=\"20210624170625240\" data-tiara-layer=\"article_main\" data-tiara-ordnum=\"1\" data-tiara-type=\"harmony\" href=\"https://news.v.daum.net/v/20210624170625240\">경총 \"최저임금 1만800원, 소상공인·중기에 충격\"</a>,\n",
       " <a class=\"link_txt\" data-tiara-custom=\"contentUniqueKey=hamny-20210624165908899\" data-tiara-id=\"20210624165908899\" data-tiara-layer=\"article_main\" data-tiara-ordnum=\"1\" data-tiara-type=\"harmony\" href=\"https://news.v.daum.net/v/20210624165908899\">신세계, 3.4조에 이베이코리아 품었다..이커머스 2위로</a>]"
      ]
     },
     "execution_count": 7,
     "metadata": {},
     "output_type": "execute_result"
    }
   ],
   "source": [
    "result = soup.select('div > strong.tit_thumb > a[href].link_txt')\n",
    "result"
   ]
  },
  {
   "cell_type": "code",
   "execution_count": 8,
   "id": "da92b844",
   "metadata": {},
   "outputs": [
    {
     "data": {
      "text/plain": [
       "<a class=\"link_txt\" data-tiara-custom=\"contentUniqueKey=hamny-20210624171137447\" data-tiara-id=\"20210624171137447\" data-tiara-layer=\"article_main\" data-tiara-ordnum=\"1\" data-tiara-type=\"harmony\" href=\"https://news.v.daum.net/v/20210624171137447\">정용진발 이커머스 지각변동..'승자의 저주' 우려 없나</a>"
      ]
     },
     "execution_count": 8,
     "metadata": {},
     "output_type": "execute_result"
    }
   ],
   "source": [
    "result[0]"
   ]
  },
  {
   "cell_type": "code",
   "execution_count": 9,
   "id": "cace945d",
   "metadata": {},
   "outputs": [
    {
     "data": {
      "text/plain": [
       "\"정용진발 이커머스 지각변동..'승자의 저주' 우려 없나\""
      ]
     },
     "execution_count": 9,
     "metadata": {},
     "output_type": "execute_result"
    }
   ],
   "source": [
    "result[0].text"
   ]
  },
  {
   "cell_type": "code",
   "execution_count": 10,
   "id": "c03130f2",
   "metadata": {},
   "outputs": [],
   "source": [
    "tag = result[0]"
   ]
  },
  {
   "cell_type": "markdown",
   "id": "a75a46aa",
   "metadata": {},
   "source": [
    "##### <tag> 안의 attribute를 사용"
   ]
  },
  {
   "cell_type": "code",
   "execution_count": 11,
   "id": "50a68ebc",
   "metadata": {},
   "outputs": [
    {
     "data": {
      "text/plain": [
       "'https://news.v.daum.net/v/20210624171137447'"
      ]
     },
     "execution_count": 11,
     "metadata": {},
     "output_type": "execute_result"
    }
   ],
   "source": [
    "tag['href']"
   ]
  },
  {
   "cell_type": "code",
   "execution_count": 12,
   "id": "df621790",
   "metadata": {},
   "outputs": [
    {
     "name": "stdout",
     "output_type": "stream",
     "text": [
      "정용진발 이커머스 지각변동..'승자의 저주' 우려 없나 https://news.v.daum.net/v/20210624171137447\n",
      "재난지원금 소득하위 80% 유력..가구당 100만원 이상도 검토 https://news.v.daum.net/v/20210624170820312\n",
      "신세계 이마트, 이베이코리아 3조4000억원에 인수 .. e커머스 2위 등극 https://news.v.daum.net/v/20210624170820311\n",
      "경총 \"최저임금 1만800원, 소상공인·중기에 충격\" https://news.v.daum.net/v/20210624170625240\n",
      "신세계, 3.4조에 이베이코리아 품었다..이커머스 2위로 https://news.v.daum.net/v/20210624165908899\n"
     ]
    }
   ],
   "source": [
    "# for tag in result:\n",
    "    print(tag.text.strip(), tag['href'].strip())"
   ]
  },
  {
   "cell_type": "markdown",
   "id": "6e825369",
   "metadata": {},
   "source": [
    "for문 돌려서 리스트형태로 [\n",
    "    [title, link],\n",
    "    [title01, link01],\n",
    "    [title02, link02],\n",
    "    ....\n",
    "]"
   ]
  },
  {
   "cell_type": "code",
   "execution_count": 17,
   "id": "407da388",
   "metadata": {},
   "outputs": [
    {
     "name": "stdout",
     "output_type": "stream",
     "text": [
      "정용진발 이커머스 지각변동..'승자의 저주' 우려 없나 https://news.v.daum.net/v/20210624171137447\n",
      "재난지원금 소득하위 80% 유력..가구당 100만원 이상도 검토 https://news.v.daum.net/v/20210624170820312\n",
      "신세계 이마트, 이베이코리아 3조4000억원에 인수 .. e커머스 2위 등극 https://news.v.daum.net/v/20210624170820311\n",
      "경총 \"최저임금 1만800원, 소상공인·중기에 충격\" https://news.v.daum.net/v/20210624170625240\n",
      "신세계, 3.4조에 이베이코리아 품었다..이커머스 2위로 https://news.v.daum.net/v/20210624165908899\n"
     ]
    },
    {
     "data": {
      "text/plain": [
       "5"
      ]
     },
     "execution_count": 17,
     "metadata": {},
     "output_type": "execute_result"
    }
   ],
   "source": [
    "contents = []\n",
    "for tag in result:\n",
    "    print(tag.text.strip(), tag['href'].strip())\n",
    "    title = tag.text.strip()\n",
    "    link = tag['href'].strip()\n",
    "    content = [title, link]\n",
    "    contents.append(content)\n",
    "    \n",
    "len(contents)"
   ]
  },
  {
   "cell_type": "code",
   "execution_count": 18,
   "id": "e26edc7c",
   "metadata": {},
   "outputs": [
    {
     "data": {
      "text/plain": [
       "[[\"정용진발 이커머스 지각변동..'승자의 저주' 우려 없나\",\n",
       "  'https://news.v.daum.net/v/20210624171137447'],\n",
       " ['재난지원금 소득하위 80% 유력..가구당 100만원 이상도 검토',\n",
       "  'https://news.v.daum.net/v/20210624170820312'],\n",
       " ['신세계 이마트, 이베이코리아 3조4000억원에 인수 .. e커머스 2위 등극',\n",
       "  'https://news.v.daum.net/v/20210624170820311'],\n",
       " ['경총 \"최저임금 1만800원, 소상공인·중기에 충격\"',\n",
       "  'https://news.v.daum.net/v/20210624170625240'],\n",
       " ['신세계, 3.4조에 이베이코리아 품었다..이커머스 2위로',\n",
       "  'https://news.v.daum.net/v/20210624165908899']]"
      ]
     },
     "execution_count": 18,
     "metadata": {},
     "output_type": "execute_result"
    }
   ],
   "source": [
    "contents"
   ]
  },
  {
   "cell_type": "code",
   "execution_count": 20,
   "id": "3c022af6",
   "metadata": {},
   "outputs": [],
   "source": [
    "import pandas"
   ]
  },
  {
   "cell_type": "markdown",
   "id": "c72ab2a3",
   "metadata": {},
   "source": [
    "column명을 지정하며 데이터프레임 지정"
   ]
  },
  {
   "cell_type": "code",
   "execution_count": 26,
   "id": "548c2e77",
   "metadata": {},
   "outputs": [
    {
     "data": {
      "text/html": [
       "<div>\n",
       "<style scoped>\n",
       "    .dataframe tbody tr th:only-of-type {\n",
       "        vertical-align: middle;\n",
       "    }\n",
       "\n",
       "    .dataframe tbody tr th {\n",
       "        vertical-align: top;\n",
       "    }\n",
       "\n",
       "    .dataframe thead th {\n",
       "        text-align: right;\n",
       "    }\n",
       "</style>\n",
       "<table border=\"1\" class=\"dataframe\">\n",
       "  <thead>\n",
       "    <tr style=\"text-align: right;\">\n",
       "      <th></th>\n",
       "      <th>Title</th>\n",
       "      <th>Link</th>\n",
       "    </tr>\n",
       "  </thead>\n",
       "  <tbody>\n",
       "    <tr>\n",
       "      <th>0</th>\n",
       "      <td>정용진발 이커머스 지각변동..'승자의 저주' 우려 없나</td>\n",
       "      <td>https://news.v.daum.net/v/20210624171137447</td>\n",
       "    </tr>\n",
       "    <tr>\n",
       "      <th>1</th>\n",
       "      <td>재난지원금 소득하위 80% 유력..가구당 100만원 이상도 검토</td>\n",
       "      <td>https://news.v.daum.net/v/20210624170820312</td>\n",
       "    </tr>\n",
       "    <tr>\n",
       "      <th>2</th>\n",
       "      <td>신세계 이마트, 이베이코리아 3조4000억원에 인수 .. e커머스 2위 등극</td>\n",
       "      <td>https://news.v.daum.net/v/20210624170820311</td>\n",
       "    </tr>\n",
       "    <tr>\n",
       "      <th>3</th>\n",
       "      <td>경총 \"최저임금 1만800원, 소상공인·중기에 충격\"</td>\n",
       "      <td>https://news.v.daum.net/v/20210624170625240</td>\n",
       "    </tr>\n",
       "    <tr>\n",
       "      <th>4</th>\n",
       "      <td>신세계, 3.4조에 이베이코리아 품었다..이커머스 2위로</td>\n",
       "      <td>https://news.v.daum.net/v/20210624165908899</td>\n",
       "    </tr>\n",
       "  </tbody>\n",
       "</table>\n",
       "</div>"
      ],
      "text/plain": [
       "                                        Title  \\\n",
       "0              정용진발 이커머스 지각변동..'승자의 저주' 우려 없나   \n",
       "1         재난지원금 소득하위 80% 유력..가구당 100만원 이상도 검토   \n",
       "2  신세계 이마트, 이베이코리아 3조4000억원에 인수 .. e커머스 2위 등극   \n",
       "3               경총 \"최저임금 1만800원, 소상공인·중기에 충격\"   \n",
       "4             신세계, 3.4조에 이베이코리아 품었다..이커머스 2위로   \n",
       "\n",
       "                                          Link  \n",
       "0  https://news.v.daum.net/v/20210624171137447  \n",
       "1  https://news.v.daum.net/v/20210624170820312  \n",
       "2  https://news.v.daum.net/v/20210624170820311  \n",
       "3  https://news.v.daum.net/v/20210624170625240  \n",
       "4  https://news.v.daum.net/v/20210624165908899  "
      ]
     },
     "execution_count": 26,
     "metadata": {},
     "output_type": "execute_result"
    }
   ],
   "source": [
    "pd = pandas.DataFrame(contents, columns=['Title','Link'])\n",
    "pd"
   ]
  },
  {
   "cell_type": "code",
   "execution_count": 23,
   "id": "f6f82e5e",
   "metadata": {},
   "outputs": [
    {
     "name": "stdout",
     "output_type": "stream",
     "text": [
      " C 드라이브의 볼륨에는 이름이 없습니다.\n",
      " 볼륨 일련 번호: 5E33-8C77\n",
      "\n",
      " C:\\Develops\\test_webscraping 디렉터리\n",
      "\n",
      "2021-06-24  오후 05:30    <DIR>          .\n",
      "2021-06-24  오후 05:30    <DIR>          ..\n",
      "2021-06-24  오전 11:08             1,928 .gitignore\n",
      "2021-06-24  오후 04:01    <DIR>          .idea\n",
      "2021-06-24  오후 05:15    <DIR>          .ipynb_checkpoints\n",
      "2021-06-24  오후 02:29            20,249 beautifulsoup_htmlload.ipynb\n",
      "2021-06-24  오후 04:01            12,157 bs_tags.ipynb\n",
      "2021-06-24  오후 02:36    <DIR>          files\n",
      "2021-06-24  오전 11:08            11,558 LICENSE\n",
      "2021-06-24  오전 11:27               115 new01.txt\n",
      "2021-06-24  오전 11:43               158 new02.txt\n",
      "2021-06-24  오전 11:08                36 README.md\n",
      "2021-06-24  오후 05:30    <DIR>          saves\n",
      "2021-06-24  오후 05:29            10,080 scraping_bs4_daum_economic01.ipynb\n",
      "2021-06-24  오후 05:08           117,080 scraping_bs4_daum_economy2.ipynb\n",
      "               9개 파일             173,361 바이트\n",
      "               6개 디렉터리  26,802,114,560 바이트 남음\n"
     ]
    }
   ],
   "source": [
    "!dir"
   ]
  },
  {
   "cell_type": "markdown",
   "id": "ec90d7b8",
   "metadata": {},
   "source": [
    "index 없이 저장하기"
   ]
  },
  {
   "cell_type": "code",
   "execution_count": 27,
   "id": "c1201faf",
   "metadata": {},
   "outputs": [],
   "source": [
    "pd.to_excel('./saves/economic01.xls', index=False)"
   ]
  },
  {
   "cell_type": "code",
   "execution_count": null,
   "id": "830d6493",
   "metadata": {},
   "outputs": [],
   "source": []
  }
 ],
 "metadata": {
  "kernelspec": {
   "display_name": "Python 3",
   "language": "python",
   "name": "python3"
  },
  "language_info": {
   "codemirror_mode": {
    "name": "ipython",
    "version": 3
   },
   "file_extension": ".py",
   "mimetype": "text/x-python",
   "name": "python",
   "nbconvert_exporter": "python",
   "pygments_lexer": "ipython3",
   "version": "3.6.4"
  }
 },
 "nbformat": 4,
 "nbformat_minor": 5
}
