{
 "cells": [
  {
   "cell_type": "code",
   "execution_count": 1,
   "id": "bd1a6cc8",
   "metadata": {},
   "outputs": [],
   "source": [
    "from selenium import webdriver"
   ]
  },
  {
   "cell_type": "code",
   "execution_count": 2,
   "id": "cdac0d36",
   "metadata": {},
   "outputs": [],
   "source": [
    "browser = webdriver.Chrome('./chromedriver.exe')"
   ]
  },
  {
   "cell_type": "code",
   "execution_count": 3,
   "id": "8aa099b5",
   "metadata": {},
   "outputs": [],
   "source": [
    "browser.get('https://www.jobindexworld.com/jobpost/list')"
   ]
  },
  {
   "cell_type": "code",
   "execution_count": 4,
   "id": "8b2a6859",
   "metadata": {},
   "outputs": [],
   "source": [
    "html = browser.page_source"
   ]
  },
  {
   "cell_type": "code",
   "execution_count": 5,
   "id": "1610555d",
   "metadata": {},
   "outputs": [],
   "source": [
    "from bs4 import BeautifulSoup"
   ]
  },
  {
   "cell_type": "code",
   "execution_count": 6,
   "id": "6ead4e7a",
   "metadata": {},
   "outputs": [],
   "source": [
    "soup = BeautifulSoup(html, 'html.parser')"
   ]
  },
  {
   "cell_type": "code",
   "execution_count": 10,
   "id": "44c07443",
   "metadata": {},
   "outputs": [
    {
     "name": "stdout",
     "output_type": "stream",
     "text": [
      "2번 양식으로\n",
      "0 2번 스크래핑 양식\n",
      "2번 양식으로\n",
      "1 2번 스크래핑 양식\n",
      "2번 양식으로\n",
      "2 2번 스크래핑 양식\n",
      "2번 양식으로\n",
      "3 2번 스크래핑 양식\n",
      "2번 양식으로\n",
      "4 2번 스크래핑 양식\n",
      "2번 양식으로\n",
      "5 2번 스크래핑 양식\n",
      "2번 양식으로\n",
      "6 2번 스크래핑 양식\n",
      "2번 양식으로\n",
      "7 2번 스크래핑 양식\n",
      "2번 양식으로\n",
      "8 2번 스크래핑 양식\n",
      "2번 양식으로\n",
      "9 2번 스크래핑 양식\n"
     ]
    }
   ],
   "source": [
    "import datetime\n",
    "import time\n",
    "\n",
    "for i in range(10):\n",
    "    try:\n",
    "        recruit_title = '' # 주제\n",
    "        company_name = '' # 회사명\n",
    "        company = '' # 회사개요 : 회사이름이 없어서 회사개요를 추가\n",
    "        detail_uri = '' # 내용 url\n",
    "\n",
    "        apply_start_date = '' # 모집기간\n",
    "        apply_end_date = '' # 모집기한\n",
    "\n",
    "        task = '' # 직무개요\n",
    "        career_requirements = '' # 교육요건\n",
    "        need_career = '' # 경력요건\n",
    "        team_env = '' # 처우\n",
    "        need_doc = '' # 제출서류\n",
    "\n",
    "        contact_people = '' # 담당컨설턴트\n",
    "        hashtag = '' # 해시태그\n",
    "        now = datetime.datetime.now()\n",
    "        create_date = now.strftime(\"%Y%m%d\") # 스크래핑 날짜\n",
    "\n",
    "        # click해서 들어간 창\n",
    "        browser.find_elements_by_css_selector('article.cpn-circle-conts-item')[i].click() # 클릭 페이지\n",
    "        time.sleep(1)\n",
    "        html_scraping = browser.page_source \n",
    "        soup_scraping = BeautifulSoup(html_scraping, 'html.parser')\n",
    "\n",
    "        tags_signs = soup_scraping.select('div.circle-conts-view-main-conts-box-question > div')\n",
    "\n",
    "        recruit = soup_scraping.select('article.circle-conts-view > h3.tit-h3') # 주제, 제목\n",
    "        recruit_title = recruit[0].text.strip()\n",
    "        \n",
    "        uri = soup_scraping.select('meta[property=\"og:url\"]') # 구직 회사 내용 화면\n",
    "        detail_uri = uri[0]['content']\n",
    "\n",
    "        start_date = soup_scraping.select('div.date')\n",
    "        start_date_t = start_date[0].text.strip()[1:9] # 날짜, 시간 -> data time: https://docs.python.org/ko/3/library/datetime.html\n",
    "        apply_start_date = '20'+start_date_t.replace('.','')\n",
    "\n",
    "    #---------------------------------------------------------------------------------------------------            \n",
    "        # 윗태그 2개 아래태그 5개 스크래핑 양식(career_requirements 컬럼이 없으므로 ' ' 추가)\n",
    "        if len(tags_signs) > 9:\n",
    "            print('1번 양식으로')\n",
    "            tags_li = soup_scraping.select('div.circle-conts-view-main-conts-box-question > div > ul > li')\n",
    "            \n",
    "            tags_li_data = []\n",
    "            for a in range(len(tags_li)):\n",
    "                tags_li_data.append(tags_li[a].text.strip().replace(' ','').replace('\\n','').split(':'))\n",
    "\n",
    "            for b in range(len(tags_li_data)):\n",
    "                if tags_li_data[b][0] == '회사개요':\n",
    "                    company_name = tags_li_data[b][1]\n",
    "                elif tags_li_data[b][0] == '모집기간':\n",
    "                    apply_end_date = tags_li_data[b][1]\n",
    "\n",
    "\n",
    "            tags = soup_scraping.select('div.circle-conts-view-main-conts-box-question > div')\n",
    "            tags = tags[1:len(tags)]\n",
    "            tags_data = []\n",
    "\n",
    "            for c in range(len(tags)):\n",
    "                tags_data.append(tags[c].text.strip().replace('◈ ',''))\n",
    "\n",
    "            for d in range(len(tags_data)):\n",
    "                if tags_data[d] == '직무 개요':\n",
    "                    task = tags_data[d+1]\n",
    "\n",
    "                elif tags_data[d] == '경력 요건':\n",
    "                    need_career = tags_data[d+1]\n",
    "\n",
    "                elif tags_data[d] == '처우':\n",
    "                    team_env = tags_data[d+1]\n",
    "\n",
    "                elif tags_data[d] == '제출 서류 및 기타':\n",
    "                    need_doc = tags_data[d+1]\n",
    "\n",
    "            career_requirements = None\n",
    "\n",
    "    #-------------------------------------------------------------------------------------------------\n",
    "        # 윗태그 5개 스크래핑 양식(task, need_doc이 없으므로 ' '을 추가)\n",
    "        else:\n",
    "            print('2번 양식으로')\n",
    "            tags_li = soup_scraping.select('div.circle-conts-view-main-conts-box-question > div > ul > li')\n",
    "            \n",
    "            tags_li_data = []\n",
    "            for e in range(len(tags_li)):\n",
    "                tags_li_data = tags_li[e].text.strip().replace(' ','').replace('\\n','').split(':')\n",
    "            \n",
    "            for f in range(len(tags_li_data)):\n",
    "                ('for문 진입')\n",
    "                if tags_li_data[f][0] == '회사개요':\n",
    "                    company = tags_li_data[f][1]\n",
    "                    print(company)\n",
    "                elif tags_li_data[f][0] == '경력레벨':\n",
    "                    need_career = tags_li_data[f][1]\n",
    "                    print(need_career)\n",
    "                elif tags_li_data[f][0] == '급여수준':\n",
    "                    team_env = tags_li_data[f][1]\n",
    "                    \n",
    "                elif tags_li_data[f][0] == '교육수준':\n",
    "                    career_requirements = tags_li_data[f][1]\n",
    "                    \n",
    "                elif tags_li_data[f][0] == '모집기간':\n",
    "                    apply_end_date = tags_li_data[f][1]\n",
    "            task = None\n",
    "            need_doc = None\n",
    "            print(i,'2번 스크래핑 양식')\n",
    "            print(company, need_career, team_env, career_requirments, apply_end_date, task, need_doc)\n",
    "    #---------------------------------------------------------------------------------------------------       \n",
    "\n",
    "        contact = soup_scraping.select('span.writer-info') # 담당컨설턴트\n",
    "        contact_people = contact[0].text.strip()[0:3] # 이름 뽑아내기\n",
    "        \n",
    "        hash_list = []\n",
    "        hash = soup_scraping.select('div.keyword-wrap > a.keyword') # 해시태그\n",
    "        for j in range(len(hash)):  # 반복문으로 해시태그들을 뽑아 리스트로 만들기\n",
    "            hash_t = hash[j].text.strip()\n",
    "            hash_list.append(hash_t)\n",
    "        \n",
    "        hashtag = ''    \n",
    "        for k in range(hash_col):\n",
    "            hashtag = hashtag + k\n",
    "\n",
    "        print(recruit_title, detail_uri, contact_people, hashtag, apply_start_date, apply_end_date, task, need_career, team_env, need_doc, career_requirements, create_date)\n",
    "\n",
    "        time.sleep(1)\n",
    "        browser.back()\n",
    "        # 더보기 button 클릭하기 태그 : i.icon-plus-sign-to-add\n",
    "    except:\n",
    "        pass"
   ]
  },
  {
   "cell_type": "code",
   "execution_count": 12,
   "id": "65f27cad",
   "metadata": {},
   "outputs": [
    {
     "data": {
      "text/plain": [
       "('법무/Compliance팀_팀장 채용',\n",
       " 'https://www.jobindexworld.com/jobpost/view/53231',\n",
       " '',\n",
       " '',\n",
       " '20210810',\n",
       " '',\n",
       " None,\n",
       " '',\n",
       " '',\n",
       " None,\n",
       " '',\n",
       " '20210910')"
      ]
     },
     "execution_count": 12,
     "metadata": {},
     "output_type": "execute_result"
    }
   ],
   "source": [
    "recruit_title, detail_uri, contact_people, hashtag, apply_start_date, apply_end_date, task, need_career, team_env, need_doc, career_requirements, create_date"
   ]
  },
  {
   "cell_type": "code",
   "execution_count": 13,
   "id": "1282788c",
   "metadata": {},
   "outputs": [],
   "source": [
    "browser.find_elements_by_css_selector('article.cpn-circle-conts-item')[1].click() # 클릭 페이지\n",
    "html_scraping = browser.page_source \n",
    "soup_scraping = BeautifulSoup(html_scraping, 'html.parser')"
   ]
  },
  {
   "cell_type": "code",
   "execution_count": 14,
   "id": "759e230e",
   "metadata": {},
   "outputs": [
    {
     "data": {
      "text/plain": [
       "[['회사개요', '국내IT사'],\n",
       " ['경력레벨', 'Senior,Lead,Manager'],\n",
       " ['급여수준', '협의'],\n",
       " ['교육수준', '학사'],\n",
       " ['모집기간', '채용시까지']]"
      ]
     },
     "execution_count": 14,
     "metadata": {},
     "output_type": "execute_result"
    }
   ],
   "source": [
    "tags_li = soup_scraping.select('div.circle-conts-view-main-conts-box-question > div > ul > li')\n",
    "tags_li_data = []\n",
    "for e in range(len(tags_li)):\n",
    "    tags_li_data.append(tags_li[e].text.strip().replace(' ','').replace('\\n','').split(':'))\n",
    "tags_li_data"
   ]
  },
  {
   "cell_type": "code",
   "execution_count": 18,
   "id": "cceb8700",
   "metadata": {},
   "outputs": [
    {
     "name": "stdout",
     "output_type": "stream",
     "text": [
      "국내IT사\n",
      "Senior,Lead,Manager\n",
      "협의\n",
      "학사\n",
      "채용시까지\n"
     ]
    },
    {
     "ename": "NameError",
     "evalue": "name 'career_requirments' is not defined",
     "output_type": "error",
     "traceback": [
      "\u001b[1;31m---------------------------------------------------------------------------\u001b[0m",
      "\u001b[1;31mNameError\u001b[0m                                 Traceback (most recent call last)",
      "\u001b[1;32m<ipython-input-18-5bdc38c11a42>\u001b[0m in \u001b[0;36m<module>\u001b[1;34m\u001b[0m\n\u001b[0;32m     23\u001b[0m \u001b[0mtask\u001b[0m \u001b[1;33m=\u001b[0m \u001b[1;32mNone\u001b[0m\u001b[1;33m\u001b[0m\u001b[1;33m\u001b[0m\u001b[0m\n\u001b[0;32m     24\u001b[0m \u001b[0mneed_doc\u001b[0m \u001b[1;33m=\u001b[0m \u001b[1;32mNone\u001b[0m\u001b[1;33m\u001b[0m\u001b[1;33m\u001b[0m\u001b[0m\n\u001b[1;32m---> 25\u001b[1;33m \u001b[0mprint\u001b[0m\u001b[1;33m(\u001b[0m\u001b[0mcompany\u001b[0m\u001b[1;33m,\u001b[0m \u001b[0mneed_career\u001b[0m\u001b[1;33m,\u001b[0m \u001b[0mteam_env\u001b[0m\u001b[1;33m,\u001b[0m \u001b[0mcareer_requirments\u001b[0m\u001b[1;33m,\u001b[0m \u001b[0mapply_end_date\u001b[0m\u001b[1;33m,\u001b[0m \u001b[0mtask\u001b[0m\u001b[1;33m,\u001b[0m \u001b[0mneed_doc\u001b[0m\u001b[1;33m)\u001b[0m\u001b[1;33m\u001b[0m\u001b[1;33m\u001b[0m\u001b[0m\n\u001b[0m",
      "\u001b[1;31mNameError\u001b[0m: name 'career_requirments' is not defined"
     ]
    }
   ],
   "source": [
    "tags_li = soup_scraping.select('div.circle-conts-view-main-conts-box-question > div > ul > li')\n",
    "tags_li_data = []\n",
    "for e in range(len(tags_li)):\n",
    "    tags_li_data.append(tags_li[e].text.strip().replace(' ','').replace('\\n','').split(':'))\n",
    "tags_li_data\n",
    "\n",
    "for f in range(len(tags_li_data)):\n",
    "    if tags_li_data[f][0] == '회사개요':\n",
    "        company = tags_li_data[f][1]\n",
    "        print(company)\n",
    "    elif tags_li_data[f][0] == '경력레벨':\n",
    "        need_career = tags_li_data[f][1]\n",
    "        print(need_career)\n",
    "    elif tags_li_data[f][0] == '급여수준':\n",
    "        team_env = tags_li_data[f][1]\n",
    "        print(team_env)\n",
    "    elif tags_li_data[f][0] == '교육수준':\n",
    "        career_requirements = tags_li_data[f][1]\n",
    "        print(career_requirements)\n",
    "    elif tags_li_data[f][0] == '모집기간':\n",
    "        apply_end_date = tags_li_data[f][1]\n",
    "        print(apply_end_date)\n",
    "        \n",
    "task = None\n",
    "need_doc = None\n",
    "print(company, need_career, team_env, career_requirments, apply_end_date, task, need_doc)\n"
   ]
  },
  {
   "cell_type": "code",
   "execution_count": null,
   "id": "ce75b201",
   "metadata": {},
   "outputs": [],
   "source": []
  }
 ],
 "metadata": {
  "kernelspec": {
   "display_name": "Python 3",
   "language": "python",
   "name": "python3"
  },
  "language_info": {
   "codemirror_mode": {
    "name": "ipython",
    "version": 3
   },
   "file_extension": ".py",
   "mimetype": "text/x-python",
   "name": "python",
   "nbconvert_exporter": "python",
   "pygments_lexer": "ipython3",
   "version": "3.8.8"
  }
 },
 "nbformat": 4,
 "nbformat_minor": 5
}
