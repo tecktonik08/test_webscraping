{
 "cells": [
  {
   "cell_type": "code",
   "execution_count": 1,
   "id": "dd561c60",
   "metadata": {},
   "outputs": [],
   "source": [
    "from selenium import webdriver"
   ]
  },
  {
   "cell_type": "code",
   "execution_count": 2,
   "id": "79173036",
   "metadata": {},
   "outputs": [],
   "source": [
    "browser = webdriver.Chrome('./chromedriver.exe')"
   ]
  },
  {
   "cell_type": "code",
   "execution_count": 4,
   "id": "727d8466",
   "metadata": {},
   "outputs": [],
   "source": [
    "browser.get('https://sports.news.naver.com/kbaseball/record/index?category=kbo')"
   ]
  },
  {
   "cell_type": "code",
   "execution_count": 5,
   "id": "a892624b",
   "metadata": {},
   "outputs": [],
   "source": [
    "html = browser.page_source"
   ]
  },
  {
   "cell_type": "code",
   "execution_count": 6,
   "id": "b02090cd",
   "metadata": {},
   "outputs": [],
   "source": [
    "from bs4 import BeautifulSoup as bs"
   ]
  },
  {
   "cell_type": "code",
   "execution_count": 7,
   "id": "ab6198a1",
   "metadata": {},
   "outputs": [],
   "source": [
    "soup = bs(html, 'html.parser')"
   ]
  },
  {
   "cell_type": "code",
   "execution_count": 8,
   "id": "d20f7b4c",
   "metadata": {},
   "outputs": [
    {
     "data": {
      "text/plain": [
       "[<span id=\"team_LG\">LG</span>,\n",
       " <span id=\"team_SS\">삼성</span>,\n",
       " <span id=\"team_KT\">KT</span>,\n",
       " <span id=\"team_SK\">SSG</span>,\n",
       " <span id=\"team_NC\">NC</span>,\n",
       " <span id=\"team_OB\">두산</span>,\n",
       " <span id=\"team_WO\">키움</span>,\n",
       " <span id=\"team_LT\">롯데</span>,\n",
       " <span id=\"team_HT\">KIA</span>,\n",
       " <span id=\"team_HH\">한화</span>]"
      ]
     },
     "execution_count": 8,
     "metadata": {},
     "output_type": "execute_result"
    }
   ],
   "source": [
    "tags = soup.select('div > span[id]')\n",
    "tags"
   ]
  },
  {
   "cell_type": "code",
   "execution_count": 9,
   "id": "9a86efa0",
   "metadata": {},
   "outputs": [
    {
     "data": {
      "text/plain": [
       "(10, bs4.element.ResultSet)"
      ]
     },
     "execution_count": 9,
     "metadata": {},
     "output_type": "execute_result"
    }
   ],
   "source": [
    "len(tags), type(tags)"
   ]
  },
  {
   "cell_type": "code",
   "execution_count": 10,
   "id": "dc304789",
   "metadata": {},
   "outputs": [],
   "source": [
    "tag = tags[0]"
   ]
  },
  {
   "cell_type": "code",
   "execution_count": 11,
   "id": "74f623ca",
   "metadata": {},
   "outputs": [
    {
     "data": {
      "text/plain": [
       "'LG'"
      ]
     },
     "execution_count": 11,
     "metadata": {},
     "output_type": "execute_result"
    }
   ],
   "source": [
    "tag.text"
   ]
  },
  {
   "cell_type": "code",
   "execution_count": 17,
   "id": "121a4ee0",
   "metadata": {},
   "outputs": [
    {
     "data": {
      "text/plain": [
       "['LG', '삼성', 'KT', 'SSG', 'NC', '두산', '키움', '롯데', 'KIA', '한화']"
      ]
     },
     "execution_count": 17,
     "metadata": {},
     "output_type": "execute_result"
    }
   ],
   "source": [
    "teams = []\n",
    "for i in tags:\n",
    "    team = i.text\n",
    "    teams.append(team)\n",
    "teams"
   ]
  },
  {
   "cell_type": "code",
   "execution_count": null,
   "id": "d63f9ec5",
   "metadata": {},
   "outputs": [],
   "source": []
  }
 ],
 "metadata": {
  "kernelspec": {
   "display_name": "Python 3",
   "language": "python",
   "name": "python3"
  },
  "language_info": {
   "codemirror_mode": {
    "name": "ipython",
    "version": 3
   },
   "file_extension": ".py",
   "mimetype": "text/x-python",
   "name": "python",
   "nbconvert_exporter": "python",
   "pygments_lexer": "ipython3",
   "version": "3.6.4"
  }
 },
 "nbformat": 4,
 "nbformat_minor": 5
}
