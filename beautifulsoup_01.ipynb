{
 "cells": [
  {
   "cell_type": "code",
   "execution_count": 3,
   "id": "ad08a58e",
   "metadata": {},
   "outputs": [],
   "source": [
    "from bs4 import BeautifulSoup as bs"
   ]
  },
  {
   "cell_type": "markdown",
   "id": "cb0d5568",
   "metadata": {},
   "source": [
    "2초마다 새로고침"
   ]
  },
  {
   "cell_type": "code",
   "execution_count": 2,
   "id": "aa8cef4d",
   "metadata": {},
   "outputs": [],
   "source": [
    "%load_ext autoreload\n",
    "%autoreload 2"
   ]
  },
  {
   "cell_type": "code",
   "execution_count": 4,
   "id": "33c316fb",
   "metadata": {},
   "outputs": [],
   "source": [
    "html = '<html><p>first string</p></html>'"
   ]
  },
  {
   "cell_type": "code",
   "execution_count": 6,
   "id": "c439ee87",
   "metadata": {},
   "outputs": [
    {
     "data": {
      "text/plain": [
       "<html><body><p>first string</p></body></html>"
      ]
     },
     "execution_count": 6,
     "metadata": {},
     "output_type": "execute_result"
    }
   ],
   "source": [
    "b = bs(html)\n",
    "b"
   ]
  },
  {
   "cell_type": "code",
   "execution_count": 8,
   "id": "f7860516",
   "metadata": {},
   "outputs": [
    {
     "data": {
      "text/plain": [
       "<p>first string</p>"
      ]
     },
     "execution_count": 8,
     "metadata": {},
     "output_type": "execute_result"
    }
   ],
   "source": [
    "b.p"
   ]
  },
  {
   "cell_type": "code",
   "execution_count": 10,
   "id": "f61e7f19",
   "metadata": {},
   "outputs": [
    {
     "data": {
      "text/plain": [
       "(bs4.BeautifulSoup, bs4.element.Tag)"
      ]
     },
     "execution_count": 10,
     "metadata": {},
     "output_type": "execute_result"
    }
   ],
   "source": [
    "type(b), type(b.p)"
   ]
  },
  {
   "cell_type": "code",
   "execution_count": 11,
   "id": "bbfee57c",
   "metadata": {},
   "outputs": [
    {
     "data": {
      "text/plain": [
       "'<html>\\n <body>\\n  <p>\\n   first string\\n  </p>\\n </body>\\n</html>'"
      ]
     },
     "execution_count": 11,
     "metadata": {},
     "output_type": "execute_result"
    }
   ],
   "source": [
    "b.prettify()"
   ]
  },
  {
   "cell_type": "code",
   "execution_count": null,
   "id": "6900aef1",
   "metadata": {},
   "outputs": [],
   "source": []
  }
 ],
 "metadata": {
  "kernelspec": {
   "display_name": "Python 3",
   "language": "python",
   "name": "python3"
  },
  "language_info": {
   "codemirror_mode": {
    "name": "ipython",
    "version": 3
   },
   "file_extension": ".py",
   "mimetype": "text/x-python",
   "name": "python",
   "nbconvert_exporter": "python",
   "pygments_lexer": "ipython3",
   "version": "3.6.4"
  }
 },
 "nbformat": 4,
 "nbformat_minor": 5
}
